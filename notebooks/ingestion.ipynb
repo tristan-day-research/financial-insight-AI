{
 "cells": [
  {
   "cell_type": "markdown",
   "id": "4b782f06",
   "metadata": {},
   "source": [
    "# Download raw data"
   ]
  },
  {
   "cell_type": "code",
   "execution_count": null,
   "id": "6d293145",
   "metadata": {},
   "outputs": [],
   "source": [
    "%load_ext autoreload\n",
    "%autoreload 2\n",
    "\n",
    "# Import necessary modules\n",
    "import sys\n",
    "from pathlib import Path\n",
    "\n",
    "# Add the project root to Python path so we can import our modules\n",
    "project_root = Path.cwd().parent\n",
    "sys.path.append(str(project_root))\n",
    "\n",
    "\n",
    "from knowledge_base.src.ingestion.sec_downloader import SECDownloader\n",
    "\n",
    "# Create our downloader instance\n",
    "downloader = SECDownloader()\n",
    "\n",
    "# Test the connection by getting basic company info\n",
    "company_info = downloader.get_company_info('MSTR')\n",
    "print(\"Company Info for MSTR:\")\n",
    "print(company_info)"
   ]
  },
  {
   "cell_type": "code",
   "execution_count": null,
   "id": "c62181a0",
   "metadata": {},
   "outputs": [],
   "source": [
    "# Import required modules\n",
    "import json\n",
    "from pathlib import Path\n",
    "\n",
    "# Download and process filings\n",
    "filings = downloader.download_company_filings(\n",
    "    ticker='RDDT',\n",
    "    filing_types=['10-K'],  # Just annual reports\n",
    "    num_filings=2  # Get the most recent filings\n",
    ")\n",
    "\n",
    "print(\"\\nDownloaded Filing Metadata:\")\n",
    "for filing in filings:\n",
    "    print(f\"\\nFiling Type: {filing.get('type')}\")\n",
    "    print(f\"Filing Date: {filing.get('period_of_report', 'N/A')}\")\n",
    "    print(f\"Accession Number: {filing.get('accession_number', 'N/A')}\")\n",
    "    print(f\"File Path: {filing.get('file_path')}\")\n",
    "    \n",
    "    # Get metadata file path\n",
    "    doc_dir = Path(filing['file_path']).parent\n",
    "    metadata_path = doc_dir / \"metadata.json\"\n",
    "    \n",
    "    # Read and display the saved metadata\n",
    "    if metadata_path.exists():\n",
    "        with open(metadata_path, 'r') as f:\n",
    "            metadata = json.load(f)\n",
    "            print(\"\\nStored Metadata:\")\n",
    "            print(json.dumps(metadata, indent=2))\n"
   ]
  },
  {
   "cell_type": "raw",
   "id": "117b31fd",
   "metadata": {
    "vscode": {
     "languageId": "raw"
    }
   },
   "source": [
    "## Enhanced Metadata Storage for Federated Knowledge Base\n",
    "\n",
    "Each SEC filing is now stored with comprehensive metadata to support integration with multiple knowledge stores:\n",
    "\n",
    "### Storage Location\n",
    "- Metadata is stored as `metadata.json` in the same directory as its raw document\n",
    "- Example path: `data/raw/sec-edgar-filings/AAPL/10-K/0000320193-22-000108/metadata.json`\n",
    "\n",
    "### Metadata Schema\n",
    "\n",
    "1. **Document Identification**\n",
    "   - Unique document ID (SEC accession number)\n",
    "   - Ticker symbol\n",
    "   - Filing type\n",
    "   - Filing date\n",
    "   - Accession number\n",
    "\n",
    "2. **File Information**\n",
    "   - Path to raw document\n",
    "   - Filename\n",
    "   - File size\n",
    "   - Last modified timestamp\n",
    "\n",
    "3. **Company Information**\n",
    "   - Company name\n",
    "   - CIK (Central Index Key)\n",
    "   - Fiscal year end\n",
    "   - Business address\n",
    "\n",
    "4. **Document Metadata**\n",
    "   - Title\n",
    "   - Source (SEC EDGAR)\n",
    "   - Language\n",
    "   - Document type\n",
    "   - Filing period\n",
    "   - Document date\n",
    "\n",
    "5. **Processing Metadata**\n",
    "   - Download timestamp\n",
    "   - Download agent\n",
    "   - Source API\n",
    "   - Schema version\n",
    "\n",
    "6. **Knowledge Base Integration**\n",
    "   - Vector store ID (for semantic search)\n",
    "   - SQL record ID (for structured data)\n",
    "   - Graph node ID (for relationship mapping)\n",
    "   - Related documents\n",
    "   - Searchable tags\n",
    "\n",
    "This enhanced metadata structure supports:\n",
    "- Cross-referencing between different storage systems\n",
    "- Rich document relationships and context\n",
    "- Efficient document retrieval and filtering\n",
    "- Integration with SQL, vector, and graph databases\n"
   ]
  },
  {
   "cell_type": "raw",
   "metadata": {
    "vscode": {
     "languageId": "raw"
    }
   },
   "source": [
    "## Metadata Storage\n",
    "\n",
    "The SEC filing metadata is now stored in JSON files in the `data/raw/metadata` directory. Each metadata file contains:\n",
    "\n",
    "1. Basic filing information:\n",
    "   - Ticker symbol\n",
    "   - Filing type (10-K, 10-Q, etc.)\n",
    "   - Filing date\n",
    "   - File path to the raw document\n",
    "   - Accession number\n",
    "   - File size\n",
    "   - Download timestamp\n",
    "\n",
    "2. Extracted document metadata:\n",
    "   - Company name\n",
    "   - CIK (Central Index Key)\n",
    "   - Fiscal year end\n",
    "   - Period of report\n",
    "   - Business address\n",
    "   - Financial indicators (presence of revenue data, profit data, etc.)\n",
    "\n",
    "The metadata files are named using the pattern: `{ticker}_{type}_{date}_metadata.json`\n"
   ]
  },
  {
   "cell_type": "markdown",
   "id": "8fce4585",
   "metadata": {},
   "source": [
    "# SQL Database"
   ]
  },
  {
   "cell_type": "markdown",
   "id": "af7054a2",
   "metadata": {},
   "source": [
    "## Processing for SQL Database data"
   ]
  },
  {
   "cell_type": "code",
   "execution_count": 25,
   "id": "f2efcaca",
   "metadata": {},
   "outputs": [
    {
     "name": "stderr",
     "output_type": "stream",
     "text": [
      "2025-08-06 16:29:27,417 - pyrate_limiter - INFO - Initializing default bucket(InMemoryBucket) with rates: [limit=10/1000]\n"
     ]
    },
    {
     "name": "stdout",
     "output_type": "stream",
     "text": [
      "The autoreload extension is already loaded. To reload it, use:\n",
      "  %reload_ext autoreload\n",
      "Current working directory: /Users/daylight/Desktop/Financial Insight AI/notebooks\n",
      "Project root: /Users/daylight/Desktop/Financial Insight AI\n"
     ]
    },
    {
     "name": "stderr",
     "output_type": "stream",
     "text": [
      "2025-08-06 16:29:30,101 - knowledge_base.src.storage.sql_store - INFO - Created SQL engine: sqlite:////Users/daylight/Desktop/Financial Insight AI/knowledge_base/data/financial_kb.db\n",
      "2025-08-06 16:29:30,104 - knowledge_base.src.storage.sql_store - INFO - Created SQL tables\n",
      "2025-08-06 16:29:30,280 - knowledge_base.src.ingestion.sec_downloader - INFO - Downloading 10-K filings for RDDT\n"
     ]
    },
    {
     "name": "stdout",
     "output_type": "stream",
     "text": [
      "RDDT ['10-K'] 5\n"
     ]
    },
    {
     "name": "stderr",
     "output_type": "stream",
     "text": [
      "2025-08-06 16:29:30,600 - knowledge_base.src.ingestion.sec_downloader - INFO - Company fiscal year end: 20XX-12-31 (from code: 1231)\n",
      "2025-08-06 16:29:30,602 - knowledge_base.src.ingestion.sec_downloader - INFO - Available fields in filings: ['accessionNumber', 'filingDate', 'reportDate', 'acceptanceDateTime', 'act', 'form', 'fileNumber', 'filmNumber', 'items', 'core_type', 'size', 'isXBRL', 'isInlineXBRL', 'primaryDocument', 'primaryDocDescription']\n",
      "2025-08-06 16:29:30,602 - knowledge_base.src.ingestion.sec_downloader - WARNING - fiscalYearEnd field not found in filings data\n",
      "2025-08-06 16:29:30,603 - knowledge_base.src.ingestion.sec_downloader - INFO - form (first 3 entries): ['SCHEDULE 13G/A', '144', '10-Q']\n",
      "2025-08-06 16:29:30,603 - knowledge_base.src.ingestion.sec_downloader - INFO - reportDate (first 3 entries): ['', '', '2025-06-30']\n",
      "2025-08-06 16:29:30,604 - knowledge_base.src.ingestion.sec_downloader - INFO - accessionNumber (first 3 entries): ['0000315066-25-001946', '0001950047-25-005438', '0001713445-25-000196']\n",
      "2025-08-06 16:29:30,604 - knowledge_base.src.ingestion.sec_downloader - WARNING - Field 'fiscalYearEnd' not found in filings data\n"
     ]
    },
    {
     "ename": "KeyboardInterrupt",
     "evalue": "",
     "output_type": "error",
     "traceback": [
      "\u001b[0;31m---------------------------------------------------------------------------\u001b[0m",
      "\u001b[0;31mKeyboardInterrupt\u001b[0m                         Traceback (most recent call last)",
      "Cell \u001b[0;32mIn[25], line 39\u001b[0m\n\u001b[1;32m     36\u001b[0m sql_manager \u001b[38;5;241m=\u001b[39m FinancialMetricsManager()\n\u001b[1;32m     38\u001b[0m \u001b[38;5;66;03m# Step 1: Download SEC filing\u001b[39;00m\n\u001b[0;32m---> 39\u001b[0m filings \u001b[38;5;241m=\u001b[39m \u001b[43mdownloader\u001b[49m\u001b[38;5;241;43m.\u001b[39;49m\u001b[43mdownload_company_filings\u001b[49m\u001b[43m(\u001b[49m\n\u001b[1;32m     40\u001b[0m \u001b[43m    \u001b[49m\u001b[43mticker\u001b[49m\u001b[38;5;241;43m=\u001b[39;49m\u001b[43mTEST_TICKER\u001b[49m\u001b[43m,\u001b[49m\n\u001b[1;32m     41\u001b[0m \u001b[43m    \u001b[49m\u001b[43mfiling_types\u001b[49m\u001b[38;5;241;43m=\u001b[39;49m\u001b[43m[\u001b[49m\u001b[38;5;124;43m'\u001b[39;49m\u001b[38;5;124;43m10-K\u001b[39;49m\u001b[38;5;124;43m'\u001b[39;49m\u001b[43m]\u001b[49m\u001b[43m,\u001b[49m\n\u001b[1;32m     42\u001b[0m \u001b[43m    \u001b[49m\u001b[43mnum_filings\u001b[49m\u001b[38;5;241;43m=\u001b[39;49m\u001b[38;5;241;43m5\u001b[39;49m\n\u001b[1;32m     43\u001b[0m \u001b[43m)\u001b[49m\n\u001b[1;32m     45\u001b[0m \u001b[38;5;28mprint\u001b[39m(\u001b[38;5;124m\"\u001b[39m\u001b[38;5;124mlen(filings)\u001b[39m\u001b[38;5;124m\"\u001b[39m, \u001b[38;5;28mlen\u001b[39m(filings))\n\u001b[1;32m     47\u001b[0m \u001b[38;5;66;03m# Step 2: Process the filing\u001b[39;00m\n",
      "File \u001b[0;32m~/Desktop/Financial Insight AI/knowledge_base/src/ingestion/sec_downloader.py:327\u001b[0m, in \u001b[0;36mSECDownloader.download_company_filings\u001b[0;34m(self, ticker, filing_types, num_filings, after_date)\u001b[0m\n\u001b[1;32m    324\u001b[0m base_url \u001b[38;5;241m=\u001b[39m \u001b[38;5;124mf\u001b[39m\u001b[38;5;124m\"\u001b[39m\u001b[38;5;124mhttps://www.sec.gov/Archives/edgar/data/\u001b[39m\u001b[38;5;132;01m{\u001b[39;00mcik\u001b[38;5;132;01m}\u001b[39;00m\u001b[38;5;124m/\u001b[39m\u001b[38;5;132;01m{\u001b[39;00maccession\u001b[38;5;132;01m}\u001b[39;00m\u001b[38;5;124m/\u001b[39m\u001b[38;5;124m\"\u001b[39m\n\u001b[1;32m    326\u001b[0m \u001b[38;5;28;01mif\u001b[39;00m main_doc:\n\u001b[0;32m--> 327\u001b[0m     \u001b[38;5;28;43mself\u001b[39;49m\u001b[38;5;241;43m.\u001b[39;49m\u001b[43m_download_file\u001b[49m\u001b[43m(\u001b[49m\u001b[43mbase_url\u001b[49m\u001b[43m \u001b[49m\u001b[38;5;241;43m+\u001b[39;49m\u001b[43m \u001b[49m\u001b[43mmain_doc\u001b[49m\u001b[43m,\u001b[49m\u001b[43m \u001b[49m\u001b[43mfiling_dir\u001b[49m\u001b[43m \u001b[49m\u001b[38;5;241;43m/\u001b[39;49m\u001b[43m \u001b[49m\u001b[38;5;124;43m'\u001b[39;49m\u001b[38;5;124;43mfull-submission.txt\u001b[39;49m\u001b[38;5;124;43m'\u001b[39;49m\u001b[43m)\u001b[49m\n\u001b[1;32m    328\u001b[0m \u001b[38;5;28;01mif\u001b[39;00m xbrl_doc:\n\u001b[1;32m    329\u001b[0m     \u001b[38;5;28mself\u001b[39m\u001b[38;5;241m.\u001b[39m_download_file(base_url \u001b[38;5;241m+\u001b[39m xbrl_doc, filing_dir \u001b[38;5;241m/\u001b[39m \u001b[38;5;124mf\u001b[39m\u001b[38;5;124m\"\u001b[39m\u001b[38;5;132;01m{\u001b[39;00maccession\u001b[38;5;132;01m}\u001b[39;00m\u001b[38;5;124m_xbrl.xml\u001b[39m\u001b[38;5;124m\"\u001b[39m)\n",
      "File \u001b[0;32m~/Desktop/Financial Insight AI/knowledge_base/src/ingestion/sec_downloader.py:407\u001b[0m, in \u001b[0;36mSECDownloader._download_file\u001b[0;34m(self, url, target_path)\u001b[0m\n\u001b[1;32m    405\u001b[0m \u001b[38;5;250m\u001b[39m\u001b[38;5;124;03m\"\"\"Download a file from SEC EDGAR.\"\"\"\u001b[39;00m\n\u001b[1;32m    406\u001b[0m \u001b[38;5;28mself\u001b[39m\u001b[38;5;241m.\u001b[39m_rate_limit_delay()\n\u001b[0;32m--> 407\u001b[0m response \u001b[38;5;241m=\u001b[39m \u001b[43mrequests\u001b[49m\u001b[38;5;241;43m.\u001b[39;49m\u001b[43mget\u001b[49m\u001b[43m(\u001b[49m\u001b[43murl\u001b[49m\u001b[43m,\u001b[49m\u001b[43m \u001b[49m\u001b[43mheaders\u001b[49m\u001b[38;5;241;43m=\u001b[39;49m\u001b[38;5;28;43mself\u001b[39;49m\u001b[38;5;241;43m.\u001b[39;49m\u001b[43mheaders\u001b[49m\u001b[43m)\u001b[49m\n\u001b[1;32m    408\u001b[0m \u001b[38;5;28;01mif\u001b[39;00m response\u001b[38;5;241m.\u001b[39mstatus_code \u001b[38;5;241m==\u001b[39m \u001b[38;5;241m200\u001b[39m:\n\u001b[1;32m    409\u001b[0m     \u001b[38;5;28;01mwith\u001b[39;00m \u001b[38;5;28mopen\u001b[39m(target_path, \u001b[38;5;124m'\u001b[39m\u001b[38;5;124mwb\u001b[39m\u001b[38;5;124m'\u001b[39m) \u001b[38;5;28;01mas\u001b[39;00m f:\n",
      "File \u001b[0;32m~/Desktop/Financial Insight AI/venv/lib/python3.9/site-packages/requests/api.py:73\u001b[0m, in \u001b[0;36mget\u001b[0;34m(url, params, **kwargs)\u001b[0m\n\u001b[1;32m     62\u001b[0m \u001b[38;5;28;01mdef\u001b[39;00m\u001b[38;5;250m \u001b[39m\u001b[38;5;21mget\u001b[39m(url, params\u001b[38;5;241m=\u001b[39m\u001b[38;5;28;01mNone\u001b[39;00m, \u001b[38;5;241m*\u001b[39m\u001b[38;5;241m*\u001b[39mkwargs):\n\u001b[1;32m     63\u001b[0m \u001b[38;5;250m    \u001b[39m\u001b[38;5;124mr\u001b[39m\u001b[38;5;124;03m\"\"\"Sends a GET request.\u001b[39;00m\n\u001b[1;32m     64\u001b[0m \n\u001b[1;32m     65\u001b[0m \u001b[38;5;124;03m    :param url: URL for the new :class:`Request` object.\u001b[39;00m\n\u001b[0;32m   (...)\u001b[0m\n\u001b[1;32m     70\u001b[0m \u001b[38;5;124;03m    :rtype: requests.Response\u001b[39;00m\n\u001b[1;32m     71\u001b[0m \u001b[38;5;124;03m    \"\"\"\u001b[39;00m\n\u001b[0;32m---> 73\u001b[0m     \u001b[38;5;28;01mreturn\u001b[39;00m \u001b[43mrequest\u001b[49m\u001b[43m(\u001b[49m\u001b[38;5;124;43m\"\u001b[39;49m\u001b[38;5;124;43mget\u001b[39;49m\u001b[38;5;124;43m\"\u001b[39;49m\u001b[43m,\u001b[49m\u001b[43m \u001b[49m\u001b[43murl\u001b[49m\u001b[43m,\u001b[49m\u001b[43m \u001b[49m\u001b[43mparams\u001b[49m\u001b[38;5;241;43m=\u001b[39;49m\u001b[43mparams\u001b[49m\u001b[43m,\u001b[49m\u001b[43m \u001b[49m\u001b[38;5;241;43m*\u001b[39;49m\u001b[38;5;241;43m*\u001b[39;49m\u001b[43mkwargs\u001b[49m\u001b[43m)\u001b[49m\n",
      "File \u001b[0;32m~/Desktop/Financial Insight AI/venv/lib/python3.9/site-packages/requests/api.py:59\u001b[0m, in \u001b[0;36mrequest\u001b[0;34m(method, url, **kwargs)\u001b[0m\n\u001b[1;32m     55\u001b[0m \u001b[38;5;66;03m# By using the 'with' statement we are sure the session is closed, thus we\u001b[39;00m\n\u001b[1;32m     56\u001b[0m \u001b[38;5;66;03m# avoid leaving sockets open which can trigger a ResourceWarning in some\u001b[39;00m\n\u001b[1;32m     57\u001b[0m \u001b[38;5;66;03m# cases, and look like a memory leak in others.\u001b[39;00m\n\u001b[1;32m     58\u001b[0m \u001b[38;5;28;01mwith\u001b[39;00m sessions\u001b[38;5;241m.\u001b[39mSession() \u001b[38;5;28;01mas\u001b[39;00m session:\n\u001b[0;32m---> 59\u001b[0m     \u001b[38;5;28;01mreturn\u001b[39;00m \u001b[43msession\u001b[49m\u001b[38;5;241;43m.\u001b[39;49m\u001b[43mrequest\u001b[49m\u001b[43m(\u001b[49m\u001b[43mmethod\u001b[49m\u001b[38;5;241;43m=\u001b[39;49m\u001b[43mmethod\u001b[49m\u001b[43m,\u001b[49m\u001b[43m \u001b[49m\u001b[43murl\u001b[49m\u001b[38;5;241;43m=\u001b[39;49m\u001b[43murl\u001b[49m\u001b[43m,\u001b[49m\u001b[43m \u001b[49m\u001b[38;5;241;43m*\u001b[39;49m\u001b[38;5;241;43m*\u001b[39;49m\u001b[43mkwargs\u001b[49m\u001b[43m)\u001b[49m\n",
      "File \u001b[0;32m~/Desktop/Financial Insight AI/venv/lib/python3.9/site-packages/requests/sessions.py:579\u001b[0m, in \u001b[0;36mSession.request\u001b[0;34m(self, method, url, params, data, headers, cookies, files, auth, timeout, allow_redirects, proxies, hooks, stream, verify, cert, json)\u001b[0m\n\u001b[1;32m    575\u001b[0m prep \u001b[38;5;241m=\u001b[39m \u001b[38;5;28mself\u001b[39m\u001b[38;5;241m.\u001b[39mprepare_request(req)\n\u001b[1;32m    577\u001b[0m proxies \u001b[38;5;241m=\u001b[39m proxies \u001b[38;5;129;01mor\u001b[39;00m {}\n\u001b[0;32m--> 579\u001b[0m settings \u001b[38;5;241m=\u001b[39m \u001b[38;5;28;43mself\u001b[39;49m\u001b[38;5;241;43m.\u001b[39;49m\u001b[43mmerge_environment_settings\u001b[49m\u001b[43m(\u001b[49m\n\u001b[1;32m    580\u001b[0m \u001b[43m    \u001b[49m\u001b[43mprep\u001b[49m\u001b[38;5;241;43m.\u001b[39;49m\u001b[43murl\u001b[49m\u001b[43m,\u001b[49m\u001b[43m \u001b[49m\u001b[43mproxies\u001b[49m\u001b[43m,\u001b[49m\u001b[43m \u001b[49m\u001b[43mstream\u001b[49m\u001b[43m,\u001b[49m\u001b[43m \u001b[49m\u001b[43mverify\u001b[49m\u001b[43m,\u001b[49m\u001b[43m \u001b[49m\u001b[43mcert\u001b[49m\n\u001b[1;32m    581\u001b[0m \u001b[43m\u001b[49m\u001b[43m)\u001b[49m\n\u001b[1;32m    583\u001b[0m \u001b[38;5;66;03m# Send the request.\u001b[39;00m\n\u001b[1;32m    584\u001b[0m send_kwargs \u001b[38;5;241m=\u001b[39m {\n\u001b[1;32m    585\u001b[0m     \u001b[38;5;124m\"\u001b[39m\u001b[38;5;124mtimeout\u001b[39m\u001b[38;5;124m\"\u001b[39m: timeout,\n\u001b[1;32m    586\u001b[0m     \u001b[38;5;124m\"\u001b[39m\u001b[38;5;124mallow_redirects\u001b[39m\u001b[38;5;124m\"\u001b[39m: allow_redirects,\n\u001b[1;32m    587\u001b[0m }\n",
      "File \u001b[0;32m~/Desktop/Financial Insight AI/venv/lib/python3.9/site-packages/requests/sessions.py:761\u001b[0m, in \u001b[0;36mSession.merge_environment_settings\u001b[0;34m(self, url, proxies, stream, verify, cert)\u001b[0m\n\u001b[1;32m    758\u001b[0m \u001b[38;5;28;01mif\u001b[39;00m \u001b[38;5;28mself\u001b[39m\u001b[38;5;241m.\u001b[39mtrust_env:\n\u001b[1;32m    759\u001b[0m     \u001b[38;5;66;03m# Set environment's proxies.\u001b[39;00m\n\u001b[1;32m    760\u001b[0m     no_proxy \u001b[38;5;241m=\u001b[39m proxies\u001b[38;5;241m.\u001b[39mget(\u001b[38;5;124m\"\u001b[39m\u001b[38;5;124mno_proxy\u001b[39m\u001b[38;5;124m\"\u001b[39m) \u001b[38;5;28;01mif\u001b[39;00m proxies \u001b[38;5;129;01mis\u001b[39;00m \u001b[38;5;129;01mnot\u001b[39;00m \u001b[38;5;28;01mNone\u001b[39;00m \u001b[38;5;28;01melse\u001b[39;00m \u001b[38;5;28;01mNone\u001b[39;00m\n\u001b[0;32m--> 761\u001b[0m     env_proxies \u001b[38;5;241m=\u001b[39m \u001b[43mget_environ_proxies\u001b[49m\u001b[43m(\u001b[49m\u001b[43murl\u001b[49m\u001b[43m,\u001b[49m\u001b[43m \u001b[49m\u001b[43mno_proxy\u001b[49m\u001b[38;5;241;43m=\u001b[39;49m\u001b[43mno_proxy\u001b[49m\u001b[43m)\u001b[49m\n\u001b[1;32m    762\u001b[0m     \u001b[38;5;28;01mfor\u001b[39;00m (k, v) \u001b[38;5;129;01min\u001b[39;00m env_proxies\u001b[38;5;241m.\u001b[39mitems():\n\u001b[1;32m    763\u001b[0m         proxies\u001b[38;5;241m.\u001b[39msetdefault(k, v)\n",
      "File \u001b[0;32m~/Desktop/Financial Insight AI/venv/lib/python3.9/site-packages/requests/utils.py:830\u001b[0m, in \u001b[0;36mget_environ_proxies\u001b[0;34m(url, no_proxy)\u001b[0m\n\u001b[1;32m    824\u001b[0m \u001b[38;5;28;01mdef\u001b[39;00m\u001b[38;5;250m \u001b[39m\u001b[38;5;21mget_environ_proxies\u001b[39m(url, no_proxy\u001b[38;5;241m=\u001b[39m\u001b[38;5;28;01mNone\u001b[39;00m):\n\u001b[1;32m    825\u001b[0m \u001b[38;5;250m    \u001b[39m\u001b[38;5;124;03m\"\"\"\u001b[39;00m\n\u001b[1;32m    826\u001b[0m \u001b[38;5;124;03m    Return a dict of environment proxies.\u001b[39;00m\n\u001b[1;32m    827\u001b[0m \n\u001b[1;32m    828\u001b[0m \u001b[38;5;124;03m    :rtype: dict\u001b[39;00m\n\u001b[1;32m    829\u001b[0m \u001b[38;5;124;03m    \"\"\"\u001b[39;00m\n\u001b[0;32m--> 830\u001b[0m     \u001b[38;5;28;01mif\u001b[39;00m \u001b[43mshould_bypass_proxies\u001b[49m\u001b[43m(\u001b[49m\u001b[43murl\u001b[49m\u001b[43m,\u001b[49m\u001b[43m \u001b[49m\u001b[43mno_proxy\u001b[49m\u001b[38;5;241;43m=\u001b[39;49m\u001b[43mno_proxy\u001b[49m\u001b[43m)\u001b[49m:\n\u001b[1;32m    831\u001b[0m         \u001b[38;5;28;01mreturn\u001b[39;00m {}\n\u001b[1;32m    832\u001b[0m     \u001b[38;5;28;01melse\u001b[39;00m:\n",
      "File \u001b[0;32m~/Desktop/Financial Insight AI/venv/lib/python3.9/site-packages/requests/utils.py:814\u001b[0m, in \u001b[0;36mshould_bypass_proxies\u001b[0;34m(url, no_proxy)\u001b[0m\n\u001b[1;32m    811\u001b[0m \u001b[38;5;28;01mwith\u001b[39;00m set_environ(\u001b[38;5;124m\"\u001b[39m\u001b[38;5;124mno_proxy\u001b[39m\u001b[38;5;124m\"\u001b[39m, no_proxy_arg):\n\u001b[1;32m    812\u001b[0m     \u001b[38;5;66;03m# parsed.hostname can be `None` in cases such as a file URI.\u001b[39;00m\n\u001b[1;32m    813\u001b[0m     \u001b[38;5;28;01mtry\u001b[39;00m:\n\u001b[0;32m--> 814\u001b[0m         bypass \u001b[38;5;241m=\u001b[39m \u001b[43mproxy_bypass\u001b[49m\u001b[43m(\u001b[49m\u001b[43mparsed\u001b[49m\u001b[38;5;241;43m.\u001b[39;49m\u001b[43mhostname\u001b[49m\u001b[43m)\u001b[49m\n\u001b[1;32m    815\u001b[0m     \u001b[38;5;28;01mexcept\u001b[39;00m (\u001b[38;5;167;01mTypeError\u001b[39;00m, socket\u001b[38;5;241m.\u001b[39mgaierror):\n\u001b[1;32m    816\u001b[0m         bypass \u001b[38;5;241m=\u001b[39m \u001b[38;5;28;01mFalse\u001b[39;00m\n",
      "File \u001b[0;32m/Library/Developer/CommandLineTools/Library/Frameworks/Python3.framework/Versions/3.9/lib/python3.9/urllib/request.py:2647\u001b[0m, in \u001b[0;36mproxy_bypass\u001b[0;34m(host)\u001b[0m\n\u001b[1;32m   2645\u001b[0m     \u001b[38;5;28;01mreturn\u001b[39;00m proxy_bypass_environment(host, proxies)\n\u001b[1;32m   2646\u001b[0m \u001b[38;5;28;01melse\u001b[39;00m:\n\u001b[0;32m-> 2647\u001b[0m     \u001b[38;5;28;01mreturn\u001b[39;00m \u001b[43mproxy_bypass_macosx_sysconf\u001b[49m\u001b[43m(\u001b[49m\u001b[43mhost\u001b[49m\u001b[43m)\u001b[49m\n",
      "File \u001b[0;32m/Library/Developer/CommandLineTools/Library/Frameworks/Python3.framework/Versions/3.9/lib/python3.9/urllib/request.py:2624\u001b[0m, in \u001b[0;36mproxy_bypass_macosx_sysconf\u001b[0;34m(host)\u001b[0m\n\u001b[1;32m   2622\u001b[0m \u001b[38;5;28;01mdef\u001b[39;00m\u001b[38;5;250m \u001b[39m\u001b[38;5;21mproxy_bypass_macosx_sysconf\u001b[39m(host):\n\u001b[1;32m   2623\u001b[0m     proxy_settings \u001b[38;5;241m=\u001b[39m _get_proxy_settings()\n\u001b[0;32m-> 2624\u001b[0m     \u001b[38;5;28;01mreturn\u001b[39;00m \u001b[43m_proxy_bypass_macosx_sysconf\u001b[49m\u001b[43m(\u001b[49m\u001b[43mhost\u001b[49m\u001b[43m,\u001b[49m\u001b[43m \u001b[49m\u001b[43mproxy_settings\u001b[49m\u001b[43m)\u001b[49m\n",
      "File \u001b[0;32m/Library/Developer/CommandLineTools/Library/Frameworks/Python3.framework/Versions/3.9/lib/python3.9/urllib/request.py:2592\u001b[0m, in \u001b[0;36m_proxy_bypass_macosx_sysconf\u001b[0;34m(host, proxy_settings)\u001b[0m\n\u001b[1;32m   2590\u001b[0m \u001b[38;5;28;01mif\u001b[39;00m hostIP \u001b[38;5;129;01mis\u001b[39;00m \u001b[38;5;28;01mNone\u001b[39;00m:\n\u001b[1;32m   2591\u001b[0m     \u001b[38;5;28;01mtry\u001b[39;00m:\n\u001b[0;32m-> 2592\u001b[0m         hostIP \u001b[38;5;241m=\u001b[39m \u001b[43msocket\u001b[49m\u001b[38;5;241;43m.\u001b[39;49m\u001b[43mgethostbyname\u001b[49m\u001b[43m(\u001b[49m\u001b[43mhostonly\u001b[49m\u001b[43m)\u001b[49m\n\u001b[1;32m   2593\u001b[0m         hostIP \u001b[38;5;241m=\u001b[39m ip2num(hostIP)\n\u001b[1;32m   2594\u001b[0m     \u001b[38;5;28;01mexcept\u001b[39;00m \u001b[38;5;167;01mOSError\u001b[39;00m:\n",
      "\u001b[0;31mKeyboardInterrupt\u001b[0m: "
     ]
    }
   ],
   "source": [
    "\n",
    "TEST_TICKER = 'RDDT'\n",
    "\n",
    "%load_ext autoreload\n",
    "%autoreload 2\n",
    "\n",
    "from datetime import datetime\n",
    "from pathlib import Path\n",
    "import sys\n",
    "\n",
    "# Add the project root to Python path\n",
    "project_root = Path.cwd().parent\n",
    "sys.path.append(str(project_root))\n",
    "\n",
    "from knowledge_base.src.ingestion.sec_downloader import SECDownloader\n",
    "from knowledge_base.src.ingestion.sec_sql_extractor import SECDataExtractor\n",
    "from knowledge_base.src.storage.sql_manager import FinancialMetricsManager\n",
    "\n",
    "\n",
    "# Force reload the updated module\n",
    "import importlib\n",
    "import knowledge_base.src.ingestion.sql_extractor\n",
    "importlib.reload(knowledge_base.src.ingestion.sec_downloader)\n",
    "importlib.reload(knowledge_base.src.ingestion.sql_extractor)\n",
    "importlib.reload(knowledge_base.src.storage.sql_manager)\n",
    "\n",
    "import os\n",
    "print(f\"Current working directory: {os.getcwd()}\")\n",
    "print(f\"Project root: {Path.cwd().parent}\")\n",
    "\n",
    "# Then import the extractor\n",
    "from knowledge_base.src.ingestion.sql_extractor import SECDataExtractor\n",
    "\n",
    "# Initialize components\n",
    "downloader = SECDownloader()\n",
    "extractor = SECDataExtractor()\n",
    "sql_manager = FinancialMetricsManager()\n",
    "\n",
    "# Step 1: Download SEC filing\n",
    "filings = downloader.download_company_filings(\n",
    "    ticker=TEST_TICKER,\n",
    "    filing_types=['10-K'],\n",
    "    num_filings=5\n",
    ")\n",
    "\n",
    "print(\"len(filings)\", len(filings))\n",
    "\n",
    "# Step 2: Process the filing\n",
    "if filings:\n",
    "\n",
    "    print(\"if filings called\")\n",
    "    \n",
    "    filing = filings[0]\n",
    "    print(\"filing\", filing)\n",
    "    file_dir = Path(filing['file_path']).parent\n",
    "    \n",
    "    # Look for XBRL or HTML version\n",
    "    xbrl_file = next(file_dir.glob(\"*.xml\"), None)\n",
    "    html_file = next(file_dir.glob(\"*.htm*\"), None)\n",
    "\n",
    "\n",
    "    # Add client to the database before adding the document\n",
    "    client_data = {\n",
    "        \"id\": filing['ticker'],\n",
    "        \"company_name\": filing.get('company_name', ''),\n",
    "        \"cik\": filing.get('cik', ''),\n",
    "        \"industry\": \"\",  # Fill if available\n",
    "        \"sector\": \"\",    # Fill if available\n",
    "        \"market_cap\": None  # Fill if available\n",
    "    }\n",
    "    sql_manager.sql_store.add_client(client_data)\n",
    "    \n",
    "    # Create document in SQL store first\n",
    "    doc_data = {\n",
    "        \"document_id\": filing['accession_number'],\n",
    "        \"client_id\": filing['ticker'],\n",
    "        \"filing_type\": filing['type'],\n",
    "        \"filing_date\": filing['period_of_report'],\n",
    "        \"file_path\": filing['file_path'],\n",
    "        \"file_size\": filing['file_size'],\n",
    "        \"download_date\": datetime.fromisoformat(filing['downloaded_at']),\n",
    "        \"has_revenue_data\": filing['has_revenue_data'],\n",
    "        \"has_profit_data\": filing['has_profit_data'],\n",
    "        \"has_balance_sheet\": filing['has_balance_sheet'],\n",
    "        \"has_cash_flow\": filing['has_cash_flow']\n",
    "    }\n",
    "    \n",
    "    # Add document to get SQL document_id\n",
    "    document_id = sql_manager.sql_store.add_document(doc_data)\n",
    "    \n",
    "    if document_id:\n",
    "\n",
    "        print(\"IF document_id CALLED\")\n",
    "\n",
    "        # Try XBRL first, then HTML, then full submission\n",
    "        if xbrl_file:\n",
    "            print(f\"Processing XBRL file: {xbrl_file}\")\n",
    "            metrics = extractor.process_document(str(xbrl_file), TEST_TICKER)\n",
    "        elif html_file:\n",
    "            print(f\"Processing HTML file: {html_file}\")\n",
    "            metrics = extractor.process_document(str(html_file), TEST_TICKER)\n",
    "        else:\n",
    "            print(f\"Processing full submission: {filing['file_path']}\")\n",
    "            metrics = extractor.process_document(filing['file_path'], TEST_TICKER)\n",
    "            \n",
    "        print(f\"Extracted {len(metrics)} metrics\")\n",
    "        if metrics:\n",
    "            sql_manager.save_extracted_metrics(metrics, document_id)\n",
    "            print(\"Metrics saved to database\")\n",
    "            print(\"metrics\", metrics)\n",
    "\n",
    "        # Validate the extractions\n",
    "        validation = sql_manager.validate_client_metrics(TEST_TICKER, 2024)\n",
    "        print(\"\\nValidation results:\", validation)\n",
    "\n",
    "        # Get comparative metrics\n",
    "        comparative = sql_manager.get_comparative_metrics(\n",
    "            [\"AAPL\", \"MSFT\", \"GOOGL\"],\n",
    "            [\"revenue\", \"net_income\"],\n",
    "            2024\n",
    "        )\n",
    "        print(\"\\nComparative metrics:\", comparative)\n"
   ]
  },
  {
   "cell_type": "markdown",
   "id": "6f7c8f1a",
   "metadata": {},
   "source": [
    "## Quick test for SQL DB"
   ]
  },
  {
   "cell_type": "code",
   "execution_count": null,
   "id": "57287db5",
   "metadata": {},
   "outputs": [],
   "source": [
    "%load_ext autoreload\n",
    "%autoreload 2\n",
    "\n",
    "# Simple SQL Database Test\n",
    "import sqlite3\n",
    "import pandas as pd\n",
    "from pathlib import Path\n",
    "\n",
    "# Import necessary modules\n",
    "import sys\n",
    "from pathlib import Path\n",
    "\n",
    "# # Add the project root to Python path so we can import our modules\n",
    "project_root = Path.cwd().parent\n",
    "sys.path.append(str(project_root))\n",
    "\n",
    "# Force reload the updated module\n",
    "import importlib\n",
    "import knowledge_base.src.ingestion.sql_extractor\n",
    "importlib.reload(knowledge_base.src.ingestion.sec_downloader)\n",
    "importlib.reload(knowledge_base.src.ingestion.sql_extractor)\n",
    "importlib.reload(knowledge_base.src.storage.sql_manager)\n",
    "\n",
    "# # Database path\n",
    "db_path = Path(\"../knowledge_base/data/financial_kb.db\")\n",
    "\n",
    "print(\"\\n\" + \"=\"*60)\n",
    "print(\"DETAILED DATABASE ANALYSIS\")\n",
    "print(\"=\"*60)\n",
    "\n",
    "# Connect to database for detailed analysis\n",
    "conn = sqlite3.connect(db_path)\n",
    "\n",
    "try:\n",
    "    # Get all tables\n",
    "    tables = pd.read_sql_query(\"SELECT name FROM sqlite_master WHERE type='table'\", conn)\n",
    "    print(f\"Tables found: {tables['name'].tolist()}\")\n",
    "    \n",
    "    # Analyze each table\n",
    "    for table_name in tables['name']:\n",
    "        print(f\"\\n--- {table_name.upper()} TABLE ---\")\n",
    "        \n",
    "        # Get table schema\n",
    "        schema = pd.read_sql_query(f\"PRAGMA table_info({table_name})\", conn)\n",
    "        print(f\"Columns: {schema['name'].tolist()}\")\n",
    "        \n",
    "        # Get record count\n",
    "        count = pd.read_sql_query(f\"SELECT COUNT(*) as count FROM {table_name}\", conn)\n",
    "        record_count = count['count'].iloc[0]\n",
    "        print(f\"Records: {record_count}\")\n",
    "        \n",
    "        # Show sample data if records exist\n",
    "        if record_count > 0:\n",
    "            sample = pd.read_sql_query(f\"SELECT * FROM {table_name} LIMIT 200\", conn)\n",
    "            print(\"Sample data:\")\n",
    "            print(sample.to_string(index=False))\n",
    "        else:\n",
    "            print(\"(No data)\")\n",
    "    \n",
    "    # Additional analysis\n",
    "    print(f\"\\n=== ADDITIONAL ANALYSIS ===\")\n",
    "    \n",
    "    # Check for any financial metrics\n",
    "    metrics_count = pd.read_sql_query(\"SELECT COUNT(*) as count FROM financial_metrics\", conn)['count'].iloc[0]\n",
    "    print(f\"Financial metrics extracted: {metrics_count}\")\n",
    "    \n",
    "    # Check for any clients\n",
    "    clients_count = pd.read_sql_query(\"SELECT COUNT(*) as count FROM clients\", conn)['count'].iloc[0]\n",
    "    print(f\"Clients registered: {clients_count}\")\n",
    "    \n",
    "    # Check document processing status\n",
    "    docs = pd.read_sql_query(\"\"\"\n",
    "        SELECT \n",
    "            client_id,\n",
    "            filing_type,\n",
    "            filing_date,\n",
    "            has_revenue_data,\n",
    "            has_profit_data,\n",
    "            has_balance_sheet,\n",
    "            has_cash_flow,\n",
    "            financial_density\n",
    "        FROM documents\n",
    "    \"\"\", conn)\n",
    "    \n",
    "    if not docs.empty:\n",
    "        print(f\"\\nDocument processing status:\")\n",
    "        print(docs.to_string(index=False))\n",
    "    \n",
    "    # Check for any chunks\n",
    "    chunks_count = pd.read_sql_query(\"SELECT COUNT(*) as count FROM document_chunks\", conn)['count'].iloc[0]\n",
    "    print(f\"Document chunks created: {chunks_count}\")\n",
    "    \n",
    "    print(f\"\\n✅ Database analysis complete!\")\n",
    "    \n",
    "except Exception as e:\n",
    "    print(f\"❌ Error analyzing database: {e}\")\n",
    "\n",
    "finally:\n",
    "    conn.close()"
   ]
  },
  {
   "cell_type": "markdown",
   "id": "4c9ca72e",
   "metadata": {},
   "source": [
    "# Vector Database"
   ]
  },
  {
   "cell_type": "markdown",
   "id": "e784c661",
   "metadata": {},
   "source": [
    "## Create chunks for embeddings"
   ]
  },
  {
   "cell_type": "code",
   "execution_count": null,
   "id": "0d1d8985",
   "metadata": {},
   "outputs": [],
   "source": [
    "# # This was using document_processor.py\n",
    "\n",
    "# from datetime import datetime\n",
    "# from pathlib import Path\n",
    "# from knowledge_base.src.ingestion.document_processor import FinancialDocumentProcessor\n",
    "# from knowledge_base.src.ingestion.sec_downloader import SECDownloader\n",
    "# from knowledge_base.config.settings import get_settings\n",
    "\n",
    "# # Initialize settings and components\n",
    "# settings = get_settings()\n",
    "# processor = FinancialDocumentProcessor()\n",
    "# downloader = SECDownloader()\n",
    "\n",
    "# # Define test parameters\n",
    "# TEST_TICKER = \"NVDA\"  # Example: NVIDIA\n",
    "# TEST_FILING_TYPES = [\"10-K\"]  # Or include \"8-K\", \"10-Q\"\n",
    "# TEST_OUTPUT_DIR = Path(settings.data.processed_data_path)\n",
    "# TEST_OUTPUT_DIR.mkdir(parents=True, exist_ok=True)\n",
    "\n",
    "# # Step 1: Download filings\n",
    "# downloaded_filings = downloader.download_company_filings(\n",
    "#     ticker=TEST_TICKER,\n",
    "#     filing_types=TEST_FILING_TYPES,\n",
    "#     num_filings=1  # Just get the most recent one\n",
    "# )\n",
    "# print(f\"\\nDownloaded {len(downloaded_filings)} filings\")\n",
    "\n",
    "# # Step 2: Process each filing\n",
    "# all_processed_chunks = []\n",
    "# for filing in downloaded_filings:\n",
    "#     print(f\"\\nProcessing {filing['type']} filing from {filing['file_path']}\")\n",
    "    \n",
    "#     # Add processing metadata\n",
    "#     filing['source'] = 'SEC Edgar'\n",
    "#     filing['processed_at'] = datetime.now().isoformat()\n",
    "    \n",
    "#     # Process the filing\n",
    "#     chunks = processor.process_sec_filing(\n",
    "#         file_path=filing['file_path'],\n",
    "#         metadata=filing\n",
    "#     )\n",
    "#     all_processed_chunks.extend(chunks)\n",
    "    \n",
    "#     # Save processed chunks\n",
    "#     output_file = f\"{TEST_TICKER}_{filing['type']}_{filing['date']}_processed.json\"\n",
    "#     processor.save_processed_chunks(chunks, output_file)\n",
    "#     print(f\"Saved processed chunks to: {output_file}\")\n",
    "\n",
    "# # Step 3: Inspect results\n",
    "# print(f\"\\nTotal chunks generated: {len(all_processed_chunks)}\")\n",
    "# if all_processed_chunks:\n",
    "#     print(\"\\nSample chunk content:\")\n",
    "#     print(all_processed_chunks[0].page_content[:500])\n",
    "#     print(\"\\nSample chunk metadata:\")\n",
    "#     print(all_processed_chunks[0].metadata)"
   ]
  },
  {
   "cell_type": "code",
   "execution_count": null,
   "id": "b14445ec",
   "metadata": {},
   "outputs": [
    {
     "name": "stderr",
     "output_type": "stream",
     "text": [
      "Failed to send telemetry event ClientStartEvent: capture() takes 1 positional argument but 3 were given\n"
     ]
    },
    {
     "name": "stdout",
     "output_type": "stream",
     "text": [
      "The autoreload extension is already loaded. To reload it, use:\n",
      "  %reload_ext autoreload\n",
      "Current working directory: /Users/daylight/Desktop/Financial Insight AI/notebooks\n",
      "Project root: /Users/daylight/Desktop/Financial Insight AI\n",
      "{'ticker': 'TEAM', 'type': '10-K', 'file_path': '/Users/daylight/Desktop/Financial Insight AI/knowledge_base/data/raw/TEAM/10-K/000165037224000036/full-submission.txt', 'downloaded_at': '2025-08-03T14:51:30.940033', 'file_size': 14383319, 'company_name': 'Atlassian Corp', 'cik': '0001650372', 'business_address': '', 'has_revenue_data': True, 'has_profit_data': True, 'has_balance_sheet': True, 'has_cash_flow': True, 'financial_keywords_count': 0, 'metadata_path': '/Users/daylight/Desktop/Financial Insight AI/knowledge_base/data/raw/TEAM/10-K/000165037224000036/metadata.json', 'date': '2024-06-30', 'period_of_report': '2024-06-30', 'accession_number': '0001650372-24-000036', 'fiscal_year_end': '2023-09-30'}\n",
      "TEAM\n",
      "Loading embedding model: all-MiniLM-L6-v2\n",
      "Process a downloaded filing\n",
      "Processing full-submission.txt for vector database\n",
      "Created 5382 text chunks\n",
      "Processed 5382 chunks.\n",
      "Using existing collection: TEAM_chunks\n",
      "Generating embeddings for 5382 chunks...\n",
      "Error storing chunks: Expected metadata value to be a str, int, float or bool, got None which is a <class 'NoneType'>\n",
      "Stored 0 chunks.\n",
      " Search for revenue-related chunks\n",
      "Using existing collection: TEAM_chunks\n",
      "Using existing collection: TEAM_chunks\n",
      "Collection stats: {'total_chunks': 0}\n"
     ]
    }
   ],
   "source": [
    "%load_ext autoreload\n",
    "%autoreload 2\n",
    "\n",
    "import pandas as pd\n",
    "from pathlib import Path\n",
    "import json\n",
    "\n",
    "# Import necessary modules\n",
    "import sys\n",
    "from pathlib import Path\n",
    "import os\n",
    "print(f\"Current working directory: {os.getcwd()}\")\n",
    "print(f\"Project root: {Path.cwd().parent}\")\n",
    "\n",
    "# Add the project root to Python path so we can import our modules\n",
    "project_root = Path.cwd().parent\n",
    "sys.path.append(str(project_root))\n",
    "\n",
    "# Import the knowledge_base module first\n",
    "import knowledge_base.src.ingestion.vector_db_processor\n",
    "\n",
    "# Force reload the updated module\n",
    "import importlib\n",
    "importlib.reload(knowledge_base.src.ingestion.vector_db_processor)\n",
    "from knowledge_base.src.ingestion.vector_db_processor import VectorProcessor\n",
    "\n",
    "doc_file_path = \"../knowledge_base/data/raw/RDDT/10-Q/000171344525000196/\"\n",
    "doc_file_path = \"../knowledge_base/data/raw/TEAM/10-K/000165037224000036/\"\n",
    "\n",
    "\n",
    "with open(f\"{doc_file_path}metadata.json\", \"r\") as f:\n",
    "    metadata_json = json.load(f)\n",
    "\n",
    "print(metadata_json)\n",
    "print(metadata_json['ticker'])\n",
    "\n",
    "\n",
    "# Initialize the processor\n",
    "processor = VectorProcessor(\n",
    "    # vector_db_path=\"./chroma_db\",\n",
    "    # embedding_model=\"all-MiniLM-L6-v2\",\n",
    "    chunk_size=500,\n",
    "    chunk_overlap=50\n",
    ")\n",
    "\n",
    "# Example: Process a document\n",
    "print(\"Process a downloaded filing\")\n",
    "chunks = processor.process_document(\n",
    "    file_path=f\"{doc_file_path}/full-submission.txt\",\n",
    "    company_id=metadata_json['ticker'],\n",
    "    doc_type=metadata_json['type'],\n",
    "    period=metadata_json['period_of_report']\n",
    ")\n",
    "print(f\"Processed {len(chunks)} chunks.\")\n",
    "\n",
    "# Store the chunks in the vector database\n",
    "stored_count = processor.store_chunks(chunks)\n",
    "print(f\"Stored {stored_count} chunks.\")\n",
    "\n",
    "# Example: Search for revenue-related chunks\n",
    "print(\" Search for revenue-related chunks\")\n",
    "results = processor.search_chunks(\n",
    "    company_id=metadata_json['ticker'],\n",
    "    query=\"revenue growth\",\n",
    "    n_results=5\n",
    ")\n",
    "for result in results:\n",
    "    print(f\"- {result['text'][:100]}... (score: {result['distance']:.3f})\")\n",
    "\n",
    "# Check collection stats\n",
    "stats = processor.get_collection_stats(metadata_json['ticker'])\n",
    "print(f\"Collection stats: {stats}\")"
   ]
  },
  {
   "cell_type": "markdown",
   "id": "272cf499",
   "metadata": {},
   "source": [
    "## Vector DB: Get Embeddings"
   ]
  },
  {
   "cell_type": "code",
   "execution_count": null,
   "id": "61b6f512",
   "metadata": {},
   "outputs": [
    {
     "name": "stdout",
     "output_type": "stream",
     "text": [
      "[-0.009071986190974712, -0.009768158197402954, -0.009717395529150963, -0.031762830913066864, -0.04870300740003586, -0.046527471393346786, 0.03341623768210411, 0.008209023624658585, 0.02483012154698372, -0.009673885069787502, 0.008375815115869045, -0.007143010850995779, -0.030254459008574486, -0.006624508183449507, 0.028818603605031967, 0.02748427540063858, -0.04768775776028633, 0.0026342119090259075, -0.05113960802555084, 0.04223441332578659, 0.01955081894993782, -0.00924602895975113, 0.015127229504287243, 0.033532265573740005, 0.04388782009482384, -0.04713661968708038, -0.028339985758066177, 0.03173382207751274, 0.047078605741262436, -0.03631695359945297, 0.026889629662036896, -0.04406186193227768, -0.005475099664181471, -0.03750624507665634, -0.005018237046897411, 0.05151670053601265, -0.004822439048439264, 0.018376030027866364, -0.03451851010322571, -0.024699589237570763, -0.05743416026234627, -0.038666531443595886, 0.015446308068931103, -0.0023296368308365345, -0.006736910901963711, 0.040900081396102905, 0.007143010850995779, 0.0031726572196930647, 0.0015373789938166738, 0.02900715172290802, -0.04223441332578659, 0.025743845850229263, 0.0184195414185524, 0.028905626386404037, 0.0004913086304441094, 0.00017630908405408263, -0.01595393382012844, 0.0860932245850563, -0.011689881794154644, -0.036403972655534744, 0.02907966822385788, 0.0033231317065656185, -0.038086388260126114, -0.008209023624658585, 0.00042173676774837077, -0.00027534132823348045, 0.01538829319179058, 0.031443752348423004, 0.009507093578577042, 0.008716648444533348, 0.02098667435348034, 0.023249231278896332, -0.03443148732185364, 0.0021501551382243633, -0.018956173211336136, -0.03170481696724892, 0.02548278123140335, -0.009630373679101467, -0.005047244485467672, -0.03779631853103638, 0.0009653942543081939, 0.028020907193422318, -0.009869683533906937, -0.06544013321399689, -0.02484462410211563, 0.0009517971193417907, -0.11730492115020752, 0.00048586976481601596, -0.01342305913567543, 0.006087875925004482, -0.01921723783016205, -0.03884057328104973, -0.01058035809546709, -0.014489071443676949, -0.010181509889662266, -0.02404692769050598, -0.04069703444838524, 0.001764903892762959, 0.011784154921770096, -0.03631695359945297, 0.033387232571840286, 0.025613313540816307, -0.006776795722544193, 0.030312472954392433, 0.026498032733798027, 0.003100139321759343, 0.021813377737998962, -0.008114750497043133, -0.03631695359945297, -0.02739725448191166, -0.08458485454320908, -0.0037274188362061977, 0.024017920717597008, 0.00020871551532763988, -0.004144396632909775, 0.0019217237131670117, 0.03228496015071869, -0.0426115058362484, -0.0025109315756708384, -0.0368390828371048, 0.0025036795996129513, -0.015040207654237747, 0.040174905210733414, -0.0650920495390892, -0.010616617277264595, -0.05682500824332237, 0.030747579410672188, -0.01769436150789261, -0.03373531624674797, 0.04829690605401993, 0.015881415456533432, -0.01433678437024355, -0.010014718398451805, 0.012589103542268276, -0.02651253528892994, 0.007382319774478674, -0.08435279130935669, -0.013031462207436562, -0.035214681178331375, 0.08319251239299774, -0.017984433099627495, -0.001263624057173729, 0.010761653073132038, -0.008636878803372383, -0.012153996154665947, -0.03501163050532341, -0.026323989033699036, -0.011443320661783218, 0.016244005411863327, 0.00267409672960639, -0.030254459008574486, 0.036084894090890884, -0.0493701696395874, 0.024496538564562798, -0.005703531205654144, -0.024322496727108955, 0.0040428717620670795, 0.02034851722419262, 0.0021519679576158524, 0.01084867399185896, 0.024728596210479736, -0.010928444564342499, 0.01595393382012844, 0.01546081155538559, -0.0278178583830595, -0.019724862650036812, 0.04177029803395271, -0.018056951463222504, -0.044816046953201294, -0.005707156844437122, -0.013299779035151005, -0.022611074149608612, -0.05377925932407379, -0.013937936164438725, -0.03390935808420181, 0.044583991169929504, 0.008825425989925861, -0.040900081396102905, -0.015359286218881607, 0.023698842152953148, 0.011943694204092026, 0.06654240190982819, -0.007197399158030748, -0.016374535858631134, -0.05105258524417877, -0.013031462207436562, 0.02435150370001793, 0.05102358013391495, 0.01133454404771328, -0.023495791479945183, 0.01438754703849554, 0.007273543160408735, 0.04159625619649887, 0.011283781379461288, -0.010406315326690674, -0.029848357662558556, 0.06451190263032913, -0.03860851749777794, 0.0074548376724123955, 0.04542519897222519, 0.035765815526247025, 0.036578018218278885, -0.016244005411863327, 0.015895918011665344, -0.022901145741343498, 0.020957667380571365, -0.03251701593399048, 0.019811883568763733, -0.017505815252661705, -0.007592621725052595, 0.08342456817626953, 0.019202733412384987, -0.030747579410672188, -0.005221287254244089, -0.04208937659859657, -0.017897412180900574, -0.008781914599239826, 0.029427753761410713, 0.023017173632979393, -0.049080099910497665, -0.024554552510380745, 0.029906373471021652, 0.0641058012843132, 0.022857634350657463, -0.004572252277284861, 0.016476061195135117, 0.00471003632992506, 0.01721574366092682, -0.00812925398349762, 0.013633361086249352, 0.023611821234226227, -0.011153250001370907, 0.002799190115183592, -0.026904132217168808, 0.03936270251870155, -0.009318547323346138, -0.019579827785491943, 0.01682414673268795, -0.0041226414032280445, 0.019608834758400917, -0.07855136692523956, 0.019202733412384987, 0.03579482436180115, 0.02748427540063858, 0.04464200511574745, -0.013850914314389229, -0.024191964417696, 0.022175967693328857, 0.028949135914444923, 0.04443895444273949, 0.04710761457681656, 0.0012817535316571593, -0.012509333901107311, -0.0660782903432846, -0.01229903195053339, 0.004158900119364262, -0.0026360247284173965, 0.03535971790552139, 0.06474395841360092, -0.0070197307504713535, -0.04852896183729172, -0.0325460247695446, -0.0768689513206482, -0.020145466551184654, -0.024743100628256798, 0.020725609734654427, 0.0660782903432846, 0.009905941784381866, -0.02835449017584324, -0.05128464102745056, -0.007744909264147282, 0.01102271769195795, 0.03924667462706566, 0.02162483148276806, -0.020334012806415558, 0.0488770492374897, -0.013821907341480255, -0.017679858952760696, 0.00620753038674593, 0.0525609590113163, -0.045860305428504944, -0.01921723783016205, 0.015359286218881607, -0.03187885880470276, -0.026178954169154167, -0.012857419438660145, 0.015837904065847397, -0.03037048690021038, 0.007476593367755413, 0.012958944775164127, -0.00876741111278534, -0.009826172143220901, 0.07489646226167679, -0.016055457293987274, -0.019086705520749092, 0.01181316189467907, 0.0020613207016140223, 0.0013896238524466753, -0.016403544694185257, 0.0006218408234417439, 0.03347425162792206, 0.02162483148276806, 0.057086072862148285, 0.005257545970380306, -0.0015410048654302955, 0.026860622689127922, 0.0035515630152076483, 0.03335822373628616, -0.01852106675505638, -0.025903385132551193, 0.030950630083680153, 0.010457077994942665, 0.014162741601467133, -0.03646199032664299, -0.05433039367198944, -0.04365576058626175, 0.026135442778468132, 0.019130216911435127, 0.02172635681927204, -0.048267900943756104, 0.04342370480298996, -0.044903069734573364, 0.044816046953201294, -0.008317800238728523, 0.00510525843128562, 0.029790343716740608, 0.06074097380042076, 0.01707070879638195, 0.0034591027069836855, 0.01698368601500988, -0.015924924984574318, -0.04243746027350426, 0.01921723783016205, -0.02813693694770336, -0.005489603150635958, -0.022393520921468735, -0.0028735208325088024, 0.04945719242095947, 0.04214739054441452, 0.026556046679615974, -0.007498348597437143, 0.002267996547743678, 0.05360521376132965, -0.0336482934653759, 0.003250613808631897, -0.004858697764575481, -0.018201986327767372, 0.010275783017277718, 0.02426448091864586, 0.025120193138718605, -0.019173726439476013, 0.01762184500694275, 0.030254459008574486, -0.050472442060709, 0.03678106889128685, -0.07710100710391998, 0.009992963634431362, 0.04687555506825447, 0.03318418189883232, 0.021856889128684998, 0.027629312127828598, -0.02973232977092266, 0.007744909264147282, 0.024177459999918938, 0.008151009678840637, 0.006635385565459728, -0.01770886592566967, -0.005061747971922159, -0.010246776044368744, 0.009659381583333015, -0.046179383993148804, 0.05325713008642197, 0.032575029879808426, 0.004253173712641001, -0.02403242513537407, -0.014692122116684914, -0.030080415308475494, 0.029340732842683792, 0.06538211554288864, 0.02348128892481327, 0.02002943679690361, 0.01245857123285532, -0.031849849969148636, -0.025453774258494377, 0.03124070167541504, -0.019884401932358742, -0.01186392456293106, 0.013147491030395031, -0.017433296889066696, -0.024177459999918938, 0.03219793736934662, -0.00013291167852003127, -0.02829647623002529, 0.008063987828791142, -0.0024220971390604973, 0.041625261306762695, -0.016447054222226143, 0.007766664493829012, -0.018941668793559074, -0.014938682317733765, 0.06433785706758499, -0.026904132217168808, -0.05398230627179146, 0.001568199135363102, 0.004071878734976053, 0.017882907763123512, -0.01225552149116993, 0.01137805450707674, 0.013132987543940544, -0.016621097922325134, 0.03750624507665634, 0.005250294227153063, 0.04774577170610428, 0.03019644320011139, 0.003654900938272476, 0.04380079731345177, 0.03820241615176201, -0.006885572336614132, -0.0004346540372353047, -0.012328038923442364, -0.038260433822870255, -0.018927166238427162, -0.036403972655534744, -0.04533817619085312, -0.0007655168301425874, 0.06485998630523682, 0.05270599201321602, -0.035127658396959305, 0.004434468224644661, -0.06329360604286194, -0.012328038923442364, -0.019971422851085663, 0.000518502842169255, 0.027861367911100388, 0.00113581120967865, -0.03599787503480911, -0.02147979475557804, 0.03973979502916336, -0.026396507397294044, -0.017578333616256714, -0.015562336891889572, 0.002019622828811407, -0.012081478722393513, -0.0017667168285697699, -0.01762184500694275, 0.031762830913066864, 0.020551566034555435, -0.00568902725353837, 0.02932623028755188, -0.032168928533792496, -0.02764381468296051, -0.017244750633835793, -0.03550475090742111, -0.005670898128300905, 0.032662052661180496, -0.025758350268006325, 0.00011908794840564951, 0.032662052661180496, 0.0034373474773019552, -0.008078491315245628, -0.019608834758400917, -0.026556046679615974, -0.026527039706707, 0.023510295897722244, 0.005496854893863201, -0.032023895531892776, 0.003992109093815088, 0.035533759742975235, 0.037854332476854324, -0.03707113862037659, -0.01593942940235138, 0.03277808055281639, 0.019130216911435127, 0.005736164283007383, 0.021204227581620216, -0.03092162311077118, -0.021653838455677032, -0.003821692196652293, -0.027832360938191414, -0.052038829773664474, 0.03875355422496796, 0.01611347310245037, -0.01482265442609787, 0.009159008041024208, -0.021653838455677032, 0.08725351095199585, -0.04661449044942856, 0.016969183459877968, -0.023118698969483376, -0.014184496365487576, -0.045077111572027206, 0.0021175220608711243, -0.00138237199280411, -0.016476061195135117, 0.01406121626496315, -0.0178684052079916, 0.04751371219754219, -0.015069214627146721, -0.013045965693891048, -0.03486659377813339, 0.014728381298482418, -0.015576840378344059, -0.01849205791950226, 0.03654900938272476, 0.04704960063099861, -0.011211263947188854, -0.023684339597821236, 0.029456762596964836, -0.013002455234527588, 0.007686894852668047, -0.01866610161960125, -0.008781914599239826, 0.030660558491945267, -0.032662052661180496, -0.017578333616256714, 0.015083718113601208, -0.006341688334941864, 0.047223642468452454, 0.01417724508792162, -0.00973189901560545, 0.03805738314986229, 0.014452813193202019, 0.019115712493658066, -0.04313363507390022, -0.01921723783016205, -0.028717080131173134, -0.031675808131694794, -0.05566472187638283, -0.02195841260254383, -0.0005574811948463321, -0.00889069214463234, -0.026019414886832237, 0.07129957526922226, -0.01563485525548458, -0.01939127966761589, -0.024090439081192017, 0.00977540947496891, 0.027585800737142563, 0.01737528294324875, 0.0020576948300004005, 0.019449295476078987, 0.018883654847741127, 0.0058050560764968395, -0.0062220338732004166, -0.016142480075359344, 0.025453774258494377, -0.001827450469136238, -0.01562035083770752, 0.010297538712620735, 0.008796418085694313, 0.031124673783779144, -0.02084163762629032, 0.03492461144924164, -0.000544337322935462, 0.002356830984354019, 0.011436069384217262, 0.004594007506966591, -0.010826919227838516, 0.002277061343193054, 0.040987104177474976, 0.016708118841052055, -0.008897943422198296, 0.013749389909207821, 0.002280687214806676, -0.04429391771554947, 0.017172234132885933, 0.0017114218790084124, 0.009746402502059937, 0.017520319670438766, -0.0072626653127372265, 0.0006367976311594248, 0.032807089388370514, -0.03109566494822502, 0.0011185882613062859, 0.034344468265771866, -0.02194391004741192, 0.02121873013675213, 0.009427323937416077, -0.0011947320308536291, 0.024699589237570763, 0.011037221178412437, 0.0031454628333449364, 0.02893463335931301, 0.017998937517404556, -0.02330724522471428, 0.005652768537402153, 0.02210344932973385, -0.03814440220594406, -0.02461256831884384, 0.007998721674084663, 0.0394207164645195, 0.004909460432827473, 0.027426261454820633, 0.0352436900138855, 0.008644131012260914, -0.03373531624674797, 0.010355552658438683, -0.012538340874016285, -0.00044938421342521906, 0.019652344286441803, 0.010573106817901134, -0.01579439453780651, -0.0021392772905528545, 0.005199532024562359, 0.01795542612671852, 0.012864671647548676, -0.02074011228978634, 0.012030716054141521, 0.026382002979516983, -0.027745340019464493, -0.04055199772119522, -0.0023713347036391497, -0.03263304382562637, -0.04849995672702789, 0.015605847351253033, 0.027687326073646545, 0.016244005411863327, 0.0015391919296234846, 0.003520742990076542, -0.05160372331738472, -0.00905023142695427, -0.011204011738300323, 0.00211208313703537, -0.011892931535840034, -0.014837157912552357, 0.004485230892896652, 0.0017440549563616514, 0.009405568242073059, -0.012538340874016285, -0.005337315611541271, -0.02411944605410099, -0.008789166808128357, 0.013045965693891048, -0.029790343716740608, -0.016244005411863327, -0.034808579832315445, 0.02556980401277542, 0.01570737175643444, -0.0132635198533535, -0.025265228003263474, 0.02715069241821766, 0.0033557647839188576, 0.01921723783016205, -0.0068746949546039104, -0.005540365818887949, -0.006936335004866123, 0.015127229504287243, 0.015286768786609173, 0.003919591195881367, -0.013727634213864803, 0.05160372331738472, 0.03660702332854271, 0.016461558640003204, 0.030544530600309372, -0.015721876174211502, -0.029297223314642906, -0.04301760345697403, -0.03779631853103638, -0.0346345379948616, -0.02732473611831665, 0.023379763588309288, 0.020812630653381348, -0.021856889128684998, -0.029340732842683792, -0.03440248221158981, 0.010928444564342499, -0.04983428493142128, -0.014692122116684914, -0.026178954169154167, 0.005250294227153063, 0.015649357810616493, 0.022451534867286682, 0.02266908809542656, -0.003901461837813258, 0.006867443211376667, 0.015011200681328773, -0.03686808794736862, -0.06781871616840363, -0.014648611657321453, 0.008600620552897453, 0.022959159687161446, 0.019434791058301926, -0.011283781379461288, -0.039304688572883606, -0.004126267042011023, 0.002831823192536831, 0.020537063479423523, 0.008752907626330853, -0.009057482704520226, -0.0016398105071857572, -0.03274907171726227, -0.03126971051096916, -0.007139385212212801, 0.011544845998287201, 0.004470726940780878, -0.02571483887732029, 0.023031678050756454, 0.015054711140692234, -0.0021954786498099566, -0.03768029063940048, 0.0011240270687267184, 0.0024656078312546015, -0.012690628878772259, -0.00022253923816606402, 0.01406121626496315, -0.03646199032664299, 0.0005515891243703663, -0.008622375316917896, 0.03660702332854271, -0.0035932608880102634, -0.009644878096878529, 0.0017132348148152232, -0.03541773185133934, -0.009594115428626537, -0.011305537074804306, -0.004068253096193075, -0.012980700470507145, -0.03350326046347618, -0.03327120095491409, -0.02514920011162758, -0.012589103542268276, 0.027904879301786423, -0.0005112510407343507, -0.010435322299599648, 0.009702892042696476, -0.0488770492374897, 0.04623739793896675, -0.013829159550368786, -0.013444814831018448, 0.019927913323044777, 0.020653091371059418, -0.008709397166967392, -0.027368247509002686, 0.01102271769195795, 0.02002943679690361, -0.011834917590022087, -0.01546081155538559, -0.024380510672926903, 0.012487578205764294, -0.02893463335931301, -0.03411240875720978, 0.012045219540596008, 0.02355380728840828, 0.009122748859226704, -0.04954421520233154, 0.016214996576309204, 0.008919699117541313, -0.01390892919152975, -0.0069073280319571495, -0.01738978736102581, -0.019362272694706917, 0.012589103542268276, -0.002032313495874405, -0.008644131012260914, -0.035301703959703445, 0.001596299814991653, 0.03469255194067955, -0.006700651720166206, 0.015127229504287243, 0.05406932905316353, -0.007889945060014725, 0.023771360516548157, 0.010196013376116753, 0.04745569825172424, -0.036403972655534744, -0.012313535436987877, 0.0034935488365590572, 0.022175967693328857, 0.01618598960340023, 0.020885149016976357, 0.02620796114206314, -0.01579439453780651, -0.0006481285090558231, 0.010797912254929543, 0.024090439081192017, -0.01723024807870388, -0.05656394362449646, 0.031762830913066864, 0.025120193138718605, 0.007393197622150183, 0.030080415308475494, 0.0021392772905528545, -0.012857419438660145, 0.010275783017277718, 0.0007714089006185532, -0.02258206717669964, 0.009100993163883686, 0.009021223522722721, -0.03756425902247429, -0.04847094789147377, -0.01785390079021454, -0.0025417516008019447, 0.024322496727108955, 0.008441081270575523, 0.00505087012425065, 0.015576840378344059, -0.007947959005832672, -0.04588931426405907, 0.006519357208162546, -0.006860191002488136, -0.004880452994257212, -0.027194203808903694, 0.010348301380872726, 0.00812925398349762, 0.024859128519892693, -0.019840890541672707, 0.0036929729394614697, 0.04333668202161789, -0.011138745583593845, -0.005427963100373745, 0.0035062392707914114, 0.004187907557934523, -0.006392451003193855, 0.024336999282240868, -0.011784154921770096, -0.006983471568673849, -0.015997443348169327, -0.032894108444452286, 0.02572934329509735, 0.02925371192395687, 0.009652129374444485, -0.039855826646089554, -0.01394518744200468, -0.004496108274906874, 0.02514920011162758, 0.01546081155538559, -0.026091931387782097, 0.034170422703027725, -0.0005266611115075648, 0.030863609164953232, -0.028006404638290405, 0.004133518785238266, -0.032342974096536636, -0.02955828607082367, 0.02900715172290802, 0.03811539709568024, -0.031849849969148636, 0.0005429775919765234, -0.016214996576309204, -0.023249231278896332, 0.029021654278039932, 0.012117736972868443, -0.01569286920130253, -0.006370695307850838, 0.00153828551992774, -0.006664393004029989, -0.03477957472205162, -0.017592836171388626, -0.0007269917405210435, 0.048761021345853806, -0.024177459999918938, -0.03173382207751274, 0.02555529959499836, -0.015982940793037415, -0.020638588815927505, 0.0009717395296320319, 0.02868807315826416, 0.0018265440594404936, 0.007215528748929501, -0.022248484194278717, 0.004855071660131216, 0.0030838227830827236, 0.011871176771819592, -0.04557023569941521, 0.048035841435194016, 0.024336999282240868, -0.0011267465306445956, 0.013981446623802185, 0.0378253236413002, 0.029210200533270836, -0.017418794333934784, 0.0034264696296304464, -0.01785390079021454, 0.011124242097139359, 0.011269277893006802, 0.033387232571840286, -0.0009499841835349798, 0.043539732694625854, 0.03028346598148346, 0.01721574366092682, 0.03837646171450615, 0.023292742669582367, 0.04275653883814812, -0.01374213770031929, -0.025062179192900658, -0.020885149016976357, 0.01857908070087433, 0.04319164901971817, 0.016795139759778976, 0.007476593367755413, -0.007117629516869783, -0.003147275885567069, -0.017012694850564003, 0.02314770594239235, -0.03318418189883232, -0.02100117690861225, -0.007095874287188053, 0.01994241587817669, -0.013821907341480255, -0.012567347846925259, -0.02259656973183155, 0.01170438528060913, 0.028223957866430283, 0.02773083560168743, 0.0009354806388728321, -0.0006000854191370308, -0.06050891801714897, 0.001473019365221262, -0.001566386199556291, 0.02851402945816517, 0.028470518067479134, -0.02684611827135086, 0.030950630083680153, -0.00041697779670357704, -0.0014240698656067252, -0.032400988042354584, -0.0061857751570641994, -0.016302019357681274, 0.007433082442730665, 0.020290501415729523, -0.05221287161111832, -0.0767529234290123, 0.010594861581921577, -0.02242252789437771, -0.02628047950565815, -0.001816572854295373, 0.054446421563625336, 0.006479472387582064, 0.042350441217422485, 0.013481073081493378, -0.027904879301786423, 0.0014956812374293804, -0.05398230627179146, -0.01306047011166811, 0.03605588898062706, -0.004343820735812187, -0.012929937802255154, 0.0074838451109826565, 0.01843404397368431, 0.017491312697529793, -0.014474567957222462, -0.00796971470117569, -0.020377524197101593, -0.04528016224503517, 0.02973232977092266, -0.03179183602333069, 0.004840568173676729, 0.009847927838563919, 0.019521811977028847, -0.025772852823138237, 0.008223527111113071, -0.034663546830415726, -0.022654585540294647, -0.025424767285585403, 0.00323611032217741, -0.0010415379656478763, 0.009992963634431362, -0.04879002645611763, -0.005975473206490278, 0.004448971711099148, -0.0160264503210783, 0.043858811259269714, -0.002440226497128606, -0.02787587232887745, 0.022321002557873726, -0.012400557287037373, 0.0010098114144057035, -0.006932708900421858, 0.01534478273242712, -0.012197506614029408, -0.011559349484741688, 0.014467316679656506, 0.032575029879808426, 0.0341414175927639, -0.02330724522471428, 0.006374321412295103, 0.013865417800843716, 0.03431545943021774, 0.02587437815964222, -0.022712599486112595, 0.023365259170532227, 0.035127658396959305, 0.009811668656766415, 0.003992109093815088, 0.012958944775164127, -0.017288262024521828, 0.04461300000548363, -0.013082224875688553, 0.003992109093815088, 0.002358644036576152, -0.0003818519471678883, -0.0064939758740365505, -0.03173382207751274, 0.06120508909225464, 0.025018667802214622, -0.006102379411458969, -0.010834170505404472, 0.05166173726320267, 0.002463794779032469, -0.009354806505143642, -0.010500588454306126, 0.003723792964592576, 0.005957343615591526, -0.03799936920404434, -0.008644131012260914, -0.028949135914444923, -0.0027031039353460073, 0.011740644462406635, -0.009833424352109432, 0.023843878880143166, 0.016142480075359344, -0.02356830984354019, -0.025453774258494377, -0.0033358223736286163, 0.010819667018949986, -0.002122960751876235, -0.02635299600660801, 0.01230628415942192, -0.029848357662558556, -0.013394052162766457, -0.02187139168381691, -0.00961587019264698, 0.0352436900138855, 0.011116990819573402, -0.009449079632759094, 0.014191748574376106, 0.00909374188631773, -0.04397483915090561, -0.03367730230093002, 0.02420646697282791, 0.03492461144924164, 0.05586777254939079, 0.007897197268903255, -0.006668018642812967, -0.010913940146565437, 0.028586547821760178, 0.021262241527438164, -0.008027728646993637, 0.025453774258494377, -0.003306815167888999, -0.0018265440594404936, 0.01650506816804409, 0.013843663036823273, 0.020145466551184654, -0.00047181942500174046, -0.015562336891889572, 0.041393205523490906, -0.02282862737774849, 0.0011466889409348369, 0.002135651418939233, 0.0024184712674468756, 0.00636706966906786, -0.008325052447617054, 0.05113960802555084, -0.0006907327915541828, 0.005649142432957888, 0.019913408905267715, -0.0006476753042079508, 0.039623767137527466, 0.009637625887989998, -0.0052285389974713326, 0.0024220971390604973, 0.013452066108584404, -0.02659955807030201, -0.009282288141548634, 0.014800898730754852, -0.0008815454202704132, 0.00989869050681591, 0.008738404139876366, 0.041944339871406555, -0.005475099664181471, -0.008158260956406593, -0.015011200681328773, 0.017273757606744766, -0.01753482222557068, 0.008462836034595966, 0.026541542261838913, -0.01747680827975273, 0.0071828956715762615, 0.013633361086249352, 0.019188230857253075, -0.02058057300746441, 0.01417724508792162, -0.02268359251320362, 0.00936930999159813, 0.015098221600055695, 0.002931535243988037, -0.01085592620074749, -0.0027810605242848396, -0.005685401614755392, -0.02732473611831665, -0.029297223314642906, -0.01197995338588953, 0.0005416179192252457, 0.005768797360360622, 0.04928315058350563, 0.012270024977624416, 0.015721876174211502, 0.04069703444838524, 0.02282862737774849, -0.04345271363854408, -0.032081909477710724, 3.5607412428362295e-05, 0.028427008539438248, 0.0014349474804475904, 0.0011285594664514065, -0.033532265573740005, -0.0006925457273609936, 0.019913408905267715, 0.03646199032664299, 0.021900398656725883, -0.012719635851681232, -0.011892931535840034, 0.008310548961162567, 0.01714322529733181, -0.024336999282240868, -0.031066657975316048, -0.023945402354002, -0.002155593829229474, 0.010928444564342499, 0.0010759839788079262, 0.00026401039212942123, 0.053054079413414, 0.012683376669883728, -0.009159008041024208, 0.011900183744728565, 0.041074126958847046, -0.009485338814556599, -0.0027248591650277376, 0.02909417264163494, 0.04472902789711952, 0.006033487617969513, 0.0063815731555223465, -0.01818748377263546, -0.03222694620490074, -0.032894108444452286, 0.0018655223539099097, 0.004481604788452387, 0.00211208313703537, -0.009724647738039494, 0.02452554553747177, 0.00645046541467309, 0.006639011669903994, 0.016925672069191933, 0.00526479771360755, 0.0050363666377961636, 0.015243257395923138, 0.12902380526065826, 0.00828879326581955, -0.026091931387782097, -0.003633145708590746, 0.0030747579876333475, -0.017897412180900574, -0.019753869622945786, 0.016650104895234108, -0.03301013633608818, -0.011312789283692837, 0.002008745213970542, -0.019362272694706917, 0.01921723783016205, 0.005594754125922918, 0.020769119262695312, 0.03547574579715729, -0.03141474351286888, -0.03768029063940048, 0.0023387016262859106, -0.02258206717669964, -0.003317692782729864, -0.010623869486153126, 0.022233981639146805, -0.0019108460983261466, -0.03535971790552139, -0.006671644747257233, -0.039217669516801834, -0.005359071306884289, 0.055142592638731, 0.01390167698264122, 0.001384184928610921, 0.027832360938191414, 0.014909675344824791, 0.008854432962834835, 0.016069961711764336, 0.02059507742524147, -0.0029551035258919, -0.00717201828956604, -0.015736378729343414, -0.03332921490073204, -0.03492461144924164, 0.008085743524134159, -0.01434403657913208, 0.022625578567385674, 0.01257460005581379, 0.014271518215537071, -0.03196588158607483, -0.0320529006421566, 0.0046048853546381, -0.013916180469095707, 0.0017404290847480297, -0.016171487048268318, 0.011972701177001, 0.002481924369931221, 0.048673998564481735, -0.047223642468452454, 0.022480541840195656, 0.001088674645870924, 0.06369969993829727, -0.0165775865316391, 0.01609896868467331, 0.020130962133407593, -0.0006957183941267431, 0.01737528294324875, -0.003315879963338375, 0.0031635924242436886, 0.012045219540596008, 0.03446049615740776, -0.03823142498731613, 0.04815186932682991, -0.017998937517404556, 0.013778396882116795, -0.007752161007374525, 0.01795542612671852, 0.009238777682185173, -0.008738404139876366, 0.00897771306335926, -0.006809428799897432, -0.013328786008059978, 0.011784154921770096, 0.012516585178673267, -0.008622375316917896, 0.024786610156297684, 0.042350441217422485, 0.01570737175643444, -0.0021374644711613655, -0.0336482934653759, -0.05314110219478607, 0.010950199328362942, 0.006657141260802746, -0.0003879706491716206, -0.025598810985684395, 0.007433082442730665, 0.021769866347312927, -0.000794977240730077, 0.007991470396518707, -0.03190786764025688, -0.006726033054292202, 0.0025109315756708384, -0.00849184300750494, 0.00817276444286108, 0.03878255933523178, -0.002099392469972372, 0.013031462207436562, -0.0008280635229311883, 0.00609150156378746, -0.05531663820147514, -0.023205719888210297, -0.02018897794187069, 0.04055199772119522, -0.0026432767044752836, -0.00961587019264698, 0.04316264018416405, 0.0014304150827229023, 0.02860105037689209, -0.013161994516849518, -0.019681351259350777, 0.026309486478567123, -0.030892616137862206, -0.0331551730632782, 0.0017975368537008762, -0.006483098026365042, 0.02755679376423359, -0.014967690221965313, 0.018608087673783302, -0.005562121048569679, -0.0019054071744903922, 0.04913811385631561, 0.0056128837168216705, -0.004158900119364262, 0.024467531591653824, -0.02058057300746441, -0.017766879871487617, 0.012676125392317772, 0.041219159960746765, -0.03799936920404434, 0.006363443564623594, -0.021682845428586006, -0.005130639765411615, -0.012124989181756973, 0.0069580902345478535, 0.014133734628558159, -0.025033170357346535, -0.0368390828371048, 0.013952439650893211, 0.013821907341480255, 0.008571612648665905, -0.0036639657337218523, -0.05134265869855881, -0.02116071619093418, -0.02211795188486576, -0.00548597751185298, 0.00892695039510727, -0.012487578205764294, -0.008709397166967392, 0.027629312127828598, -0.04478704184293747, -0.02153780870139599, 0.0009735525236465037, -0.010819667018949986, -0.006628133822232485, -0.012828412465751171, -0.0075636147521436214, 0.011008214205503464, 0.018782129511237144, -0.002810067730024457, -0.011037221178412437, 6.209342973306775e-05, -0.02002943679690361, -0.019347770139575005, -0.0072952983900904655, -0.008752907626330853, 0.016693616285920143, 0.02388738840818405, -0.017201241105794907, -0.026498032733798027, 0.003179908962920308, 0.03382233902812004, 0.004894956946372986, -0.018724115565419197, -0.004724539816379547, -0.048035841435194016, -0.0013107606209814548, -0.0074548376724123955, 0.004804309457540512, 0.003529807785525918, -0.015736378729343414, -0.04046497493982315, -0.010522344149649143, 0.011523090302944183, 0.02203093096613884, -0.020798128098249435, 0.007425830699503422, -0.006932708900421858, -0.01947830244898796, 0.014612352475523949, -0.047890804708004, -0.03408340364694595, 0.012364298105239868, 0.006823932286351919, -0.0003288232546765357, 0.006149515975266695, 0.06590424478054047, -0.02314770594239235, 0.021334759891033173, 0.0002447478473186493, -0.020696602761745453, -0.016331026330590248, -0.008789166808128357, -0.010623869486153126, -0.00873115286231041, -0.00374554842710495, -0.0031218945514410734, -0.007447585929185152, 0.02323472872376442, -0.005446092691272497, -0.03437347337603569, 0.012074226513504982, -0.01357534620910883, 0.0067151556722819805, 0.009079238399863243, 0.01683865115046501, 0.021653838455677032, -0.03472156077623367, 0.009383813478052616, 0.0010805163765326142, 0.013879921287298203, -0.016331026330590248, -0.02258206717669964, -0.0014240698656067252, 0.00726991705596447, -0.008078491315245628, -0.014713876880705357, -0.006261918693780899, -0.023742353543639183, 0.008034980855882168, -0.010638372972607613, -0.014199000783264637, -0.021030183881521225, -0.03390935808420181, -0.02259656973183155, 0.022625578567385674, -0.023379763588309288, 0.015286768786609173, -0.01085592620074749, 0.0541563518345356, -0.0066535151563584805, 0.01369862724095583, 0.01118225697427988, -0.009282288141548634, 0.026396507397294044, 0.04849995672702789, -0.00033403545967303216, -0.010159754194319248, -0.0249316468834877, 0.008578864857554436, 0.016011947765946388, -0.017810391262173653, 0.013430311344563961, -0.02636750042438507, -0.05615784600377083, -0.01406121626496315, 0.00267409672960639, -0.013930683955550194, -0.00502911489456892, -0.030080415308475494, 0.03567879647016525, -0.01577989012002945, -0.04055199772119522, 0.02915218658745289, -0.023350756615400314, -0.04278554767370224, 0.012436815537512302, -0.010203265585005283, -0.015576840378344059, 0.002211795188486576, 0.014576093293726444, -0.020885149016976357, -0.007411327213048935, -0.0010234084911644459, -0.024728596210479736, 0.00873115286231041, -0.006406954489648342, 0.006396076641976833, 0.0023096944205462933, 0.008810922503471375, -0.03251701593399048, 0.003025808371603489, -0.015156236477196217, -0.01868060603737831, -0.009985711425542831, -0.011305537074804306, 0.005866696126759052, 0.007143010850995779, 0.008760159835219383, 0.027832360938191414, -0.002248054137453437, -0.009768158197402954, -0.0018111339304596186, -0.026251472532749176, -0.018883654847741127, 0.0033648295793682337, -0.006294551771134138, 0.0067151556722819805, -0.04237944632768631, -0.017737872898578644, 0.030950630083680153, 0.01947830244898796, -0.008375815115869045, 0.01995692029595375, -0.0030366862192749977, 0.003227045526728034, 0.01971035823225975, 0.005148769356310368, -0.027614807710051537, 0.033851344138383865, 0.0025635070633143187, -0.023104196414351463, -0.007802923675626516, 0.0015645731473341584, -0.017882907763123512, 0.01310398057103157, -0.026265975087881088, -0.007897197268903255, 0.012233765795826912, -0.027629312127828598, 0.009362057782709599, -0.0018981554312631488, 0.01053684763610363, 0.05064648389816284, -0.007904448546469212, -0.03686808794736862, 0.026309486478567123, -0.021088197827339172, 0.039217669516801834, -0.014133734628558159, -0.035533759742975235, 0.006047991104424, -0.0005787833360955119, -0.011733392253518105, -0.018042447045445442, 0.006591875106096268, -0.001783939776942134, 0.0029732328839600086, 0.040174905210733414, 0.0037818073760718107, 0.0040102386847138405, -0.00625104084610939, 0.033938366919755936, -0.024075934663414955, -0.055809758603572845, 0.01875312253832817, 0.03286510333418846, -0.025294234976172447, -0.013966943137347698, -0.004503360018134117, 0.03910163789987564, -0.027469772845506668, 0.034576524049043655, 0.0013905302621424198, 0.039710789918899536, -0.019115712493658066, 0.023350756615400314, 0.016722623258829117, -0.018564576283097267, 0.0065737455151975155, 0.013132987543940544, 0.003977605607360601, 0.05343117192387581, -0.008789166808128357, -0.03515666723251343, 0.008252534084022045, 0.018230995163321495, 0.00012679297651629895, 0.004155274480581284, -0.008549857884645462, -0.025018667802214622, -0.004633892327547073, -0.014046712778508663, -0.05479450896382332, 0.0030965134501457214, 0.012291780672967434, 0.002438413677737117, -0.0005969127523712814, 0.036578018218278885, 0.002030500676482916, 0.0008847180870361626, -0.01754932664334774, 0.019579827785491943]\n"
     ]
    }
   ],
   "source": [
    "from dotenv import load_dotenv\n",
    "import os\n",
    "from openai import OpenAI\n",
    "\n",
    "# Load the .env file from the root directory\n",
    "load_dotenv()\n",
    "\n",
    "# Access the API key\n",
    "api_key = os.getenv(\"OPENAI_API_KEY\") \n",
    "\n",
    "# Initialize OpenAI client\n",
    "openai_client = OpenAI(api_key=api_key)\n",
    "\n",
    "text = \"This is a test text string!\"\n",
    "\n",
    "def get_embedding(text: str) -> list[float]:\n",
    "    response = openai_client.embeddings.create(\n",
    "        input=text,\n",
    "        model=\"text-embedding-3-small\",\n",
    "    )\n",
    "    return response.data[0].embedding\n",
    "\n",
    "\n",
    "embedding = get_embedding(text)\n",
    "print(len(embedding), embedding)"
   ]
  },
  {
   "cell_type": "code",
   "execution_count": 18,
   "id": "7217fe5f",
   "metadata": {},
   "outputs": [
    {
     "name": "stdout",
     "output_type": "stream",
     "text": [
      "The autoreload extension is already loaded. To reload it, use:\n",
      "  %reload_ext autoreload\n"
     ]
    },
    {
     "name": "stderr",
     "output_type": "stream",
     "text": [
      "2025-08-06 16:25:54,214 - httpx - INFO - HTTP Request: POST https://api.openai.com/v1/embeddings \"HTTP/1.1 200 OK\"\n"
     ]
    },
    {
     "name": "stdout",
     "output_type": "stream",
     "text": [
      "[-0.00303721334785223, -0.056747838854789734, 0.029505394399166107, 0.0429670475423336, -0.04079113528132439, -0.025182578712701797, -0.01281613390892744, 0.03519178181886673, -0.031536247581243515, -0.0111116673797369, -0.015869665890932083, -0.031101064756512642, -0.020279519259929657, -0.024703877046704292, 0.029606936499476433, 0.035859063267707825, -0.03820905089378357, 0.017813483253121376, 0.011416295543313026, 0.040762122720479965, 0.047550976276397705, 0.002547632670029998, -0.0063645485788583755, -0.013896837830543518, 0.03478561341762543, -0.012214130721986294, -0.04438864812254906, 0.018524281680583954, 0.023673944175243378, -0.043373219668865204, 0.044939879328012466, -0.036236222833395004, -0.010205036960542202, 0.005954751279205084, 0.006237620022147894, 0.0006160556804388762, -0.0016319354763254523, 0.006502356380224228, -0.001445169560611248, -0.024007584899663925, 0.01213434711098671, -0.027779169380664825, 0.01024855487048626, 0.04032694175839424, -0.052047863602638245, 0.02917175367474556, -0.055993519723415375, 0.012264901772141457, 0.031710319221019745, 0.0425608791410923, -0.02165759727358818, 0.010219543240964413, 0.01714620180428028, 0.08111807703971863, -0.03710658848285675, -0.04934972897171974, 0.016652995720505714, 0.06742431968450546, -0.04560715705156326, 0.006959298625588417, 0.010603954084217548, 0.008652884513139725, -0.008014616556465626, 0.012083576060831547, 0.03292883187532425, -0.016159787774086, -0.02071470208466053, -0.0024043850135058165, -0.011974779888987541, 0.06284039467573166, 0.012119840830564499, 0.03957262262701988, 0.002039919374510646, -0.005624737590551376, -0.05071330443024635, -0.014803468249738216, -0.027822688221931458, -0.010894075967371464, -0.021802658215165138, -0.06614778935909271, -0.043953463435173035, 0.03646831959486008, -0.05100342631340027, -0.04894356057047844, -0.01177894789725542, 0.0010625713039189577, -0.028141820803284645, -0.015739111229777336, -0.027402011677622795, -0.0003909845545422286, -0.007622952107340097, 0.008486065082252026, -0.03759979456663132, 0.008623872883617878, 0.009378189221024513, -0.013817054219543934, -0.010103493928909302, 0.05271514505147934, 0.06591568887233734, -0.04250285401940346, 0.018016567453742027, -0.0406750850379467, 0.036990538239479065, -0.02319524437189102, 0.02373196929693222, -0.0009927607607096434, -0.011757188476622105, -0.03142019733786583, -0.03876028209924698, 0.012293914332985878, -0.13519679009914398, -0.03632325679063797, 0.016899598762392998, 0.002797862747684121, -0.0020381060894578695, 0.00999469868838787, 0.05352748557925224, -0.036236222833395004, 0.02577732875943184, -0.054310813546180725, 0.008224954828619957, -0.016885092481970787, -0.014643901027739048, -0.05045219510793686, -0.03638128191232681, -0.023224255070090294, -0.02299215830862522, 0.04911763221025467, -0.039427563548088074, 0.0036555356346070766, 0.05004602298140526, 0.02632855996489525, 0.009849637746810913, -0.0410812571644783, -0.032667722553014755, -0.0029411104042083025, -0.032290562987327576, -0.011169692501425743, -0.040965206921100616, 0.0463324636220932, 0.0515836700797081, -0.019510695710778236, -0.0009991071419790387, -0.020381061360239983, -0.016464415937662125, -0.03295784443616867, -0.012721844017505646, 0.021585067734122276, -0.013040978461503983, -0.01159762218594551, 0.0429670475423336, 0.04273495078086853, -0.03646831959486008, 0.010683737695217133, 0.023006664589047432, -0.027779169380664825, 0.03580103814601898, -0.03179735690355301, -0.013309340924024582, 0.030433785170316696, 0.05085836350917816, 0.030404772609472275, -0.03484363853931427, 0.005334615707397461, 0.006527741905301809, 0.006005522795021534, 0.012214130721986294, -0.01711719110608101, -0.0474059134721756, -0.010567689314484596, 0.03464055061340332, 0.011416295543313026, -0.02653164602816105, -0.049987997859716415, -0.009283900260925293, 0.015608556568622589, 0.0035032215528190136, -0.06214410439133644, 0.0042357794009149075, -0.027532566338777542, 0.03725164756178856, 0.05741511657834053, 0.00978436041623354, -0.007601193152368069, -0.03722263500094414, -0.017001140862703323, -0.023993078619241714, 0.0002572564990259707, -0.012482493184506893, -0.02447178028523922, -0.052047863602638245, 0.05161268264055252, 0.03646831959486008, -0.005233073141425848, 0.003978296183049679, -0.0387892946600914, 0.06643790751695633, 0.002440650248900056, -0.005780678242444992, 0.02505202405154705, 0.004645576700568199, 0.01675453782081604, -0.03481462597846985, -0.044533707201480865, -0.017624903470277786, -0.03841213509440422, -0.0008014616905711591, 0.06701815128326416, -0.009370936080813408, -0.035133760422468185, 0.07519958913326263, -0.006886768154799938, -0.029070211574435234, -0.008232207968831062, -0.04389543831348419, 0.0009782547131180763, 0.0364973321557045, 0.022716542705893517, 0.000512699771206826, -0.04476580396294594, -0.045288022607564926, 0.0587206669151783, 0.07096380740404129, -0.00602365517988801, 0.03786090388894081, -0.005381760653108358, 0.002261137356981635, -0.03382821008563042, 0.058836717158555984, 0.013976621441543102, 0.02299215830862522, 0.019162548705935478, 0.021149884909391403, -0.038673244416713715, -0.0018948584329336882, -0.025907883420586586, 0.039630647748708725, -0.008043629117310047, 0.0033799197990447283, 0.00903004314750433, -0.04908861964941025, -0.004311936441808939, -0.00021158497838769108, 0.043402232229709625, 0.04099421948194504, -0.012707337737083435, -0.03258068487048149, -0.021338462829589844, 0.02297765202820301, 0.032493650913238525, 0.03742572292685509, 0.011104414239525795, -0.007082600146532059, -0.0051569161005318165, 0.02786620520055294, 0.0016881466144695878, -0.008906741626560688, -0.003764331340789795, 0.03464055061340332, -0.020192481577396393, -0.0455201230943203, -0.0421547070145607, -0.023079194128513336, -0.03426339477300644, 0.0006872261874377728, -0.02934582717716694, 0.0024479033891111612, -0.008268473669886589, -0.04540407285094261, -0.015202386304736137, 0.038325097411870956, 0.014788961969316006, 0.06115769222378731, -0.01903199404478073, -0.007224034518003464, -0.006632911507040262, -0.009240381419658661, 0.001854966743849218, -0.015405471436679363, 0.03864423185586929, -0.026444608345627785, -0.00512427743524313, 0.01640639267861843, 0.047347888350486755, -0.042821988463401794, -0.0040399469435215, 0.013671993277966976, -0.0005185928312130272, -0.019539708271622658, -0.01470192614942789, 0.03916645422577858, 0.05477501079440117, 0.03423438221216202, -0.01827767863869667, 0.021323958411812782, 0.013215051032602787, 0.01159762218594551, -0.03365413844585419, 0.0455201230943203, -0.01711719110608101, 0.062028057873249054, -0.010770774446427822, 0.03086896799504757, 0.02184617705643177, 0.0045186481438577175, 0.03214550390839577, 0.02598041296005249, -0.035307832062244415, 0.056573763489723206, -0.007557674776762724, -0.003109743818640709, -0.016536947339773178, 0.06324657052755356, -0.02425418794155121, -0.023630427196621895, -0.06742431968450546, -0.01917705498635769, -0.02481992542743683, 0.015753617510199547, -0.03458252549171448, 0.035133760422468185, -0.059416960924863815, -0.014520599506795406, -0.014484334737062454, 0.011024631559848785, -0.024892456829547882, 0.06138978898525238, 0.01846625655889511, 0.014324767515063286, -0.009530503302812576, 0.00322216609492898, -0.013309340924024582, -0.010125253349542618, -0.009196863509714603, 0.0020925039425492287, -0.012083576060831547, -0.031333163380622864, 0.03423438221216202, 0.016261331737041473, 0.036236222833395004, -0.012707337737083435, -0.03388623520731926, 0.008899488486349583, -0.0231662318110466, 0.006299271248281002, -0.004961084108799696, 0.043402232229709625, -0.022310372442007065, -0.005617484916001558, -0.000434502842836082, -0.0021178897004574537, -0.012083576060831547, -0.00669093569740653, -0.016304848715662956, -0.015869665890932083, -0.00895751267671585, 0.06063546985387802, -0.021802658215165138, 0.0037171863950788975, 0.03823806345462799, -0.002139648888260126, -0.021149884909391403, -0.006694562267512083, 0.003974669612944126, 0.034379441291093826, 0.02825787104666233, -0.007020949386060238, -0.04778307303786278, -0.007688229437917471, 0.02863502874970436, 0.009037296287715435, -0.004594805184751749, 0.008217701688408852, -0.013265823014080524, -0.030259711667895317, -0.03382821008563042, 0.024747395887970924, -0.00961028691381216, 0.042647916823625565, -0.0005340055795386434, 0.017262252047657967, 0.0148832518607378, -0.0056863888166844845, -0.023978572338819504, 0.0023499871604144573, -0.013526932336390018, 0.025936895981431007, 0.009436213411390781, 0.013258569873869419, -0.014796215109527111, 0.01223589014261961, -0.013657486997544765, 0.0010244928998872638, 0.006846876349300146, 0.002281083259731531, -0.026633188128471375, 0.0044896360486745834, 0.0023445473052561283, -0.01640639267861843, -0.05947498232126236, 0.06446508318185806, -0.02638658508658409, 0.013302087783813477, 0.0051496634259819984, -0.04787010699510574, -0.060171276330947876, -0.00829023215919733, 0.064116932451725, -0.01658046431839466, -0.03449549153447151, -0.002273830119520426, -0.055674389004707336, 0.03638128191232681, 0.022644011303782463, -0.020801737904548645, -0.0019510695710778236, -0.028098303824663162, -0.04871146380901337, 0.023601414635777473, 0.00428655045107007, 0.00635729543864727, 0.02125142700970173, -0.04952380433678627, 0.025951402261853218, -0.011336511932313442, 0.04859541356563568, 0.04203866049647331, -0.01691410504281521, -0.014063657261431217, -0.08222053945064545, -0.0043880934827029705, -0.01678355038166046, -0.009661057963967323, 0.025907883420586586, -0.0062231142073869705, -0.04346025735139847, 0.012054563499987125, -0.007963845506310463, 0.033422037959098816, 0.03147822245955467, -0.003231232287362218, -0.002475102199241519, 0.0149847948923707, 0.010487905703485012, -0.0005766171962022781, -0.03777386620640755, -0.00517504895105958, -0.024979492649435997, -0.012569529935717583, 0.006157836876809597, 0.009958432987332344, -0.0662638321518898, 0.027837194502353668, 0.012011045590043068, -0.001958322711288929, -0.005011855158954859, 0.02297765202820301, 0.020381061360239983, 0.0015140734612941742, 0.013461655005812645, 0.017233239486813545, 0.008551342412829399, -0.06812061369419098, 0.03327697888016701, 0.03385722264647484, -0.009196863509714603, -0.01936563476920128, 0.011662899516522884, -0.02692331001162529, -0.048102207481861115, -0.015913184732198715, 0.011735429987311363, 0.02973749116063118, -0.032493650913238525, -0.0014732751296833158, -0.017392806708812714, -0.028199845924973488, 0.012163359671831131, -0.036410294473171234, -0.0063355364836752415, 0.06022930145263672, 0.010676484555006027, 0.02336931601166725, 0.020294025540351868, 0.007176889572292566, 0.05741511657834053, -0.07659217715263367, -0.007739000953733921, -0.03498869761824608, -0.017653916031122208, -0.06318854540586472, 0.04766702279448509, 0.05062626674771309, -0.017740951851010323, -0.01553602609783411, -0.031507235020399094, 0.018582306802272797, -0.012562276795506477, -0.007035455200821161, -0.01467291358858347, 0.017015647143125534, -0.025878870859742165, -0.004072585608810186, 0.03449549153447151, 0.07293663918972015, -0.009008283726871014, -0.04569419473409653, -0.02293413318693638, 0.01769743487238884, -0.04314112290740013, -0.06173793599009514, 2.690143810468726e-05, 0.00819594319909811, -0.028852619230747223, -0.0003769317700061947, -0.00536000169813633, -0.004736239556223154, 0.018306689336895943, -0.007586686871945858, -0.01923508010804653, 0.010886822827160358, 0.029998602345585823, -0.007920326665043831, -0.028344906866550446, 0.02389153651893139, 0.006799731403589249, -0.032638709992170334, 0.0026292295660823584, -0.02410912699997425, 0.020859763026237488, 0.01769743487238884, -0.015666581690311432, 0.039456576108932495, 0.016478922218084335, -0.02238290198147297, -0.0058749676682055, -0.01250425260514021, 0.01617429405450821, -0.012656566686928272, 0.003011827589944005, 0.01206181664019823, 0.016493428498506546, 0.009922168217599392, 0.013251316733658314, -0.015115349553525448, 0.0020616785623133183, 0.024587828665971756, 0.018002063035964966, 0.009856890887022018, 0.024935975670814514, -0.0006169622647576034, -0.010139759629964828, -0.017465336248278618, -0.016319354996085167, 0.027996759861707687, -1.6786836567916907e-05, -0.016261331737041473, -0.008486065082252026, 0.009283900260925293, 0.0620860792696476, 0.013809801079332829, -0.007666470482945442, 0.02336931601166725, 0.03452450409531593, -0.012837892398238182, 0.010618460364639759, 0.0038223557639867067, -0.028286881744861603, -0.04650653526186943, -0.039659660309553146, -0.02938934601843357, -0.024341225624084473, -0.006458838004618883, -0.06284039467573166, 0.021773645654320717, 0.002763410797342658, 0.013316594064235687, 0.0008993778028525412, 0.022455433383584023, -0.01806008629500866, -0.01655145362019539, -0.007224034518003464, -0.008159677498042583, 0.03278377279639244, -0.04966886341571808, 0.03881830722093582, 0.016304848715662956, 0.008725414983928204, 0.022716542705893517, -0.03553992882370949, 0.01942365989089012, 0.026981333270668983, 0.019655756652355194, 0.04705776646733284, -0.010132506489753723, -0.011916755698621273, -0.00987864937633276, 0.01251875888556242, -0.028954163193702698, 0.0492917075753212, 0.03046279586851597, 0.010836051777005196, -0.010147012770175934, -0.031101064756512642, 0.01017602439969778, 0.0017552373465150595, -0.022136298939585686, -0.007514156401157379, -0.0009392695501446724, -0.059416960924863815, -0.03423438221216202, 0.04070409759879112, -0.012163359671831131, -0.053585510700941086, -0.024007584899663925, 0.03948558494448662, -0.023499870672822, 0.009530503302812576, 0.011858731508255005, -0.036033134907484055, -0.004043573513627052, -0.0391954630613327, -0.001738011371344328, 0.029998602345585823, 0.0013100815704092383, 0.02708287723362446, -0.029432862997055054, -0.010473399423062801, -0.0188579224050045, 0.0001145754722529091, 0.026981333270668983, 0.0064660911448299885, 0.03580103814601898, -0.01017602439969778, -0.00914609245955944, 0.00011451880709500983, 0.013904090970754623, 0.0036736682523041964, -0.008210448548197746, -0.0222233347594738, 0.030607856810092926, -0.006948418915271759, 0.012671072967350483, -0.01977180503308773, 0.05898177623748779, 0.020758219063282013, 0.017929531633853912, 0.032116491347551346, 0.00691215367987752, -0.010118000209331512, 0.03614918515086174, 0.01769743487238884, 0.019438166171312332, 0.013048231601715088, 0.020990317687392235, -0.0201344583183527, -0.03670041635632515, -0.016159787774086, -0.03289981931447983, 0.02806929126381874, -0.01581164263188839, 0.05216391384601593, -0.03553992882370949, -0.011372777633368969, -0.011423548683524132, 0.009987445548176765, -0.018698355183005333, 0.018567800521850586, 0.0019202441908419132, -0.0199313722550869, -0.016711018979549408, -0.0022919627372175455, 0.05013306066393852, -0.011822465807199478, 0.027372999116778374, -0.006375428289175034, -0.014375538565218449, -0.005795184522867203, 0.00829023215919733, -0.013497919775545597, 0.019815323874354362, 0.01807459257543087, -0.03841213509440422, -0.009987445548176765, 0.005831449758261442, 0.023630427196621895, 0.014165200293064117, 0.02200574427843094, -0.007535915821790695, 0.007202275563031435, -0.02712639421224594, -0.03223254159092903, 0.010799787007272243, 0.015608556568622589, 0.0006423479644581676, -0.03107205219566822, 0.025893377140164375, -0.004159622360020876, -0.005066253244876862, -0.06301447004079819, 0.028939656913280487, -0.013048231601715088, -0.021730128675699234, 0.017624903470277786, 0.008681897073984146, -0.00720952870324254, -0.033422037959098816, 0.022281359881162643, 0.040384963154792786, 0.017987556755542755, -0.040036819875240326, -0.008522329851984978, -0.028388425707817078, -0.002690880326554179, -0.04630345106124878, -0.011829718947410583, -0.03182636946439743, -0.036845479160547256, -0.0018477137200534344, -0.010582195594906807, -0.03408931940793991, 0.005428905598819256, -0.020018409937620163, 0.007543168496340513, -0.016493428498506546, -0.016827069222927094, 0.014244983904063702, -0.008870475925505161, 0.030085638165473938, 0.007383601740002632, 0.006038161460310221, -0.0031423824839293957, 0.0036011377815157175, -1.7530556988276658e-06, 0.0031532621942460537, -0.003942030947655439, -0.0436343289911747, -0.012591289356350899, 0.018538787961006165, -0.03896336629986763, -0.03495968505740166, 0.012975701130926609, 0.029679467901587486, 0.011873237788677216, -0.027213431894779205, -0.012758109718561172, 0.019278598949313164, 0.009972939267754555, -0.005842329002916813, -0.00941445492208004, -0.004870420787483454, 0.012656566686928272, -0.028881631791591644, 0.0026292295660823584, 0.01081429235637188, -0.005127904005348682, 0.03600412607192993, 0.0226295068860054, -0.01497028861194849, 0.020932292565703392, -0.013860572129487991, 0.04087817296385765, 0.004058079794049263, 0.040965206921100616, -0.006263006012886763, 0.008667390793561935, 0.009073561988770962, 0.011604875326156616, -0.007133371662348509, 0.00489218020811677, 0.03031773492693901, 0.011807960458099842, 0.01974279247224331, 0.01035009790211916, 0.00060517608653754, 0.007314697839319706, -0.029795516282320023, 0.011140679940581322, -0.04090718552470207, -0.027967749163508415, -0.004152369219809771, -0.0004483289667405188, -0.013918597251176834, -0.009334671311080456, 0.012569529935717583, -0.005396266933530569, 0.016261331737041473, -0.012881411239504814, 0.01365023385733366, -0.0414874292910099, -0.045491110533475876, -0.022469939664006233, -0.0020925039425492287, -0.01634836755692959, 0.02426869422197342, 0.059010788798332214, -0.0013934916350990534, -0.0081814369186759, 0.019481683149933815, -0.006092559080570936, -0.00799285713583231, -0.04598431661725044, 0.02689429745078087, 0.028504474088549614, -0.0022484445944428444, 0.002631042618304491, -0.024355731904506683, 0.005385387223213911, -0.002841381123289466, -0.002757970942184329, 0.012293914332985878, 0.0406750850379467, -0.006480597425252199, 0.002377185970544815, 0.019496189430356026, -0.01938014104962349, 0.015869665890932083, -0.0163628738373518, 0.02431221306324005, 0.007151504047214985, 0.015390965156257153, 0.006375428289175034, -0.03182636946439743, -0.007855049334466457, 0.07067368924617767, 0.025545230135321617, -0.007506903260946274, 0.031188100576400757, 0.04682566970586777, -0.015710098668932915, -0.009668311104178429, -0.0079130744561553, -0.01790051907300949, -0.018509775400161743, 0.0006550407852046192, 0.023949559777975082, 0.016812562942504883, -0.02355789579451084, -0.00884871743619442, -0.009233128279447556, -0.017552373930811882, -0.015782630071043968, -0.015753617510199547, -0.012351938523352146, 0.049262695014476776, -0.02487795054912567, 0.009617540054023266, -0.0012529637897387147, -0.008203196339309216, 0.0019129910506308079, -0.027416516095399857, -0.042299769818782806, 0.01403464563190937, -0.0148832518607378, -0.024558816105127335, 0.018132617697119713, -0.0057045212015509605, -0.0148832518607378, -0.015042819082736969, -0.028533486649394035, -0.00687588844448328, 0.02937483973801136, 0.015710098668932915, 0.025704797357320786, 0.02656065672636032, -0.0028323146980255842, 0.015086336992681026, 0.007151504047214985, 0.05004602298140526, 0.047144804149866104, -0.004623817279934883, 0.015753617510199547, -0.006186848971992731, -0.004547660239040852, 0.01213434711098671, 0.03655535727739334, -0.06121571362018585, 0.03127513825893402, 0.0015693779569119215, -0.024718383327126503, 0.028722064569592476, 0.027576083317399025, -0.005341868847608566, -0.015173373743891716, -0.019510695710778236, -0.03818003833293915, 0.007249420043081045, 0.011401789262890816, 0.02654615044593811, -0.010879570618271828, -0.009008283726871014, 0.010205036960542202, -0.005276591517031193, -0.011836972087621689, -0.0072566731832921505, -0.01997489109635353, -0.006146957166492939, 0.04427259787917137, 0.011909502558410168, 0.002602030523121357, 0.0032874434255063534, -0.019496189430356026, 0.008435293100774288, 0.03406030684709549, 0.013548691757023335, -0.00020342529751360416, -0.00508801219984889, -0.009095320478081703, 0.003880379954352975, -0.003963789902627468, -0.00030485462048090994, -0.05283119156956673, 0.022078273817896843, 0.017262252047657967, 0.05503612011671066, 0.029664961621165276, 0.0011894996277987957, 0.02071470208466053, 0.002904845168814063, 0.021976731717586517, -0.005802437663078308, -0.0561675950884819, -0.031942419707775116, 0.022513456642627716, -0.022339385002851486, 0.009421708062291145, -0.041893597692251205, 0.064116932451725, 0.02014896459877491, -0.012438975274562836, 0.016667502000927925, 0.006890394259244204, -0.028344906866550446, 0.02144000679254532, 0.00867464393377304, 0.0002932950737886131, -0.03658436983823776, 0.02293413318693638, -0.00884871743619442, -0.03994978219270706, -0.025197084993124008, 0.0239060427993536, 0.016159787774086, -0.0014125308953225613, 0.05422377958893776, 0.02068568952381611, 0.010763521306216717, 0.0001518606732133776, -0.007100732997059822, -0.009392695501446724, -0.021396487951278687, -0.01091583538800478, -0.0057045212015509605, 0.0018930452642962337, -0.022136298939585686, 0.02468937076628208, 0.05161268264055252, -0.0060998122207820415, -0.015231397934257984, 0.005200434476137161, -0.02483443170785904, -0.023238761350512505, -0.02373196929693222, -0.0073908548802137375, 0.004384466912597418, 0.00026926936698146164, -0.028359413146972656, -0.009008283726871014, 0.014332020655274391, -0.012540518306195736, -0.01288866437971592, 0.006879515014588833, 0.023819005116820335, 0.02106284722685814, -0.0005190461524762213, -0.013236810453236103, -0.02618349902331829, 0.027387505397200584, 0.03928250074386597, 0.000927936693187803, 0.02130945213139057, -0.01940915361046791, 0.01081429235637188, 0.002509554149582982, -0.022266853600740433, 0.009922168217599392, 0.018698355183005333, 0.007717241998761892, -0.024587828665971756, -0.014709179289638996, 0.014658407308161259, 0.0021849803160876036, -0.05027811974287033, 0.023064689710736275, 0.04479481652379036, -0.010088987648487091, -0.01790051907300949, -0.007122491952031851, -0.026865284889936447, -0.025139059871435165, 0.0069738044403493404, 0.007768013048917055, 0.03258068487048149, -0.010973859578371048, 0.01674003154039383, -0.007169636897742748, -0.008536836132407188, -0.0026147232856601477, -0.0007896754541434348, 0.006020028609782457, 0.0032294190023094416, -0.0016981195658445358, -0.012003792449831963, 0.01299745962023735, 0.013519679196178913, 0.013236810453236103, -0.031333163380622864, 0.019162548705935478, -0.018350208178162575, 0.00039461106644012034, -0.00033364014234393835, 0.002181353745982051, -0.011873237788677216, -0.014832480810582638, -0.01808909885585308, -0.021991237998008728, 0.03176834434270859, -0.009835131466388702, -0.034205369651317596, 0.034321416169404984, -0.013788041658699512, 0.041342366486787796, -0.0001994587801164016, 0.0261980053037405, -0.008993778377771378, 0.03614918515086174, -0.03176834434270859, -0.02049710974097252, -0.010110747069120407, -0.006128824315965176, -0.010009204968810081, -0.012569529935717583, -0.012206877581775188, 0.03089797869324684, -0.022890616208314896, -0.009334671311080456, -0.03464055061340332, 0.02957792393863201, 0.00121035217307508, 0.016536947339773178, -0.013628475368022919, 0.000683599675539881, 0.0047906371764838696, 0.01768292859196663, 0.013657486997544765, 0.020482603460550308, 0.00819594319909811, 0.003218539524823427, 0.015710098668932915, 0.012685579247772694, -0.02746003493666649, -0.02731497399508953, -0.02732948027551174, 0.009109826758503914, 0.0350177101790905, -0.03524980694055557, 0.02126593329012394, 0.009153344668447971, 0.01639188639819622, 0.030172673985362053, -0.016043739393353462, 0.012156106531620026, -0.013693752698600292, 0.017769964411854744, -0.026241524145007133, -0.0011260354658588767, 0.026850778609514236, -0.031536247581243515, 0.0018622197676450014, 0.010321085341274738, 0.03356710076332092, -0.00223575159907341, 0.014578623697161674, -0.020279519259929657, -0.015376458875834942, -0.03458252549171448, 0.011735429987311363, -0.0003402132133487612, 0.01497028861194849, -0.000595656456425786, 0.008232207968831062, 0.002368119778111577, -0.02936033345758915, 0.007862302474677563, -0.045636169612407684, 0.011176944710314274, 0.011691911146044731, 0.008406281471252441, 0.04383741319179535, -0.01430300809442997, -0.026096463203430176, 0.01486874558031559, -0.00018155282305087894, -0.01053142361342907, 0.006426199339330196, 0.017639409750699997, -0.014912264421582222, 0.001064384588971734, 0.00012364178837742656, 0.04154545068740845, 0.01544898934662342, -0.007956592366099358, -0.004456997383385897, 0.0114815728738904, 0.016449909657239914, -0.017740951851010323, -0.029853541404008865, -0.020236000418663025, -0.0059583778493106365, -0.0032820035703480244, 0.01923508010804653, -0.019670262932777405, 0.002088877372443676, 0.01233017910271883, 0.002796049462631345, 0.020221494138240814, 0.054107729345560074, 0.012765361927449703, -0.03873126953840256, -0.0032493649050593376, 0.021135378628969193, 0.02373196929693222, 0.024935975670814514, -0.03847016021609306, 0.015289423055946827, 0.0436343289911747, -0.0111116673797369, 0.0020236000418663025, -0.02882360853254795, 0.0191915612667799, 0.029795516282320023, -0.0032058467622846365, -0.01917705498635769, 0.0043880934827029705, -0.05062626674771309, -0.0028395678382366896, 0.012206877581775188, 0.11796355247497559, -0.01354143861681223, -0.04372136667370796, 0.009283900260925293, 0.019249586388468742, -0.03855719789862633, -0.007224034518003464, 0.007963845506310463, -0.0005267524975351989, -0.014266743324697018, 0.008529582992196083, -0.03655535727739334, -0.044707778841257095, 0.005708147771656513, -0.02522609755396843, 0.024181658402085304, -0.016667502000927925, -0.03504672273993492, 0.004166875500231981, -0.004874047357589006, 0.020206987857818604, -0.02450079284608364, -0.00996568612754345, 0.00939994864165783, -0.010944847948849201, -0.024950480088591576, -0.008906741626560688, -0.022107286378741264, 0.02953440696001053, 0.03861521929502487, -0.020250506699085236, -0.001230298075824976, 0.04253186658024788, 9.491291712038219e-05, 0.02125142700970173, 0.03223254159092903, -0.02293413318693638, -0.0267347302287817, -0.023644931614398956, 0.022136298939585686, -0.02335481159389019, 0.004315563011914492, 0.0113147534430027, -0.008500570431351662, -0.0003606124082580209, 0.020787231624126434, 0.007078973576426506, -0.022847097367048264, 0.0017896892968565226, -0.011931261979043484, -0.02468937076628208, 0.015042819082736969, -0.004696347750723362, 0.02484893798828125, -0.0038695004768669605, -0.014854240231215954, 0.037744853645563126, 0.038296088576316833, 0.06162188574671745, -0.01119870413094759, -0.008145171217620373, 0.0031369426287710667, 0.014854240231215954, 0.03388623520731926, 0.0052802180871367455, 0.005878594238311052, -0.03594610095024109, 0.03391524776816368, -0.001088863704353571, 0.03292883187532425, -0.0015458056004717946, 0.02278907224535942, 0.022498950362205505, 0.027053864672780037, 0.011662899516522884, 0.019684769213199615, -0.02841743640601635, 0.013396377675235271, -0.010386362671852112, 0.04232878237962723, -0.00536000169813633, -0.015695592388510704, 0.018698355183005333, 0.017102684825658798, 0.013846066780388355, 0.02294863946735859, 0.020221494138240814, -0.008232207968831062, -0.015942197293043137, -0.022905122488737106, 0.01278712134808302, 0.005697268061339855, 0.026589669287204742, 0.006165089551359415, -0.0003012281085830182, 0.008449799381196499, -0.04842134192585945, 0.007035455200821161, -0.01881440356373787, 0.046187400817871094, 0.014368285425007343, 0.0028776463586837053, 0.006295644678175449, 0.03890534117817879, -0.023586908355355263, -0.0030009481124579906, -0.006143330596387386, -0.05288921669125557, -0.050365157425403595, 0.019641250371932983, 0.004993722774088383, -0.0026582416612654924, 0.015361953526735306, 0.006088932976126671, 0.039427563548088074, -0.06133176386356354, -0.025458194315433502, -0.02483443170785904, -0.002128769177943468, -0.004319189582020044, 0.046419501304626465, 0.02917175367474556, 0.011249475181102753, 0.0009918541181832552, 0.03800596669316292, -0.005501436069607735, 0.03620721027255058, 0.016841575503349304, 0.05219292640686035, -0.016667502000927925, -0.005588472355157137, -0.009835131466388702, -0.005983763374388218, 0.008384522050619125, 0.013265823014080524, 0.009690070524811745, 0.0069955638609826565, -0.01959773153066635, 0.002174100838601589, -0.0022683904971927404, -0.00033160022576339543, -0.022702036425471306, 0.005671882536262274, -0.012511505745351315, -0.019829830154776573, 0.0013155213091522455, 0.01505732536315918, -0.009153344668447971, -0.024790914729237556, -0.03658436983823776, -0.019133538007736206, -0.022252347320318222, 0.026517139747738838, -0.013374618254601955, -0.008884982205927372, -0.0011595808900892735, -0.03388623520731926, -0.0013526931870728731, -0.0024333971086889505, -0.029099224135279655, -0.042270757257938385, -0.012366444803774357, 0.00039075789391063154, 0.00230465573258698, -0.011474319733679295, 0.021904202178120613, -0.014622142538428307, 0.009320165030658245, -0.008696403354406357, -0.004928445443511009, 0.021585067734122276, -0.027837194502353668, -0.003637403016909957, 0.02843194268643856, 0.023586908355355263, -0.022716542705893517, 0.020395567640662193, -0.005193181335926056, 0.03200044110417366, -0.00437358720228076, -0.06562557071447372, -0.027547072619199753, 0.00931291189044714, -0.019075512886047363, -0.022861603647470474, 0.03524980694055557, -0.017755458131432533, 0.002953803399577737, -0.008203196339309216, -0.030810942873358727, -0.009392695501446724, -0.027227938175201416, -0.012054563499987125, -0.01923508010804653, -0.0149847948923707, -0.009900408796966076, -0.018190640956163406, -0.03086896799504757, -0.007448879070580006, 0.005483303219079971, -0.03620721027255058, -0.010770774446427822, 0.019075512886047363, 0.002301029162481427, 0.010451640002429485, -0.00857310090214014, -0.008203196339309216, 0.01787150651216507, -0.019800817593932152, 0.001224858220666647, -0.0017035594210028648, 0.01994587853550911, 0.002382625825703144, 0.016682008281350136, 0.042473841458559036, 0.05741511657834053, -0.019496189430356026, 0.037541769444942474, 0.012438975274562836, 0.008979272097349167, 0.008123412728309631, -0.014411804266273975, 0.030985016375780106, -0.021788151934742928, 0.007401734124869108, 0.03672942891716957, -0.029606936499476433, -0.02016347087919712, -0.02186068333685398, -0.018118111416697502, 0.01974279247224331, 0.020177975296974182, 0.03716461360454559, 0.037019550800323486, -0.02580634132027626, 0.00836276262998581, -0.0027162660844624043, 0.013875078409910202, -0.0037044936325401068, 0.007543168496340513, -0.010386362671852112, -0.00047280799481086433, -0.009523250162601471, -0.00639356067404151, -0.005505062639713287, 0.05892375111579895, 0.022644011303782463, -0.008536836132407188, 0.028156327083706856, 0.0013336539268493652, -0.0019655756186693907, 0.040733110159635544, -0.01788601279258728, -0.016682008281350136, -0.013360111974179745, -0.012496999464929104, 0.008355509489774704, 0.01734928786754608, 0.011858731508255005, -0.0008685523644089699, -0.03255167230963707, -0.01769743487238884, 0.015347447246313095, -0.011924008838832378, -0.013316594064235687, -0.004108850844204426, 0.027996759861707687, 0.008986525237560272, 0.007659217342734337, 0.036236222833395004, -0.002288336167111993, -0.007020949386060238, 0.02711188979446888, -0.015884172171354294, -0.023122712969779968, 0.028939656913280487, 0.02954891324043274, 0.0021886068861931562, -0.0013300274731591344, 0.00216866098344326, -0.0191915612667799, -0.009073561988770962, -0.0011360084172338247, 0.006462464574724436, -0.005004602484405041, -0.0051569161005318165, -0.012576783075928688, -0.012859651818871498, -0.022876109927892685, -0.012939435429871082, 0.0633045956492424, 0.0010870504193007946, -0.003481462365016341, 0.015347447246313095, 0.004562166519463062, 0.026865284889936447, -0.017944037914276123, 0.007709988858550787, 0.02051161602139473, -0.015274916775524616, -0.01675453782081604, -0.004852288402616978, 0.011263981461524963, -0.019148044288158417, -0.001635562046431005, 0.010603954084217548, 0.046216413378715515, 0.02071470208466053, -0.026241524145007133, -0.02352888323366642, 0.014375538565218449, 0.004587552044540644, 0.002397131873294711, -0.022092780098319054, 6.703401595586911e-05, 0.006012775935232639, -0.01290317066013813, 0.015739111229777336, -0.021323958411812782, 0.028562497347593307, 0.027184419333934784, 0.023644931614398956, 0.0006314683705568314, -0.008203196339309216, 0.003996428567916155, -0.02598041296005249, 0.01383881364017725, -0.0214835237711668, 0.027387505397200584, -0.0071369982324540615, 0.009015536867082119, -0.010226796381175518, 0.03977570682764053, -0.03652634471654892, 0.03260969743132591, -0.009733588434755802, -0.01788601279258728, 0.018553294241428375, 0.00550868920981884, -0.011706417426466942, 0.03028872422873974, 0.014520599506795406, 0.004634696990251541, -0.005708147771656513, 0.01016151811927557, 0.01318603940308094, 0.020279519259929657, -0.0014769016997888684, 0.012301167473196983, 0.0191915612667799, -0.02576282247900963, 0.00971182994544506, 0.010669231414794922, 0.002054425422102213, -0.051322560757398605, 0.013584956526756287, 0.004950204398483038, -0.03049180842936039, 0.02014896459877491, -0.041342366486787796, -0.024631347507238388, -0.025661280378699303, -0.010959353297948837, 0.006752586457878351, -0.022266853600740433, 0.0406750850379467, -0.014817974530160427, -0.02940385229885578, 0.0406750850379467, -0.023093700408935547, -0.0017062792321667075, -0.005153289530426264, 0.03957262262701988, -0.003612017259001732, 0.015681087970733643, -0.009726335294544697, -0.008058135397732258, -0.011278487741947174, 0.022440927103161812, 0.0037752108182758093, -0.02521159127354622, -0.0055739665403962135, 0.014092669822275639, -0.0005181395099498332, 0.033073894679546356, 0.014259490184485912, -0.009559515863656998, 0.0015594050055369735, -0.0003442930756136775]\n"
     ]
    },
    {
     "name": "stderr",
     "output_type": "stream",
     "text": [
      "2025-08-06 16:25:54,441 - httpx - INFO - HTTP Request: POST https://api.openai.com/v1/embeddings \"HTTP/1.1 200 OK\"\n"
     ]
    },
    {
     "name": "stdout",
     "output_type": "stream",
     "text": [
      "[Embedding(embedding=[-0.003015623427927494, -0.05678003653883934, 0.029449021443724632, 0.04302748665213585, -0.04079342260956764, -0.025169484317302704, -0.01282410603016615, 0.03516474366188049, -0.031538017094135284, -0.011105037294328213, -0.015870556235313416, -0.03110281005501747, -0.020280657336115837, -0.02473427727818489, 0.029623104259371758, 0.035890087485313416, -0.038211192935705185, 0.017785469070076942, 0.011395175941288471, 0.04076441004872322, 0.04761166870594025, 0.0025350821670144796, -0.00633951835334301, -0.013933884911239147, 0.034845590591430664, -0.012258336879312992, -0.044275082647800446, 0.018510812893509865, 0.02366076596081257, -0.04340466856956482, 0.04494239762425423, -0.036238253116607666, -0.01019835565239191, 0.005947832018136978, 0.006252476945519447, 0.000601129955612123, -0.0016773612005636096, 0.006473707500845194, -0.0014978381805121899, -0.02403794601559639, 0.012142281047999859, -0.027766220271587372, 0.010249130427837372, 0.04032920300960541, -0.05202177166938782, 0.029173390939831734, -0.0560256764292717, 0.012222069315612316, 0.03171209990978241, 0.04265030845999718, -0.02167331986129284, 0.01019835565239191, 0.017190685495734215, 0.08112262934446335, -0.03707965463399887, -0.04938151314854622, 0.016552381217479706, 0.06737007945775986, -0.04566774517297745, 0.006927048321813345, 0.010575535707175732, 0.008646116591989994, -0.00800055917352438, 0.012091507203876972, 0.032901667058467865, -0.016160694882273674, -0.02065783552825451, -0.0023845729883760214, -0.011960945092141628, 0.06266984343528748, 0.012135027907788754, 0.03960385546088219, 0.0020563541911542416, -0.005617799703031778, -0.05071614682674408, -0.014789791777729988, -0.027853261679410934, -0.010872927494347095, -0.021818388253450394, -0.06609346717596054, -0.043897900730371475, 0.036499377340078354, -0.05100628733634949, -0.04897531867027283, -0.011801369488239288, 0.0009864696767181158, -0.02807086519896984, -0.01575450226664543, -0.02740354835987091, -0.00035292585380375385, -0.007637886796146631, 0.008443020284175873, -0.03760190308094025, 0.008653370663523674, 0.009443996474146843, -0.013825083151459694, -0.010053287260234356, 0.05266007408499718, 0.0660354420542717, -0.04250523820519447, 0.01798856444656849, -0.04067736864089966, 0.03696360066533089, -0.023225558921694756, 0.023762313649058342, -0.0009928165236487985, -0.011757848784327507, -0.03145097568631172, -0.03876245766878128, 0.012309110723435879, -0.13532042503356934, -0.03632529452443123, 0.016973081976175308, 0.002825220115482807, -0.0020146467722952366, 0.01001701969653368, 0.05350147560238838, -0.036209240555763245, 0.025807788595557213, -0.05431386083364487, 0.008203656412661076, -0.016886040568351746, -0.01469549722969532, -0.05042601004242897, -0.03638332337141037, -0.023196544498205185, -0.022949926555156708, 0.04909137636423111, -0.03940076008439064, 0.003624913515523076, 0.05001981556415558, 0.02633003704249859, 0.009879203513264656, -0.04105454683303833, -0.03269856795668602, -0.002934022108092904, -0.03229237720370293, -0.01118482556194067, -0.040938492864370346, 0.04630604758858681, 0.05152853578329086, -0.019511790946125984, -0.0010091367876157165, -0.02035319060087204, -0.016494354233145714, -0.03295969218015671, -0.01270805113017559, 0.021629799157381058, -0.01301269605755806, -0.011598272249102592, 0.042940445244312286, 0.04273734986782074, -0.03647036477923393, 0.010706097818911076, 0.02303696982562542, -0.027780728414654732, 0.03580304607748985, -0.031828153878450394, -0.013317340984940529, 0.03040647879242897, 0.05086121708154678, 0.0303774643689394, -0.03481657803058624, 0.0053349151276052, 0.006564375478774309, 0.0060058594681322575, 0.012229323387145996, -0.017118150368332863, -0.04735054448246956, -0.010597296059131622, 0.03464249521493912, 0.011431442573666573, -0.026518626138567924, -0.04999080300331116, -0.009298928081989288, 0.01565295271575451, 0.0035850193817168474, -0.0621475912630558, 0.004207002930343151, -0.027534110471606255, 0.037253737449645996, 0.05736031010746956, 0.009777655825018883, -0.00759436609223485, -0.037166696041822433, -0.0170311089605093, -0.02400893159210682, 0.00019572991004679352, -0.012483193539083004, -0.024473153054714203, -0.05205078423023224, 0.051586560904979706, 0.03641233593225479, -0.0052406201139092445, 0.003934998530894518, -0.0387914702296257, 0.06649966537952423, 0.0024516673292964697, -0.005788255948573351, 0.02505342848598957, 0.004649464040994644, 0.016740970313549042, -0.034845590591430664, -0.044565219432115555, -0.017596878111362457, -0.03841429203748703, -0.0008164668688550591, 0.06696388125419617, -0.009393222630023956, -0.03513573110103607, 0.07514578104019165, -0.006865393836051226, -0.029100855812430382, -0.0081673888489604, -0.04381085932254791, 0.0010318037820979953, 0.036528393626213074, 0.02274683117866516, 0.00046104766079224646, -0.0447683148086071, -0.045232538133859634, 0.05875297635793686, 0.07096779346466064, -0.006089274305850267, 0.037863027304410934, -0.005432836711406708, 0.002237690379843116, -0.03380109369754791, 0.05884001776576042, 0.013970151543617249, 0.02297894097864628, 0.019178131595253944, 0.021136563271284103, -0.038646399974823, -0.00196024589240551, -0.025909336283802986, 0.03963287174701691, -0.008087600581347942, 0.0033365886192768812, 0.009045056998729706, -0.04909137636423111, -0.004308551549911499, -0.00026248436188325286, 0.04343368113040924, 0.040880464017391205, -0.01270805113017559, -0.032582513988018036, -0.021281633526086807, 0.02299344912171364, 0.032524485141038895, 0.0373988077044487, 0.011155812069773674, -0.0070793707855045795, -0.005175339058041573, 0.027853261679410934, 0.0016692010685801506, -0.00884921383112669, -0.0037536623422056437, 0.034613482654094696, -0.020237136632204056, -0.045522674918174744, -0.04209904372692108, -0.02303696982562542, -0.034265317022800446, 0.0007108384743332863, -0.029303953051567078, 0.0024498540442436934, -0.00818914920091629, -0.04540662094950676, -0.015246760100126266, 0.03829823434352875, 0.014760778285562992, 0.06110309436917305, -0.0190475694835186, -0.00726796081289649, -0.0066260299645364285, -0.009269913658499718, 0.0018768311711028218, -0.015362815000116825, 0.03870442882180214, -0.026446092873811722, -0.005099177826195955, 0.01639280468225479, 0.04735054448246956, -0.042882416397333145, -0.0041054547764360905, 0.013694520108401775, -0.0005988632910884917, -0.019540803506970406, -0.014659229665994644, 0.039168648421764374, 0.0547780804336071, 0.034236300736665726, -0.018278703093528748, 0.0213396605104208, 0.013252059929072857, 0.011605526320636272, -0.03368503972887993, 0.045580703765153885, -0.01707462966442108, 0.06208956241607666, -0.010778632014989853, 0.030870698392391205, 0.021919937804341316, 0.00449351454153657, 0.03214730694890022, 0.025967365130782127, -0.03533882647752762, 0.056576937437057495, -0.007558098528534174, -0.0031244251877069473, -0.016537874937057495, 0.0632501170039177, -0.024299070239067078, -0.023573724552989006, -0.0674281045794487, -0.019192637875676155, -0.024821318686008453, 0.01572548784315586, -0.034584466367959976, 0.03516474366188049, -0.05947832018136978, -0.014477893710136414, -0.01450690720230341, 0.01099623553454876, -0.024908360093832016, 0.06139323115348816, 0.018452785909175873, 0.014318317174911499, -0.009473010897636414, 0.0032296001445502043, -0.013302833773195744, -0.010133074596524239, -0.009226392954587936, 0.002116195159032941, -0.012084254063665867, -0.03130590543150902, 0.03412024676799774, 0.016262242570519447, 0.036238253116607666, -0.012693543918430805, -0.033888135105371475, 0.008892734535038471, -0.023167531937360764, 0.00633951835334301, -0.004946855362504721, 0.04343368113040924, -0.02234063670039177, -0.005577906034886837, -0.0004420073237270117, -0.002083554631099105, -0.012106014415621758, -0.006731205154210329, -0.016247736290097237, -0.015783514827489853, -0.008972521871328354, 0.060580845922231674, -0.0217603612691164, 0.0037010747473686934, 0.03829823434352875, -0.002152462489902973, -0.021151071414351463, -0.006716697942465544, 0.0039603859186172485, 0.03438137099146843, 0.028259456157684326, -0.006963315419852734, -0.04775673896074295, -0.00767415389418602, 0.028622128069400787, 0.008979775942862034, -0.004533408675342798, 0.00818914920091629, -0.013295580632984638, -0.030261408537626266, -0.033830106258392334, 0.0247487835586071, -0.009610826149582863, 0.04265030845999718, -0.0005344888777472079, 0.017263220623135567, 0.014913100749254227, -0.0056649474427104, -0.02399442531168461, 0.002404519822448492, -0.013534944504499435, 0.025952856987714767, 0.009414982981979847, 0.01317952573299408, -0.014782538637518883, 0.012222069315612316, -0.01370902732014656, 0.0010481240460649133, 0.006861767265945673, 0.002250384073704481, -0.026605667546391487, 0.004508021287620068, 0.002315665129572153, -0.01640731282532215, -0.05942029133439064, 0.06441067159175873, -0.02641707845032215, 0.013317340984940529, 0.005146325565874577, -0.047901809215545654, -0.06017465144395828, -0.008268937468528748, 0.06412053108215332, -0.016566887497901917, -0.034497424960136414, -0.002299344865605235, -0.05567751079797745, 0.03638332337141037, 0.02264528162777424, -0.020802905783057213, -0.001951179001480341, -0.02807086519896984, -0.04868518188595772, 0.023617245256900787, 0.004319431725889444, 0.006375785917043686, 0.021267125383019447, -0.049555595964193344, 0.025952856987714767, -0.011315387673676014, 0.048656165599823, 0.04204101860523224, -0.016929561272263527, -0.014049939811229706, -0.08222515136003494, -0.004428233485668898, -0.016798999160528183, -0.009639839641749859, 0.025909336283802986, -0.006216209847480059, -0.04343368113040924, 0.012055239640176296, -0.007949785329401493, 0.03339489921927452, 0.03145097568631172, -0.0031969596166163683, -0.0024824945721775293, 0.014971128664910793, 0.010444973595440388, -0.0006709444569423795, -0.03777598589658737, -0.0052587538957595825, -0.02503892220556736, -0.012562981806695461, 0.006165435537695885, 0.009944484569132328, -0.06626754999160767, 0.027824249118566513, 0.012011718936264515, -0.002000139793381095, -0.005019390024244785, 0.02302246168255806, 0.02039671130478382, 0.0015331987524405122, 0.013418889604508877, 0.017248712480068207, 0.008588089607656002, -0.06818246841430664, 0.03330785781145096, 0.033859122544527054, -0.00917561911046505, -0.01936672069132328, 0.011663553304970264, -0.026953833177685738, -0.04813391715288162, -0.015914076939225197, 0.011728834360837936, 0.02969563938677311, -0.03249547258019447, -0.0014715443830937147, -0.01735026203095913, -0.028201427310705185, 0.012156788259744644, -0.03638332337141037, -0.006288744509220123, 0.060232680290937424, 0.01069159060716629, 0.02338513545691967, 0.020295163616538048, 0.007133771665394306, 0.057563409209251404, -0.0765964686870575, -0.007739434950053692, -0.03496164828538895, -0.01769842766225338, -0.06319209188222885, 0.04766969755291939, 0.05065812170505524, -0.01774194836616516, -0.015565911307930946, -0.03150900453329086, 0.01868489757180214, -0.012606502510607243, -0.007053983863443136, -0.014659229665994644, 0.01698758825659752, -0.025807788595557213, -0.0040583075024187565, 0.03446841239929199, 0.07294072955846786, -0.009023296646773815, -0.04569675773382187, -0.022949926555156708, 0.01766941323876381, -0.04311452805995941, -0.06179942563176155, 5.590259388554841e-05, 0.008225416764616966, -0.028825225308537483, -0.0003937265428248793, -0.005411076359450817, -0.00476189237087965, 0.018307717517018318, -0.007565352134406567, -0.019250666722655296, 0.010894687846302986, 0.03000028431415558, -0.007884504273533821, -0.02834649756550789, 0.023892875760793686, 0.006800112780183554, -0.03264054283499718, 0.00258585624396801, -0.024110479280352592, 0.020860932767391205, 0.01771293394267559, -0.01566746085882187, 0.0394878014922142, 0.016450833529233932, -0.02236965112388134, -0.0058789243921637535, -0.01254122145473957, 0.016146188601851463, -0.012693543918430805, 0.0030537040438503027, 0.012106014415621758, 0.016465339809656143, 0.009864697232842445, 0.013230299577116966, -0.015130704268813133, 0.0020636075641959906, 0.024603715166449547, 0.01797405816614628, 0.009806669317185879, 0.024951880797743797, -0.0006024899776093662, -0.010075047612190247, -0.017466315999627113, -0.016291256994009018, 0.02804185263812542, -3.1238018891599495e-06, -0.016233230009675026, -0.008486540988087654, 0.009284420870244503, 0.06208956241607666, 0.013796068727970123, -0.007703167852014303, 0.0233561210334301, 0.03452644124627113, -0.01282410603016615, 0.010619056411087513, 0.0038334503769874573, -0.028302976861596107, -0.04642210528254509, -0.03963287174701691, -0.029332967475056648, -0.0243280827999115, -0.006433813367038965, -0.06266984343528748, 0.021832896396517754, 0.0027635658625513315, 0.013317340984940529, 0.0008967082249000669, 0.022442186251282692, -0.01807560585439205, -0.016552381217479706, -0.007155532017350197, -0.008174641989171505, 0.03278560936450958, -0.04967164993286133, 0.03882048279047012, 0.0163347776979208, 0.008675131015479565, 0.02274683117866516, -0.035570938140153885, 0.01941024139523506, 0.02701186202466488, 0.019642353057861328, 0.04706040769815445, -0.010133074596524239, -0.011895664036273956, -0.009915471076965332, 0.01254122145473957, -0.028970293700695038, 0.049236442893743515, 0.030464505776762962, 0.010822152718901634, -0.010191102512180805, -0.0310737956315279, 0.01016208902001381, 0.0017843495588749647, -0.022123033180832863, -0.007507324684411287, -0.0009701494127511978, -0.05942029133439064, -0.034236300736665726, 0.04070638120174408, -0.012120520696043968, -0.053588517010211945, -0.023965410888195038, 0.0394878014922142, -0.023486683145165443, 0.009531037881970406, 0.01185939647257328, -0.0360061451792717, -0.004036547150462866, -0.039168648421764374, -0.0017362955259159207, 0.03000028431415558, 0.0013246620073914528, 0.02702636830508709, -0.02943451516330242, -0.010481240227818489, -0.018858980387449265, 0.00012172201968496665, 0.026968341320753098, 0.006499094422906637, 0.03583206236362457, -0.010140328668057919, -0.009139351546764374, 6.902114546392113e-05, 0.013897617347538471, 0.0036775011103600264, -0.008225416764616966, -0.022123033180832863, 0.030638588592410088, -0.006927048321813345, 0.012737064622342587, -0.019801927730441093, 0.05898508429527283, 0.02075938507914543, 0.017916031181812286, 0.0321182943880558, 0.0069161681458354, -0.010104061104357243, 0.03612219914793968, 0.01769842766225338, 0.019439255818724632, 0.013041709549725056, 0.02100600115954876, -0.020106574520468712, -0.03673148900270462, -0.016146188601851463, -0.03295969218015671, 0.02807086519896984, -0.015798022970557213, 0.05219585448503494, -0.03548389673233032, -0.011402429081499577, -0.011438696645200253, 0.01001701969653368, -0.01869940385222435, 0.018554335460066795, 0.0019257919630035758, -0.019932489842176437, -0.0167554784566164, -0.002281211083754897, 0.05013587325811386, -0.01183763612061739, 0.02733101323246956, -0.006364905741065741, -0.014354584738612175, -0.00576649559661746, 0.008290697820484638, -0.01349867694079876, 0.019830942153930664, 0.018104620277881622, -0.03844330459833145, -0.01001701969653368, 0.005806389730423689, 0.023617245256900787, 0.014151488430798054, 0.021948950365185738, -0.007529085036367178, 0.0072099328972399235, -0.027127915993332863, -0.032234348356723785, 0.010829406790435314, 0.015609432011842728, 0.0006555308937095106, -0.0310737956315279, 0.025880321860313416, -0.004159855656325817, -0.005055657122284174, -0.06295997649431229, 0.028883252292871475, -0.01301269605755806, -0.02170233428478241, 0.017596878111362457, 0.008675131015479565, -0.007231693249195814, -0.03342391550540924, 0.022268103435635567, 0.04038723185658455, 0.01797405816614628, -0.0400390662252903, -0.00852280855178833, -0.02834649756550789, -0.0026656442787498236, -0.04633506387472153, -0.011823129840195179, -0.031828153878450394, -0.036847542971372604, -0.0018160834442824125, -0.010590041987597942, -0.03412024676799774, 0.0054219565354287624, -0.02006305381655693, 0.007521831430494785, -0.016465339809656143, -0.016813505440950394, 0.014289303682744503, -0.008885480463504791, 0.03005831129848957, 0.007369508966803551, 0.006020366679877043, -0.0031099182087928057, 0.003650300670415163, -8.606392611909541e-07, 0.0031316785607486963, -0.0039422521367669106, -0.04366579279303551, -0.012606502510607243, 0.018539827316999435, -0.038936540484428406, -0.03499066084623337, 0.012947415001690388, 0.0296811331063509, 0.011902917176485062, -0.027185944840312004, -0.012737064622342587, 0.019236158579587936, 0.009937231428921223, -0.005835403688251972, -0.009371462278068066, -0.004852560348808765, 0.01266453042626381, -0.028912266716361046, 0.002674710936844349, 0.010771378874778748, -0.005146325565874577, 0.03606417030096054, 0.022616269066929817, -0.014956621453166008, 0.020976988598704338, -0.01387585699558258, 0.040880464017391205, 0.0040836944244802, 0.04096750542521477, -0.006263357121497393, 0.008689637295901775, 0.009052310138940811, 0.011583765968680382, -0.007141025271266699, 0.004961362108588219, 0.03034844994544983, 0.011823129840195179, 0.01972939446568489, 0.010314411483705044, 0.0006274237530305982, 0.007380389142781496, -0.029826201498508453, 0.011141304858028889, -0.04096750542521477, -0.027954811230301857, -0.0041199615225195885, -0.00047555455239489675, -0.013933884911239147, -0.00936420913785696, 0.012613755650818348, -0.005385689437389374, 0.016247736290097237, -0.012889387086033821, 0.01366550661623478, -0.04146074131131172, -0.04549366235733032, -0.022500213235616684, -0.002118008444085717, -0.01637829840183258, 0.024270055815577507, 0.058956071734428406, -0.0014062633272260427, -0.008160135708749294, 0.019497282803058624, -0.006085647735744715, -0.007964292541146278, -0.04598689824342728, 0.026881299912929535, 0.028535086661577225, -0.002250384073704481, 0.0026148699689656496, -0.02434259094297886, 0.005327661521732807, -0.002843353897333145, -0.0027635658625513315, 0.012309110723435879, 0.04067736864089966, -0.006455573718994856, 0.0023464923724532127, 0.019482776522636414, -0.01939573511481285, 0.015856049954891205, -0.016291256994009018, 0.0243280827999115, 0.007151905447244644, 0.015362815000116825, 0.006401172839105129, -0.03177012875676155, -0.007928024977445602, 0.07067765295505524, 0.025532156229019165, -0.007529085036367178, 0.031160837039351463, 0.04679928347468376, -0.01572548784315586, -0.009639839641749859, -0.007913517765700817, -0.017858002334833145, -0.018481800332665443, 0.0006451040389947593, 0.023921890184283257, 0.016813505440950394, -0.023501189425587654, -0.008856466971337795, -0.009262660518288612, -0.017582371830940247, -0.015783514827489853, -0.01573999412357807, -0.01233812514692545, 0.049265459179878235, -0.024879345670342445, 0.009596318937838078, -0.0012376204831525683, -0.008218162693083286, 0.001885897945612669, -0.02743256278336048, -0.04233115538954735, 0.01403543259948492, -0.014869580045342445, -0.024560194462537766, 0.018119126558303833, -0.005712094716727734, -0.014898593537509441, -0.015029155649244785, -0.028506072238087654, -0.006836379878222942, 0.02934747375547886, 0.01573999412357807, 0.02573525346815586, 0.026562146842479706, -0.0028215935453772545, 0.015116197057068348, 0.007173665799200535, 0.049932774156332016, 0.04714744910597801, -0.004653090611100197, 0.01572548784315586, -0.006165435537695885, -0.004529781639575958, 0.01217129547148943, 0.036557406187057495, -0.061219148337841034, 0.031247878447175026, 0.0016066399402916431, -0.02473427727818489, 0.02870916947722435, 0.027563124895095825, -0.0053385416977107525, -0.015174224972724915, -0.019540803506970406, -0.038182180374860764, 0.007271587383002043, 0.011380668729543686, 0.026547640562057495, -0.010894687846302986, -0.009001536294817924, 0.01020560972392559, -0.0052732606418430805, -0.011830382980406284, -0.00726796081289649, -0.01997601054608822, -0.006111034657806158, 0.044275082647800446, 0.01186665054410696, 0.002602176507934928, 0.0033220818731933832, -0.019511790946125984, 0.00849379412829876, 0.0340622179210186, 0.01354219764471054, -0.00020695010607596487, -0.005073790904134512, -0.009110338054597378, 0.003869717475026846, -0.003985772840678692, -0.00033411220647394657, -0.0528341569006443, 0.022123033180832863, 0.017292233183979988, 0.05503920838236809, 0.029623104259371758, 0.001203166670165956, 0.02074487693607807, 0.0029104482382535934, 0.021948950365185738, -0.005751988850533962, -0.05619975924491882, -0.031944211572408676, 0.022514719516038895, -0.022311624139547348, 0.009400475770235062, -0.041895948350429535, 0.06412053108215332, 0.020150095224380493, -0.012432419694960117, 0.0167554784566164, 0.006883527617901564, -0.02833198942244053, 0.021426701918244362, 0.008675131015479565, 0.0002518308465369046, -0.036586418747901917, 0.022949926555156708, -0.0088274534791708, -0.03998103737831116, -0.025183990597724915, 0.023907383903861046, 0.016146188601851463, -0.0014280236791819334, 0.05419780686497688, 0.02065783552825451, 0.010764125734567642, 0.00018960981105919927, -0.007050356827676296, -0.009378715418279171, -0.02139768749475479, -0.010901940986514091, -0.005712094716727734, 0.0019094716990366578, -0.02209402061998844, 0.02466174215078354, 0.05164458975195885, -0.006071140523999929, -0.015217745676636696, 0.005164458882063627, -0.024850333109498024, -0.023240065202116966, -0.02373330108821392, -0.007365882396697998, 0.004344818647950888, 0.00027699125348590314, -0.02834649756550789, -0.009023296646773815, 0.01436909195035696, -0.012570234946906567, -0.012896640226244926, 0.006865393836051226, 0.023820342496037483, 0.0210640300065279, -0.0005063817370682955, -0.013266567140817642, -0.026155954226851463, 0.02736002765595913, 0.039255689829587936, 0.0009338821400888264, 0.02131064608693123, -0.019439255818724632, 0.010822152718901634, 0.0025260152760893106, -0.022282609716057777, 0.00998800527304411, 0.01869940385222435, 0.007688661105930805, -0.024574700742959976, -0.01467373687773943, 0.014659229665994644, 0.002143395598977804, -0.050251927226781845, 0.02303696982562542, 0.044855356216430664, -0.010067793540656567, -0.017858002334833145, -0.0071301450952887535, -0.026881299912929535, -0.025111457332968712, 0.006927048321813345, 0.0077321818098425865, 0.032582513988018036, -0.010945461690425873, 0.01671195775270462, -0.007173665799200535, -0.008530061691999435, -0.002627563662827015, -0.0008187335915863514, 0.006027619820088148, 0.0032296001445502043, -0.0016846145736053586, -0.012018973007798195, 0.012983682565391064, 0.01354219764471054, 0.013230299577116966, -0.03130590543150902, 0.019178131595253944, -0.0183512382209301, 0.000407553423428908, -0.00033411220647394657, 0.0021615291479974985, -0.01186665054410696, -0.01484056655317545, -0.01809011399745941, -0.021977964788675308, 0.03174111247062683, -0.009886457584798336, -0.034236300736665726, 0.03435235843062401, -0.013767055235803127, 0.04134468734264374, -0.00025953762815333903, 0.026170460507273674, -0.009016042575240135, 0.03618022799491882, -0.03177012875676155, -0.020498260855674744, -0.010125821456313133, -0.006129168439656496, -0.010031526908278465, -0.012584742158651352, -0.012156788259744644, 0.030870698392391205, -0.022920913994312286, -0.009313434362411499, -0.03467150777578354, 0.029579583555459976, 0.0012140468461439013, 0.016537874937057495, -0.013563957996666431, 0.0007081184303388, 0.004794532898813486, 0.01766941323876381, 0.013672759756445885, 0.020483752712607384, 0.008181896060705185, 0.0031733859796077013, 0.01575450226664543, 0.01266453042626381, -0.027461575344204903, -0.02737453393638134, -0.027287492528557777, 0.009124844335019588, 0.03501967340707779, -0.035251785069704056, 0.021252619102597237, 0.009132098406553268, 0.01640731282532215, 0.030203381553292274, -0.01600111834704876, 0.01217129547148943, -0.01371628139168024, 0.017785469070076942, -0.026301022619009018, -0.001112498459406197, 0.026823271065950394, -0.031538017094135284, 0.0018750177696347237, 0.010307157412171364, 0.033539969474077225, -0.0022757709957659245, 0.014572188258171082, -0.020280657336115837, -0.01537732221186161, -0.034584466367959976, 0.011736088432371616, -0.0003440857108216733, 0.015014649368822575, -0.0006283304537646472, 0.008160135708749294, 0.002355559030547738, -0.02940550073981285, 0.007891757413744926, -0.04563872888684273, 0.011141304858028889, 0.011670807376503944, 0.008399499580264091, 0.04378184676170349, -0.014245782978832722, -0.026112433522939682, 0.014913100749254227, -0.00021023681620135903, -0.01052476093173027, 0.006473707500845194, 0.0176549069583416, -0.014927607960999012, 0.001070791156962514, 0.00013384889462031424, 0.041576795279979706, 0.015449856407940388, -0.007949785329401493, -0.00441009970381856, 0.011474963277578354, 0.016465339809656143, -0.0177274402230978, -0.029855215921998024, -0.020193615928292274, -0.0059768459759652615, -0.0032640541903674603, 0.019294187426567078, -0.01970038004219532, 0.0021035014651715755, 0.01235988549888134, 0.002758125774562359, 0.020193615928292274, 0.05411076545715332, 0.012751571834087372, -0.03873344138264656, -0.00321146659553051, 0.021165577694773674, 0.023762313649058342, 0.024951880797743797, -0.03844330459833145, 0.015275773592293262, 0.043607763946056366, -0.011119544506072998, 0.002025526948273182, -0.028868746012449265, 0.019221652299165726, 0.029797187075018883, -0.0031933330465108156, -0.019163625314831734, 0.004417353309690952, -0.05065812170505524, -0.002846980467438698, 0.01220756210386753, 0.11791214346885681, -0.01354945171624422, -0.04369480535387993, 0.009291674010455608, 0.019265173003077507, -0.038559358566999435, -0.007166412193328142, 0.007978798821568489, -0.000502301671076566, -0.014267543330788612, 0.008508301340043545, -0.036557406187057495, -0.04468127340078354, 0.005675827618688345, -0.025227511301636696, 0.024153999984264374, -0.01668294332921505, -0.03507770225405693, 0.0041526020504534245, -0.00484530720859766, 0.020179107785224915, -0.024444138631224632, -0.009980752132833004, 0.009414982981979847, -0.010938208550214767, -0.024937374517321587, -0.008899987675249577, -0.022137541323900223, 0.029565077275037766, 0.038588374853134155, -0.020222628489136696, -0.0012176735326647758, 0.042563267052173615, 0.00013146884157322347, 0.021267125383019447, 0.03214730694890022, -0.022906405851244926, -0.02670721709728241, -0.023617245256900787, 0.022137541323900223, -0.02338513545691967, 0.004283164627850056, 0.011358908377587795, -0.008508301340043545, -0.0003882864548359066, 0.020817412063479424, 0.007108384743332863, -0.022877393290400505, 0.0017780028283596039, -0.011946437880396843, -0.02471977099776268, 0.015072676353156567, -0.004671224392950535, 0.024864839389920235, -0.003924118354916573, -0.014913100749254227, 0.03774697333574295, 0.03832725062966347, 0.061625342816114426, -0.011134051717817783, -0.008160135708749294, 0.0031498123425990343, 0.01483331248164177, 0.0339171476662159, 0.005233366973698139, 0.005820896476507187, -0.03594811633229256, 0.0339171476662159, -0.0011143118608742952, 0.032872650772333145, -0.00156493263784796, 0.022804858162999153, 0.022471198812127113, 0.02702636830508709, 0.011641792953014374, 0.01965685933828354, -0.02839001826941967, 0.013389875181019306, -0.010372438468039036, 0.04230214282870293, -0.005360302049666643, -0.01569647341966629, 0.01869940385222435, 0.017132658511400223, 0.013868603855371475, 0.022920913994312286, 0.020222628489136696, -0.008254430256783962, -0.015943091362714767, -0.022920913994312286, 0.012787838466465473, 0.00568308075889945, 0.026620175689458847, 0.00617631571367383, -0.0002715511654969305, 0.008457526564598083, -0.04836602881550789, 0.007024969905614853, -0.018800951540470123, 0.04618999361991882, 0.01434733159840107, 0.0028941279742866755, 0.006303251255303621, 0.038878511637449265, -0.023617245256900787, -0.00296484911814332, -0.006136422045528889, -0.052921198308467865, -0.05033896863460541, 0.019642353057861328, 0.005012136418372393, -0.0026456972118467093, 0.01534830778837204, 0.006143675185739994, 0.03945878893136978, -0.061335206031799316, -0.02543060854077339, -0.024806812405586243, -0.002099874895066023, -0.004308551549911499, 0.04639308899641037, 0.029158884659409523, 0.011235599406063557, 0.0010145768756046891, 0.03800809755921364, -0.005505371373146772, 0.03618022799491882, 0.016857026144862175, 0.05219585448503494, -0.01666843704879284, -0.005552518647164106, -0.009806669317185879, -0.005984099116176367, 0.008414005860686302, 0.013310087844729424, 0.009719627909362316, 0.00701771629974246, -0.019613338634371758, 0.002134328708052635, -0.0022775845136493444, -0.0003608593251556158, -0.0227323230355978, 0.005722974892705679, -0.012526714242994785, -0.019859956577420235, 0.0013210352044552565, 0.015029155649244785, -0.00917561911046505, -0.024821318686008453, -0.036586418747901917, -0.019120104610919952, -0.022268103435635567, 0.026518626138567924, -0.013375368900597095, -0.008921748027205467, -0.0011687127407640219, -0.033888135105371475, -0.0013854096177965403, -0.0024643607903271914, -0.02908634953200817, -0.04230214282870293, -0.012403406202793121, 0.00040664675179868937, 0.0022721444256603718, -0.011474963277578354, 0.021890923380851746, -0.014659229665994644, 0.00933519471436739, -0.00870414450764656, -0.004972242284566164, 0.021600784733891487, -0.027838755398988724, -0.003650300670415163, 0.028477059677243233, 0.023559218272566795, -0.02268880233168602, 0.02041121944785118, -0.0051934728398919106, 0.03203125298023224, -0.004388339351862669, -0.0656292513012886, -0.027577631175518036, 0.009313434362411499, -0.019120104610919952, -0.022862885147333145, 0.03528079763054848, -0.0177274402230978, 0.002941275481134653, -0.008232669904828072, -0.030841685831546783, -0.009371462278068066, -0.027243971824645996, -0.012040733359754086, -0.019221652299165726, -0.014956621453166008, -0.009937231428921223, -0.018148140981793404, -0.030870698392391205, -0.007442043628543615, 0.005461850669234991, -0.036209240555763245, -0.010756871663033962, 0.01906207576394081, 0.0022884646896272898, 0.010444973595440388, -0.008580835536122322, -0.008160135708749294, 0.017887016758322716, -0.019801927730441093, 0.0011814063182100654, -0.0017027482390403748, 0.019961504265666008, 0.002397266449406743, 0.01669744960963726, 0.04247622564435005, 0.05736031010746956, -0.019497282803058624, 0.037572890520095825, 0.012417912483215332, 0.00903054978698492, 0.008109360933303833, -0.014412612654268742, 0.030957739800214767, -0.021803881973028183, 0.007384015712887049, 0.03673148900270462, -0.029608597978949547, -0.020179107785224915, -0.021905429661273956, -0.018104620277881622, 0.0197439007461071, 0.020179107785224915, 0.037166696041822433, 0.03702162578701973, -0.025807788595557213, 0.00835597887635231, -0.002729112049564719, 0.013890364207327366, -0.003690194571390748, 0.007536338176578283, -0.010379692539572716, -0.0004918748163618147, -0.009552798233926296, -0.006408426444977522, -0.005534385330975056, 0.058927059173583984, 0.0226597897708416, -0.00852280855178833, 0.028157906606793404, 0.0013301020953804255, -0.0019566190894693136, 0.04076441004872322, -0.017930537462234497, -0.01665392890572548, -0.013317340984940529, -0.012504953891038895, 0.008290697820484638, 0.01737927459180355, 0.011823129840195179, -0.0008967082249000669, -0.032524485141038895, -0.0176549069583416, 0.015362815000116825, -0.011924677528440952, -0.013310087844729424, -0.004134468734264374, 0.02799833193421364, 0.008979775942862034, 0.007645140402019024, 0.036238253116607666, -0.0022866511717438698, -0.0070213433355093, 0.02709890343248844, -0.015856049954891205, -0.02309499680995941, 0.028941281139850616, 0.029579583555459976, 0.002190543105825782, -0.0013636492658406496, 0.002174222841858864, -0.019178131595253944, -0.009066817350685596, -0.001119751948863268, 0.006466453894972801, -0.004994002636522055, -0.005182592663913965, -0.012555728666484356, -0.012853119522333145, -0.022906405851244926, -0.012889387086033821, 0.06330814212560654, 0.0010816713329404593, -0.0034798444248735905, 0.015333801507949829, 0.004566049203276634, 0.026866791769862175, -0.017930537462234497, 0.0076959142461419106, 0.020483752712607384, -0.015217745676636696, -0.016784491017460823, -0.004852560348808765, 0.011242853477597237, -0.019134610891342163, -0.0016102667432278395, 0.010604549199342728, 0.046277035027742386, 0.02071586437523365, -0.026301022619009018, -0.023515697568655014, 0.014376345090568066, 0.004620450083166361, 0.0023936396464705467, -0.02206500619649887, 8.647477079648525e-05, 0.005987726151943207, -0.012932907789945602, 0.01572548784315586, -0.02135416679084301, 0.028520580381155014, 0.027243971824645996, 0.02367527224123478, 0.0006210769643075764, -0.008203656412661076, 0.003964012488722801, -0.02599637769162655, 0.013817829079926014, -0.021528251469135284, 0.02740354835987091, -0.007188172545284033, 0.009016042575240135, -0.010256383568048477, 0.03977793827652931, -0.036557406187057495, 0.0326695553958416, -0.009734135121107101, -0.017887016758322716, 0.018554335460066795, 0.005487237591296434, -0.01169982086867094, 0.0303774643689394, 0.014521414414048195, 0.004634956829249859, -0.0056649474427104, 0.0101838493719697, 0.013186778873205185, 0.020280657336115837, -0.0014869580045342445, 0.012301857583224773, 0.019250666722655296, -0.025836801156401634, 0.009719627909362316, 0.010648069903254509, 0.0020309670362621546, -0.05132543668150902, 0.013600225560367107, 0.004932348616421223, -0.030551547184586525, 0.020135587081313133, -0.04137369990348816, -0.02466174215078354, -0.02567722648382187, -0.010967222042381763, 0.006760218646377325, -0.022268103435635567, 0.04064835608005524, -0.014847819693386555, -0.02937648817896843, 0.0407353974878788, -0.023153023794293404, -0.0017163484590128064, -0.005157205741852522, 0.039545830339193344, -0.0035868328996002674, 0.01568196713924408, -0.009755895473062992, -0.008073094300925732, -0.011271866969764233, 0.022485706955194473, 0.003797183046117425, -0.025256525725126266, -0.005574278999119997, 0.014129728078842163, -0.000527688767760992, 0.03307574987411499, 0.014289303682744503, -0.009552798233926296, 0.001589413033798337, -0.000383073027478531], index=0, object='embedding'), Embedding(embedding=[-0.02287539467215538, -0.05391034856438637, -0.04025382176041603, 0.04185710474848747, -0.01745000295341015, -0.026210792362689972, -0.013048136606812477, 0.05265062674880028, -0.020055336877703667, -0.031149473041296005, -0.006853313650935888, -0.02291833981871605, 0.012998034246265888, 0.004988783039152622, -0.011566532775759697, 0.04872831329703331, -0.009440752677619457, 0.005683061201125383, -0.03100632317364216, 0.03650328889489174, 0.04743996262550354, 0.004086936824023724, 0.00868205726146698, 0.00935486238449812, 0.0423724465072155, 0.014701521024107933, 0.0035286513157188892, 0.026196477934718132, 0.0160614475607872, -0.012210708111524582, 0.06252798438072205, -0.03658917918801308, -0.021300742402672768, -0.008617639541625977, 0.0011944090947508812, 0.02244594320654869, -0.010857938788831234, 0.03183659538626671, -0.025523671880364418, -0.05465472862124443, 0.013262861408293247, -0.023218953981995583, 0.017650414258241653, -0.002929209964349866, -0.018137125298380852, -0.014114605262875557, -0.012833410874009132, -0.00729707907885313, 0.03152166306972504, 0.05562815070152283, -0.01745000295341015, 0.02963208220899105, -0.015918297693133354, 0.10283906757831573, 0.022131014615297318, -0.05119049549102783, 0.004655958618968725, 0.056544311344623566, -0.004301662091165781, -0.02115759253501892, 0.02591017819941044, -0.020441841334104538, -0.0097628403455019, 0.0053001344203948975, 0.03593068942427635, -0.005156984087079763, 0.02068519778549671, 0.0033192941918969154, 0.003491074312478304, -0.01417902298271656, 0.0027252209838479757, 0.03598794713616371, -0.029947012662887573, -0.037104520946741104, 0.005869156215339899, -0.013635052368044853, -0.0010977827478200197, -0.02675476297736168, 0.0372476689517498, -0.030004272237420082, -0.03678958863019943, 0.028973590582609177, -0.023004230111837387, -0.04921502247452736, -0.03381206467747688, -0.023834500461816788, -0.04325997456908226, 0.017951028421521187, -0.022388683632016182, 0.013441799208521843, -0.02283244952559471, 0.007429493125528097, -0.027012433856725693, -0.06069566681981087, 0.004920786712318659, -0.0137782022356987, -0.026353944092988968, 0.04924365133047104, 0.042601484805345535, 0.009333389811217785, 0.05333774536848068, -0.029317151755094528, -0.02331916056573391, -0.0013876617886126041, 0.07060165703296661, 0.025108536705374718, 0.021830398589372635, -0.021773139014840126, -0.023204639554023743, -0.0008217713329941034, -0.09843004494905472, -0.0025194426998496056, 0.021286427974700928, -0.02751345932483673, -0.03853601962327957, 0.025681138038635254, 0.031607553362846375, -0.0864054337143898, 0.011516429483890533, -0.032838646322488785, -0.008596166968345642, -0.02923126146197319, 0.022574778646230698, -0.0602375827729702, -0.06178360432386398, -0.03189385309815407, -0.003233404131606221, 0.03865054249763489, -0.034155625849962234, -0.0015692835440859199, 0.04062601178884506, 0.022574778646230698, 0.024865182116627693, -0.00915445201098919, -0.05431116744875908, -0.00614829920232296, -0.0008848469005897641, 0.004702482372522354, -0.01659110188484192, 0.04205751419067383, 0.04781215265393257, -0.027270104736089706, -0.000679515884257853, 0.0015853879740461707, -0.011251602321863174, -0.04932954162359238, -0.008223976008594036, 0.006903416011482477, -0.012697418220341206, -0.043460387736558914, 0.03177933394908905, 0.019225064665079117, -0.04678146913647652, 0.00742233544588089, -0.019239380955696106, -0.01570357196033001, 0.02164430357515812, 0.00889678206294775, 0.008853836916387081, -0.00011066177830798551, 0.04618024080991745, 0.024221006780862808, -0.0006965149659663439, -0.006266397889703512, -0.05551362782716751, -0.005117618013173342, -0.02586723305284977, 0.02329052984714508, -0.018981710076332092, 0.014930561184883118, 0.007279185112565756, 0.0271412692964077, -0.03126399219036102, -0.021801767870783806, -0.0030508877243846655, 0.0037075888831168413, 0.025223057717084885, -0.039681222289800644, -0.03518630936741829, -0.013763886876404285, 0.022259848192334175, 0.04185710474848747, -0.001330401748418808, -0.027756813913583755, -0.0182802751660347, -0.0007806156645528972, -0.04712503030896187, 0.00422650808468461, -0.008474488742649555, -0.021801767870783806, -0.008517433889210224, 0.10037688910961151, 0.022703614085912704, 0.002319032559171319, 0.03306768462061882, -0.05433980002999306, 0.09711306542158127, 0.0046738525852561, -0.041742585599422455, -0.004902892746031284, 0.040053412318229675, -0.005547068547457457, -0.005121196620166302, -0.015360011719167233, 0.005869156215339899, 0.00475974241271615, -0.013012348674237728, 0.07014357298612595, 0.00829555094242096, 0.0022689299657940865, 0.04532133787870407, -0.012117660604417324, -0.03255234658718109, 0.039709851145744324, -0.04122724384069443, -0.01659110188484192, 0.011802730150520802, 0.05161994695663452, -0.005142669193446636, 0.009498012252151966, -0.06098196655511856, 0.1082787737250328, 0.10364071279764175, -0.00730065768584609, 0.06264250725507736, -0.006015885155647993, 0.014028714969754219, -0.016619732603430748, 0.05207802727818489, 0.014830355532467365, -0.007851785980165005, 0.005715270061045885, 0.009691265411674976, -0.04111272469162941, -0.005139090586453676, 0.009218869730830193, -0.0018806351581588387, 0.007078775204718113, -0.0017652203096076846, -0.0008964778389781713, -0.004487757105380297, -0.002716274233534932, -0.016805827617645264, 0.046352021396160126, 0.028744550421833992, -0.01525980606675148, -0.00911150686442852, -0.0037004314363002777, -0.0037612703163176775, 0.02244594320654869, 0.02210238389670849, 0.025237372145056725, 0.023863131180405617, -0.02373429574072361, -0.03186522424221039, 0.002229563659057021, -0.007794525939971209, -0.0026268053334206343, 0.018852874636650085, -0.008767946623265743, -0.04409024864435196, -0.035730279982089996, -0.03996752202510834, -0.032437823712825775, -0.015002136118710041, -0.03504315763711929, 0.007730108220130205, 0.02960345149040222, -0.05454020947217941, 0.0013572423486039042, 0.05539910867810249, 0.00475258519873023, 0.045979827642440796, 0.004781214985996485, 0.03464233875274658, 0.01906760036945343, 0.007687163073569536, -0.02075677178800106, 0.01912485994398594, 0.04162806272506714, -0.0364173986017704, 0.00401894049718976, 0.04200025647878647, -0.01816575415432453, -0.04234381392598152, 0.0017410637810826302, -0.03813520073890686, 0.00688910111784935, 0.019611570984125137, 0.0035680176224559546, 0.008352811448276043, 0.006982148624956608, 0.03229467570781708, -0.010349756106734276, 0.019153490662574768, 0.014887616038322449, 0.03610247001051903, -0.008102298714220524, 0.05090419575572014, -0.0029918381478637457, 0.05688787251710892, 0.00936201959848404, 0.047182291746139526, -0.011716839857399464, 0.010306810960173607, 0.030834542587399483, 0.03252371400594711, -0.03338261693716049, -0.005693797487765551, -0.0031725652515888214, -0.017550209537148476, -0.012167762964963913, 0.06195538491010666, -0.022660668939352036, -0.00233871559612453, -0.023576829582452774, 0.014143235050141811, 0.0044662849977612495, 0.01463710330426693, -0.0045128087513148785, 0.011394752189517021, -0.03441329672932625, -0.029861122369766235, -0.057889923453330994, 0.005325185600668192, 0.0033031897619366646, 0.054454319179058075, -0.012432591058313847, 0.008266921155154705, -0.008259763941168785, 0.035415347665548325, -0.03346850723028183, -0.031607553362846375, -0.008266921155154705, -0.033239465206861496, -0.00037308508763089776, -0.03530082851648331, 0.04692462086677551, 0.040082041174173355, 0.03673233091831207, -0.012897828593850136, -0.044691476970911026, -0.010349756106734276, -0.04580805078148842, -0.0013509795535355806, 0.007844628766179085, 0.013720942661166191, -0.012446905486285686, -0.05708828195929527, 0.004480599891394377, -0.00929760280996561, 0.001375136198475957, 0.03532945737242699, -0.016390692442655563, -0.03389795497059822, 0.002635752083733678, 0.05370993912220001, -0.02324758470058441, -0.020942866802215576, 0.051963504403829575, -0.017092129215598106, -0.035902056843042374, -0.0009868413908407092, -0.03928040340542793, 0.008553221821784973, 0.018323220312595367, -0.017120758071541786, -0.007930518127977848, -0.005611485801637173, 0.06235620751976967, 0.01057879626750946, -0.014093132689595222, 0.017593154683709145, 0.02078540250658989, -0.03779163956642151, 0.0022707192692905664, 0.021944917738437653, -0.012582898139953613, 0.057031020522117615, 0.02505127713084221, 0.05010255426168442, 0.052278436720371246, -0.0068604713305830956, -0.027713868767023087, 0.022803818807005882, 0.0012301966780796647, 0.02120053768157959, -0.013957140035927296, -0.009662635624408722, 0.04451969638466835, 0.07804546505212784, -0.006334394216537476, -0.023877445608377457, -0.01692034862935543, 0.0014807094121351838, -0.013134026899933815, 0.017535893246531487, 0.008367126807570457, -0.022961284965276718, -0.014007242396473885, 0.035358086228370667, -0.043832577764987946, -0.0108364662155509, -0.03177933394908905, 0.010385544039309025, -0.008574694395065308, -0.01782219484448433, 0.03721904009580612, 0.015975557267665863, -0.0058906287886202335, -0.012647315859794617, -0.06458935141563416, 0.041742585599422455, 0.0035984369460493326, 0.014551213011145592, -0.01017081830650568, -0.03773438185453415, -0.01646226830780506, -0.02068519778549671, 0.002156199188902974, 0.037476710975170135, 0.02666887268424034, 0.0020595728419721127, 0.03524356707930565, -0.03993889316916466, 0.03464233875274658, 0.015274121426045895, -0.04157080501317978, 0.03278138488531113, -0.06705152988433838, 0.005815474782139063, 0.0168917179107666, 0.007175401318818331, 0.02927420660853386, -0.02029869146645069, -0.02283244952559471, -0.01352768950164318, 0.04449106752872467, 0.014107448048889637, -0.015173916704952717, -0.0035393876023590565, -0.003236982738599181, 0.025638192892074585, -0.0008253501146100461, -0.00971989519894123, -0.007365075405687094, 0.03092043288052082, -0.03355439752340317, -0.020169856026768684, 0.001936105778440833, -0.005632958374917507, 0.02197354845702648, 0.024378471076488495, 0.014973506331443787, 0.004237244371324778, -0.001169357798062265, -0.01860952004790306, 0.028214896097779274, 0.016204597428441048, -0.0186238344758749, 0.01988355629146099, 0.02664024382829666, -0.02201649360358715, 0.03472822904586792, -0.0002424605772830546, 0.01740705780684948, -0.00475974241271615, 0.013627894222736359, -0.027341678738594055, -0.0389082133769989, -0.029975641518831253, 0.01955431140959263, 0.01951136626303196, 0.012819096446037292, -0.015088026411831379, -0.005364552140235901, 0.0023906074929982424, 0.013033821247518063, -0.029374411329627037, 0.004065464250743389, -0.010879411362111568, -0.017865139991044998, 0.013298649340867996, 0.06395948678255081, -0.02079971693456173, -0.03100632317364216, -0.023648405447602272, 0.0160614475607872, -0.025681138038635254, -0.003471391275525093, -0.013391696847975254, 0.0382210910320282, 0.06006580591201782, -0.016762882471084595, -0.02380586974322796, -0.00014672891120426357, -0.0017696938011795282, -0.011373279616236687, -0.06241346523165703, -0.014816041104495525, -0.006788895931094885, -0.05548499897122383, 0.03424151614308357, 0.03418425843119621, 0.06264250725507736, 0.01992650143802166, -0.011222971603274345, -0.02370566502213478, -0.009490855038166046, -0.04400435835123062, -0.02749914489686489, 0.017521578818559647, -0.004691746085882187, -0.014758780598640442, -0.028129005804657936, 0.007665690500289202, 0.028272155672311783, 0.018137125298380852, -0.004974467679858208, -0.016290487721562386, 0.03530082851648331, 0.01949704997241497, -0.004247980657964945, -0.005690218415111303, 0.003158250357955694, 0.004627328831702471, -0.049844883382320404, -0.001359031768515706, -0.03232330456376076, 0.049758993089199066, 0.0008262447663582861, -0.0043267132714390755, 0.0006464124307967722, 0.007536855526268482, 0.005479072220623493, 0.011101294308900833, 0.003754112869501114, -0.01337738148868084, -0.01099393144249916, -0.009204555302858353, 0.018094180151820183, 0.02250320464372635, -0.01505939569324255, -0.026897914707660675, 0.0059335739351809025, 0.006584906950592995, 0.04360353574156761, -0.03301042690873146, 0.010185133665800095, 0.01057163905352354, 0.013856934383511543, 0.004888577852398157, 0.01225365325808525, -0.013635052368044853, 0.0071646650321781635, -0.013706627301871777, -0.03249508515000343, -0.042601484805345535, 0.025137167423963547, 0.06917015463113785, -0.012783308513462543, -0.005203507840633392, 0.021529782563447952, 9.959001181414351e-05, 0.019139176234602928, 0.04952995479106903, 0.03389795497059822, -0.00955527275800705, -0.02323327027261257, -0.04806981980800629, -0.015832407400012016, -0.03346850723028183, -0.015102340839803219, -0.08216819167137146, 0.024392785504460335, -0.030319202691316605, 0.03401247784495354, 0.028315100818872452, -0.009977566078305244, 0.011552217416465282, -0.014307857491075993, -0.014973506331443787, -0.01185283251106739, 0.007082353811711073, -0.04274463653564453, 0.010643213987350464, 0.005121196620166302, 0.002836162457242608, 0.02548072673380375, -0.014100289903581142, 0.007987778633832932, 0.004233665764331818, 0.004169248044490814, 0.05723142996430397, 0.0024174482095986605, -0.04695324972271919, -0.012518481351435184, -0.05723142996430397, -0.012139133177697659, 0.0031528822146356106, -0.003306768601760268, -0.006241346709430218, 0.005518438294529915, -0.014858986251056194, 0.020957183092832565, -0.004269453231245279, -0.002750272396951914, -0.015202546492218971, 0.009698422625660896, -0.026511408388614655, -0.02920263074338436, 0.02536620758473873, -0.009204555302858353, -0.04202888533473015, -0.026124902069568634, 0.03054824285209179, -0.014343645423650742, 0.002147252205759287, -0.009032774716615677, -0.010407015681266785, -0.01571788638830185, -0.035415347665548325, 0.01901034079492092, 0.02157272771000862, 0.007608430460095406, 0.03272412344813347, -0.02542346715927124, -0.0014798147603869438, -0.020613621920347214, 0.031951114535331726, -0.010385544039309025, 0.006130405236035585, 0.0051104603335261345, -0.021358001977205276, -0.043002307415008545, -0.017306853085756302, -0.0186954103410244, -0.051133234053850174, 0.002982891397550702, -0.007458122912794352, 0.03787752985954285, 0.0076943207532167435, -0.005185614340007305, -0.011423381976783276, 0.009175924584269524, 0.027814075350761414, 0.020012391731142998, 0.0405687540769577, 0.006828262470662594, -0.0022152485325932503, 0.025552302598953247, 0.01209618803113699, -0.013298649340867996, -0.020012391731142998, -0.008589008823037148, -0.021830398589372635, -0.01607576198875904, -0.004301662091165781, -0.02971797250211239, 0.016777198761701584, 0.016233228147029877, 0.05076104402542114, 0.0015764411073178053, -0.016719937324523926, -0.002349451882764697, 0.023991966620087624, 0.03653191775083542, -0.0160614475607872, -0.020613621920347214, -0.013420326635241508, -0.01943979039788246, 0.0013948193518444896, 0.04449106752872467, -0.035844799131155014, 0.026840653270483017, 0.0002865239803213626, 0.0021025179885327816, 0.037505339831113815, -0.020584991201758385, -0.01165242213755846, 0.034556448459625244, -0.00956242997199297, -0.04835612326860428, -0.00016439901082776487, 0.008589008823037148, -0.005729584954679012, 0.04494914785027504, 0.0020899921655654907, -0.022546149790287018, -0.0028773180674761534, -0.030834542587399483, -0.03100632317364216, 0.006116090342402458, 0.012933616526424885, -0.02240299992263317, -0.06567729264497757, 0.027384623885154724, -0.012418275699019432, 0.028214896097779274, -0.037047259509563446, 0.015488846227526665, -0.024034909904003143, -0.0168917179107666, -0.00022411945974454284, -0.004716797731816769, 0.008581851609051228, -0.05313733592629433, -0.011466327123343945, 0.03899409994482994, 0.05960772559046745, -0.02082834765315056, 0.026182163506746292, -0.0389082133769989, -0.016390692442655563, -0.00914729479700327, 0.00931191723793745, -0.015417271293699741, -0.04532133787870407, -0.0017974291695281863, -0.005525595974177122, 0.007050144951790571, -0.0022367211058735847, -0.03260960429906845, 0.018094180151820183, 0.003537598066031933, -0.040855053812265396, -0.030376462265849113, 0.011745469644665718, 0.023462310433387756, -0.0008074563229456544, 0.002170514315366745, -0.010908042080700397, -0.004079779144376516, 0.00040864894981496036, 0.03215152397751808, 0.02500833198428154, -0.03275275602936745, -0.05597170814871788, -0.014579842798411846, -0.023133065551519394, -0.015560422092676163, 0.012225023470818996, 0.06018032506108284, -0.02336210571229458, -0.0068712071515619755, 0.008753632195293903, 0.009125822223722935, 0.015617681667208672, -0.030004272237420082, 0.0005139985005371273, 0.020026706159114838, 0.01184567529708147, -0.028143320232629776, 0.03009016253054142, -0.016719937324523926, -0.025767028331756592, 0.005697376094758511, 0.0009787891758605838, 0.0038221091963350773, 0.014028714969754219, 0.0006088354857638478, -0.00254091527312994, -0.01422196812927723, 0.019282326102256775, -0.003086675191298127, 0.021715877577662468, -0.02875886671245098, -0.008538906462490559, -0.025251686573028564, 0.0014994979137554765, 0.048155710101127625, -0.018137125298380852, -0.0039795744232833385, -0.02246025949716568, 0.046437907963991165, -0.00762990303337574, -0.009870203211903572, 0.06676523387432098, -0.04125587269663811, 7.49301616451703e-05, 0.011072664521634579, 0.027470514178276062, 0.0010825730860233307, 0.045092299580574036, -0.013355908915400505, -0.017707673832774162, -0.015946926549077034, -0.002557019703090191, 0.0275564044713974, -0.03469959646463394, -0.005836947355419397, -0.033668916672468185, -0.004051149357110262, -0.003355081658810377, 0.004684588871896267, 0.021801767870783806, -0.007408020552247763, 0.0002769060665741563, 0.006058830302208662, 0.03950944170355797, -0.022617723792791367, -0.018809929490089417, 0.04277326539158821, 0.03355439752340317, -0.001891371444799006, -0.01690603233873844, -0.03478548675775528, 0.009877360425889492, -0.004706061445176601, -0.010328283533453941, -0.014715835452079773, 0.04964447394013405, -0.016247542575001717, 0.005343079566955566, 0.03003290295600891, -0.026940857991576195, 0.02246025949716568, 0.0141933374106884, 0.028200579807162285, -0.011802730150520802, 0.0501311831176281, 0.03260960429906845, -0.008016408421099186, 0.005278661847114563, 0.03303905576467514, 0.004688167478889227, 0.0044770208187401295, 0.005629379767924547, 0.009655477479100227, -0.03152166306972504, -0.001210513524711132, -0.009569588117301464, -0.010700473561882973, -0.018036918714642525, 0.026153532788157463, 0.02463614195585251, 0.0035483343526721, -0.005006676539778709, -0.016748568043112755, -0.004391130991280079, 0.003621698822826147, 0.01337738148868084, 0.009226026944816113, -0.0339265875518322, -0.004523545037955046, -0.011122766882181168, 0.027398940175771713, -0.0364173986017704, 0.012454063631594181, 0.02027006261050701, -0.039595331996679306, 0.0017652203096076846, 0.030777283012866974, -0.019754720851778984, 0.010950986295938492, -0.00047955301124602556, -0.025208741426467896, 0.016834458336234093, 0.005146247800439596, 0.016362061724066734, 0.009397807531058788, 0.0330963172018528, 0.028529824689030647, -0.02496538683772087, 0.024221006780862808, -0.005421812180429697, 0.009784312918782234, -0.020899921655654907, 0.022603409364819527, 0.013914194889366627, -0.05167720466852188, 0.003639592556282878, -0.02157272771000862, -0.022188274189829826, 0.0337834358215332, 0.0481843426823616, -0.029975641518831253, 0.019726091995835304, -0.02675476297736168, -0.013456114567816257, 0.04031108319759369, 0.029016535729169846, -0.012318070977926254, -0.0025516515597701073, 0.002084624022245407, -0.027857020497322083, 0.0011317809112370014, -0.01863815076649189, -0.011265916749835014, 0.039996154606342316, 0.002585649723187089, -0.01397145539522171, -0.012217865325510502, -0.016190283000469208, -0.0003202984808012843, -0.016047131270170212, -0.012196392752230167, 0.0030401514377444983, -0.016347747296094894, -0.014057344757020473, -0.005428969394415617, -0.0091043496504426, -0.010707631707191467, 0.011079821735620499, 0.018094180151820183, 0.024378471076488495, 0.015617681667208672, 0.011859990656375885, 0.025695452466607094, -0.013670839369297028, -0.024936756119132042, -0.05010255426168442, 0.034957267343997955, 0.012683103792369366, -0.016834458336234093, 0.014085975475609303, 0.0027985854540020227, 0.009268972091376781, -0.022689299657940865, 0.014773095957934856, -0.033268094062805176, -0.029975641518831253, 0.004566489718854427, 0.007289921399205923, 0.011659580282866955, 0.01209618803113699, 0.002762797987088561, 0.057374581694602966, -0.03152166306972504, -0.006939203478395939, -0.004484178498387337, 0.03246645629405975, -0.01168105285614729, 0.016047131270170212, 0.020255746319890022, 0.009090034291148186, -0.02329052984714508, 0.01566062681376934, 0.0005573909147642553, -0.018996024504303932, -0.008524592034518719, 0.022703614085912704, 0.019396845251321793, -0.016333432868123055, 0.04698187857866287, 0.01165242213755846, 0.0044304970651865005, 0.007594115566462278, -0.00849596131592989, -0.00582263246178627, -0.01098677422851324, 0.01123728696256876, 0.019754720851778984, 0.027699554339051247, -0.0013420326868072152, 0.010721946135163307, 0.07655670493841171, 0.008639112114906311, 0.023133065551519394, 0.008975514210760593, -0.03266686573624611, -0.023834500461816788, 0.028687290847301483, 0.0011926196748390794, -0.012826253660023212, 0.023118749260902405, 0.01123728696256876, -0.012425432913005352, 0.006724478676915169, 0.04575078934431076, 0.005801159888505936, 0.01617596670985222, 0.03134988248348236, -0.00011899356468347833, 0.04076916351914406, -0.0033479242119938135, 0.007994935847818851, 0.01693466305732727, 0.0448632575571537, -0.004233665764331818, 0.013921352103352547, 0.019625885412096977, 0.03730493038892746, 0.018881505355238914, -0.024235321208834648, 0.016261857002973557, 0.008517433889210224, 0.027327364310622215, -0.009247499518096447, 0.0137782022356987, 0.02412080019712448, -0.019225064665079117, 0.00260712206363678, 0.026353944092988968, 0.011051191948354244, -0.03278138488531113, -0.005711690988391638, -0.011817045509815216, -0.003322873031720519, -0.021486837416887283, -0.014479638077318668, -0.04157080501317978, 0.018766984343528748, 0.013191286474466324, 0.0032745597418397665, 0.008317023515701294, 0.01906760036945343, 0.01573220267891884, -0.0014654997503384948, 0.004187142010778189, 0.026525722816586494, -0.038765061646699905, 0.005658010020852089, 0.04480599984526634, 0.02705537900328636, -0.032409194856882095, -0.002911316230893135, 0.037075888365507126, -0.0397384837269783, 0.009247499518096447, -0.026497093960642815, 0.015374326147139072, 0.03633150830864906, 0.0006276239291764796, -0.0018251644214615226, -0.03341124579310417, 0.011058349162340164, -0.003473180579021573, 0.010092086158692837, 0.021830398589372635, 0.018552260473370552, 0.03510041907429695, -0.006019463762640953, 0.004723954945802689, -0.014930561184883118, 0.01566062681376934, -0.02157272771000862, -0.05036022514104843, 0.011330334469676018, 0.016047131270170212, -0.01777924969792366, -0.025165796279907227, -0.013964297249913216, 0.03950944170355797, -0.012418275699019432, 0.012475536204874516, -0.023061489686369896, 0.024865182116627693, 0.00935486238449812, -0.006534804590046406, 0.006341551896184683, 0.008567536249756813, -0.01037838589400053, 0.04033971205353737, 0.013484744355082512, 0.024049226194620132, 0.01077204942703247, -0.009698422625660896, 0.011129924096167088, 0.014171864837408066, -0.053996238857507706, -0.0037040102761238813, 0.0023082962725311518, -0.00975568313151598, -3.559182368917391e-05, -0.02333347499370575, 0.041313134133815765, 0.02622510865330696, 0.00381137290969491, -0.012010297738015652, -0.014107448048889637, 0.015002136118710041, 0.02757071889936924, 0.0019325270550325513, -0.0008499540272168815, -0.009884517639875412, 0.03991026431322098, -0.027713868767023087, -0.013184129260480404, 0.012940773740410805, 0.029102426022291183, 0.0029148950707167387, 0.018509315326809883, -0.026912229135632515, -0.027298733592033386, 0.005997991655021906, -0.023161694407463074, 0.014121762476861477, 0.00930476002395153, 0.007121720351278782, -0.004262296017259359, 0.02085697650909424, -0.016376378014683723, 0.011215814389288425, -0.012668788433074951, 0.0062306104227900505, 0.014944875612854958, -0.0005560488789342344, 0.049386803060770035, -0.005661588627845049, 0.0028916331939399242, -0.028973590582609177, 0.03607383742928505, -0.00803788099437952, 0.030691392719745636, -0.0019110545981675386, -0.010908042080700397, -0.022345738485455513, -0.019210750237107277, 0.029073795303702354, 0.05465472862124443, -0.021529782563447952, 0.004838475026190281, -0.005654430948197842, 0.0005417338688857853, -0.019182121381163597, -0.03166481480002403, -0.010893726721405983, 0.007601273246109486, 0.0007112773018889129, 0.014622787944972515, -0.0041334605775773525, 0.02463614195585251, -0.0037648489233106375, -0.008954041637480259, 0.01504508126527071, 0.04864242300391197, -0.01097961701452732, 0.0019021076150238514, 0.027298733592033386, 0.01692034862935543, -0.00045785680413246155, -0.011058349162340164, -0.023891760036349297, -0.014164707623422146, 0.020470472052693367, 0.0012955089332535863, -0.009426437318325043, -0.015488846227526665, 0.010478591546416283, 0.05184898525476456, -0.01185283251106739, -0.03006153181195259, -0.01785082370042801, -0.01102256216108799, 0.003032993758097291, -0.03893684223294258, 0.1257430911064148, -0.006438178010284901, -0.048442013561725616, -0.01357063464820385, 0.05299418792128563, -0.033239465206861496, 0.021701563149690628, -0.01866677962243557, 0.0048098452389240265, -0.027227159589529037, -0.00037151938886381686, -0.015374326147139072, -0.06281428784132004, 0.020642252638936043, -0.015832407400012016, 0.030176052823662758, 0.003088464494794607, -0.009333389811217785, 0.011809887364506721, -0.012668788433074951, 0.02580997347831726, -0.054454319179058075, -0.024306895211338997, -0.020885607227683067, -0.0340697355568409, -0.015417271293699741, -0.008617639541625977, 0.026869283989071846, 0.02917400188744068, 0.014322172850370407, -0.005629379767924547, -0.003236982738599181, 0.0030204681679606438, -0.010106400586664677, -0.00829555094242096, 0.023447996005415916, -0.021315058693289757, -0.01699192263185978, 0.0014816040638834238, 0.020885607227683067, -0.013728099875152111, -0.0028719499241560698, -0.01422912534326315, -0.003696852596476674, 0.015202546492218971, 0.01524549163877964, -0.0203559510409832, -0.019353900104761124, -0.024321211501955986, 0.011086978949606419, -0.02377724088728428, 0.00030620713368989527, 0.03260960429906845, 0.01312686875462532, 0.026382572948932648, -0.026096273213624954, 0.04443380609154701, 0.03003290295600891, 0.023619774729013443, -0.00935486238449812, 0.0073507605120539665, 0.03727630153298378, 0.008503119461238384, 0.0055935923010110855, 0.0018591625848785043, 0.015846721827983856, -0.0060803028754889965, 0.025165796279907227, -0.01785082370042801, 0.02963208220899105, 0.015989871695637703, -0.008209661580622196, 0.02370566502213478, 0.023047175258398056, 0.005457599647343159, -0.00307593890465796, -0.030261943116784096, 0.03421288728713989, -0.009841573424637318, 0.01210334524512291, 0.016634047031402588, -0.04013930261135101, 0.0448632575571537, 0.03218015283346176, 0.0009743157424964011, 0.025223057717084885, -0.00869637168943882, 0.0032924534752964973, -0.005275083240121603, -0.003725482849404216, 0.010228078812360764, -0.0028486880473792553, 0.014522583223879337, 0.012690261006355286, -0.0013635052600875497, 0.02370566502213478, -0.058319371193647385, 0.0127045763656497, -0.02963208220899105, 0.010271023958921432, -0.001597913564182818, 0.020627936348319054, 0.026353944092988968, -0.009412122890353203, -0.014114605262875557, -0.020126910880208015, 0.024893810972571373, -0.05385308712720871, -0.028615714982151985, -0.014365117996931076, 0.001848426298238337, -0.0015898613492026925, 0.0372476689517498, 0.01123012974858284, 0.022660668939352036, -0.054511576890945435, -0.026955174282193184, -0.02334778942167759, 0.0030419407412409782, -0.004094094503670931, 0.03907999023795128, 0.03561575710773468, 0.004587962292134762, -0.020957183092832565, 0.030290571972727776, -0.022259848192334175, 0.030805913731455803, 0.02201649360358715, 0.0049601527862250805, 0.009841573424637318, -0.010750576853752136, -0.00022646802244707942, 0.006638588383793831, 0.024879496544599533, 0.031607553362846375, 0.023032858967781067, -0.029002221301198006, -5.091336424811743e-05, -0.0017517999513074756, -0.015431586652994156, -0.02546641230583191, -0.02844393625855446, -0.0186954103410244, 0.004333870951086283, 0.0018555838614702225, 0.011201499961316586, 0.018953081220388412, -0.0030616240110248327, -0.03736219182610512, -0.01614733785390854, -0.002998995827510953, -0.05093282461166382, 0.013813990168273449, 0.007608430460095406, 0.005908522754907608, -0.04967310279607773, 0.0012078294530510902, 0.011330334469676018, 0.029861122369766235, -0.017163703218102455, -0.014078817330300808, -0.02208806946873665, -0.022674983367323875, 0.0067208996042609215, -0.015560422092676163, 0.01484467089176178, -0.020527731627225876, 0.025566617026925087, 0.011859990656375885, 0.008317023515701294, -0.00955527275800705, -0.03395521640777588, -0.028672976419329643, -0.005768951028585434, -0.011409067548811436, 0.007887573912739754, -0.011731155216693878, 0.051047343760728836, 0.01566062681376934, 0.0019772613886743784, -0.03636013716459274, -0.016362061724066734, 0.02668318897485733, -0.011859990656375885, 0.0037362189032137394, 0.01440090499818325, 0.019167805090546608, -0.026153532788157463, -0.007637060713022947, -0.004212193191051483, -0.0279715396463871, -0.0364173986017704, 0.02038458175957203, -0.007304236758500338, -0.00581905385479331, 0.00803788099437952, -0.05116186663508415, -0.060409363359212875, 0.023433679714798927, 0.0014270280953496695, -0.03530082851648331, -0.010550166480243206, 0.0023530307225883007, 0.02844393625855446, 0.023018544539809227, 0.01316265668720007, -0.01078636385500431, 0.01185283251106739, 0.00103515456430614, 0.00783031340688467, 0.0042801895178854465, 0.0266545582562685, 0.004101251717656851, 0.020570676773786545, 0.04789804294705391, 0.029345780611038208, -0.0026697502471506596, 0.038392871618270874, 0.02548072673380375, -0.0011407277779653668, -0.0191105455160141, 0.024321211501955986, 0.022288478910923004, -0.046037089079618454, 0.004154933150857687, 0.018409110605716705, -0.006438178010284901, -0.000177260153577663, -0.010757734067738056, 0.01743568852543831, 0.03896547108888626, -0.004308819770812988, -0.005811896175146103, 0.03512904793024063, -0.00019101599173154682, 0.015002136118710041, 0.00783031340688467, -0.029102426022291183, -0.016848772764205933, 0.014558370225131512, -0.014758780598640442, -0.017721988260746002, 0.0190389696508646, -0.018852874636650085, 0.007393705192953348, 0.03269549459218979, 0.029832491651177406, -0.019668830558657646, -0.009999038651585579, 0.012339543551206589, 0.0014010821469128132, 0.018580889329314232, -0.022374369204044342, -0.024693401530385017, 0.023004230111837387, -0.012668788433074951, 0.03521493822336197, -0.04125587269663811, 0.019239380955696106, -0.022360054776072502, -0.014028714969754219, -0.00307593890465796, 0.023075804114341736, -0.008145243860781193, -0.008746474049985409, -0.010965301655232906, 0.007125298958271742, 0.01742137409746647, 0.014128919690847397, -0.006588486023247242, -0.01742137409746647, 0.015216860920190811, -0.009333389811217785, 0.008417229168117046, -0.01785082370042801, 0.014873300679028034, -0.015975557267665863, -0.0017482212278991938, 0.011151396669447422, -0.020556362345814705, -0.007601273246109486, 0.010886569507420063, -0.015603366307914257, 0.03859328106045723, -0.051047343760728836, 0.027413254603743553, -0.007408020552247763, -0.00888962484896183, -0.004545017145574093, 0.008782261982560158, 0.03784890100359917, 0.03782027214765549, 0.0036592758260667324, 0.00541823310777545, -0.0027574298437684774, -0.00026661716401576996, -0.007239819038659334, -0.03598794713616371, 0.0037433765828609467, 0.02580997347831726, 0.0020792558789253235, -0.004974467679858208, -0.0030974114779382944, -0.010313968174159527, -0.01504508126527071, 0.021429577842354774, 0.0135348467156291, 0.004330292344093323, -0.002820058027282357, 0.02662592940032482, 0.00950517039746046, 0.006609958130866289, 0.01437943335622549, 0.01703486777842045, -0.026525722816586494, 0.016018502414226532, -0.003886526683345437, -0.04111272469162941, 0.00047507957788184285, 0.01123728696256876, 0.024049226194620132, 0.02789996564388275, -0.008825207129120827, -0.004047570750117302, -0.01082930900156498, -0.016777198761701584, 0.01296940352767706, 0.020126910880208015, 0.040024783462285995, -0.03532945737242699, -0.010543008334934711, -0.004895735066384077, 0.006287870462983847, 0.001834111288189888, 0.02834372967481613, -0.03126399219036102, -0.03315357491374016, 0.014687205664813519, 0.022603409364819527, -0.00582621106877923, -0.023018544539809227, -0.013685154728591442, -0.008016408421099186, 0.027441885322332382, -0.016218911856412888, 0.03524356707930565, 0.006295028142631054, -0.01777924969792366, 0.023576829582452774, 0.01571788638830185, -0.02330484427511692, -0.010865096934139729, 0.013677997514605522, -0.01822301372885704, -0.023605460301041603, 0.0028307943139225245, 0.01164526492357254, -0.015016451478004456, 0.031206732615828514, -0.05542773753404617, -0.0036431713961064816, -0.041771214455366135, 0.013813990168273449, 0.01164526492357254, -0.03220878541469574, 0.0509614534676075, -0.011330334469676018, 0.0013831884134560823, 0.02075677178800106, 0.006291449069976807, -0.0041334605775773525, -0.022646354511380196, 0.03301042690873146, -0.0203559510409832, -0.012690261006355286, -0.005049621686339378, -0.002231352962553501, 0.014000085182487965, 0.011215814389288425, -0.01464426051825285, -0.030634133145213127, -0.031636182218790054, -0.0156463123857975, 0.018366165459156036, 0.024006281048059464, 0.0009591060224920511, -0.01902465522289276, -0.017077812924981117, -0.012189235538244247], index=1, object='embedding')]\n"
     ]
    }
   ],
   "source": [
    "%load_ext autoreload\n",
    "%autoreload 2\n",
    "%reload_ext autoreload\n",
    "\n",
    "from datetime import datetime\n",
    "from pathlib import Path\n",
    "import sys\n",
    "\n",
    "# Add the project root to Python path\n",
    "project_root = Path.cwd().parent\n",
    "sys.path.append(str(project_root))\n",
    "\n",
    "from knowledge_base.src.utils.embeddings import EmbeddingClient\n",
    "\n",
    "embedding_client = EmbeddingClient()\n",
    "\n",
    "\n",
    "test_text = \"Hello World!\"\n",
    "embedding = embedding_client.get_embedding(test_text)\n",
    "print(embedding)\n",
    "\n",
    "\n",
    "test_text_list = [\"Hello World!\", \"Why hello!\"]\n",
    "embeddings_list = embedding_client.get_embeddings_batch(test_text_list)\n",
    "print(embeddings_list)"
   ]
  },
  {
   "cell_type": "markdown",
   "id": "ec0702cc",
   "metadata": {},
   "source": [
    "## Test to calculate distances of similar and different embeddings"
   ]
  },
  {
   "cell_type": "code",
   "execution_count": 24,
   "id": "77192312",
   "metadata": {},
   "outputs": [
    {
     "name": "stderr",
     "output_type": "stream",
     "text": [
      "2025-08-06 16:28:15,098 - httpx - INFO - HTTP Request: POST https://api.openai.com/v1/embeddings \"HTTP/1.1 200 OK\"\n",
      "2025-08-06 16:28:15,282 - httpx - INFO - HTTP Request: POST https://api.openai.com/v1/embeddings \"HTTP/1.1 200 OK\"\n",
      "2025-08-06 16:28:16,113 - httpx - INFO - HTTP Request: POST https://api.openai.com/v1/embeddings \"HTTP/1.1 200 OK\"\n",
      "2025-08-06 16:28:16,417 - httpx - INFO - HTTP Request: POST https://api.openai.com/v1/embeddings \"HTTP/1.1 200 OK\"\n"
     ]
    },
    {
     "name": "stdout",
     "output_type": "stream",
     "text": [
      "Text 1 & 2: Cosine=0.003, Euclidean=1.412\n",
      "  Text 1: The stock market reached a record high.\n",
      "  Text 2: Penguins habitate Antarctica.\n",
      "\n",
      "Text 1 & 3: Cosine=0.000, Euclidean=1.414\n",
      "  Text 1: The stock market reached a record high.\n",
      "  Text 3: Penguins live in Antarctica.\n",
      "\n",
      "Text 1 & 4: Cosine=0.039, Euclidean=1.387\n",
      "  Text 1: The stock market reached a record high.\n",
      "  Text 4: Penguins live in Antarctica!\n",
      "\n",
      "Text 2 & 3: Cosine=0.893, Euclidean=0.464\n",
      "  Text 2: Penguins habitate Antarctica.\n",
      "  Text 3: Penguins live in Antarctica.\n",
      "\n",
      "Text 2 & 4: Cosine=0.842, Euclidean=0.562\n",
      "  Text 2: Penguins habitate Antarctica.\n",
      "  Text 4: Penguins live in Antarctica!\n",
      "\n",
      "Text 3 & 4: Cosine=0.938, Euclidean=0.351\n",
      "  Text 3: Penguins live in Antarctica.\n",
      "  Text 4: Penguins live in Antarctica!\n",
      "\n"
     ]
    }
   ],
   "source": [
    "import numpy as np\n",
    "from knowledge_base.src.utils.embeddings import EmbeddingClient\n",
    "\n",
    "client = EmbeddingClient()\n",
    "texts = [\n",
    "    \"The stock market reached a record high.\",  # Similar to next line\n",
    "    \"Penguins habitate Antarctica.\",     # Similar\n",
    "    \"Penguins live in Antarctica.\",             # Different\n",
    "    \"Penguins live in Antarctica!\"           \n",
    "]\n",
    "embeddings = [client.get_embedding(text) for text in texts]\n",
    "\n",
    "\n",
    "# Cosine similarity (using dot product since OpenAI embeddings are normalized)\n",
    "def cosine_similarity(a, b):\n",
    "    return np.dot(a, b)  # Equivalent to cosine if vectors are normalized\n",
    "\n",
    "# Euclidean distance\n",
    "def euclidean_distance(a, b):\n",
    "    return np.linalg.norm(np.array(a) - np.array(b))\n",
    "\n",
    "# Compare all pairs\n",
    "for i in range(len(texts)):\n",
    "    for j in range(i+1, len(texts)):\n",
    "        sim = cosine_similarity(embeddings[i], embeddings[j])\n",
    "        dist = euclidean_distance(embeddings[i], embeddings[j])\n",
    "        print(f\"Text {i+1} & {j+1}: Cosine={sim:.3f}, Euclidean={dist:.3f}\")\n",
    "        print(f\"  Text {i+1}: {texts[i]}\")\n",
    "        print(f\"  Text {j+1}: {texts[j]}\\n\")"
   ]
  },
  {
   "cell_type": "markdown",
   "id": "664140ec",
   "metadata": {},
   "source": [
    "## Qdrant DB"
   ]
  },
  {
   "cell_type": "code",
   "execution_count": 4,
   "id": "0cd2d7d5",
   "metadata": {},
   "outputs": [
    {
     "name": "stdout",
     "output_type": "stream",
     "text": [
      "docker: invalid reference format: repository name (library/Insight) must be lowercase\n",
      "\n",
      "Run 'docker run --help' for more information\n"
     ]
    }
   ],
   "source": [
    "!docker run -p 6333:6333 -p 6334:6334 \\\n",
    "    -v $(pwd)/qdrant_storage:/qdrant/storage \\\n",
    "    qdrant/qdrant"
   ]
  },
  {
   "cell_type": "code",
   "execution_count": 9,
   "id": "d17bc557",
   "metadata": {},
   "outputs": [
    {
     "name": "stdout",
     "output_type": "stream",
     "text": [
      "Qdrant container is already running.\n"
     ]
    }
   ],
   "source": [
    "import os\n",
    "import docker\n",
    "from qdrant_client import QdrantClient\n",
    "\n",
    "def start_qdrant_container():\n",
    "    client = docker.from_env()\n",
    "    qdrant_storage = os.path.abspath(\"knowledge_base/data/qdrant_storage\")\n",
    "    \n",
    "    # Check if Qdrant container is already running\n",
    "    containers = client.containers.list(filters={\"name\": \"qdrant\"})\n",
    "    if containers:\n",
    "        print(\"Qdrant container is already running.\")\n",
    "        return containers[0]\n",
    "    \n",
    "    # Start Qdrant container if not running\n",
    "    container = client.containers.run(\n",
    "        image=\"qdrant/qdrant\",\n",
    "        name=\"qdrant\",\n",
    "        ports={\"6333/tcp\": 6333, \"6334/tcp\": 6334},\n",
    "        volumes={qdrant_storage: {\"bind\": \"/qdrant/storage\", \"mode\": \"rw\"}},\n",
    "        detach=True,\n",
    "        remove=True,  # Auto-remove container when stopped\n",
    "    )\n",
    "    print(\"Qdrant container started successfully.\")\n",
    "    return container\n",
    "\n",
    "# Start Qdrant and get a Python client\n",
    "container = start_qdrant_container()\n",
    "qdrant_client = QdrantClient(host=\"localhost\", port=6333)"
   ]
  },
  {
   "cell_type": "code",
   "execution_count": 11,
   "id": "964bb2d1",
   "metadata": {},
   "outputs": [
    {
     "name": "stdout",
     "output_type": "stream",
     "text": [
      "collections=[]\n"
     ]
    }
   ],
   "source": [
    "print(qdrant_client.get_collections())"
   ]
  }
 ],
 "metadata": {
  "kernelspec": {
   "display_name": "venv",
   "language": "python",
   "name": "python3"
  },
  "language_info": {
   "codemirror_mode": {
    "name": "ipython",
    "version": 3
   },
   "file_extension": ".py",
   "mimetype": "text/x-python",
   "name": "python",
   "nbconvert_exporter": "python",
   "pygments_lexer": "ipython3",
   "version": "3.9.6"
  }
 },
 "nbformat": 4,
 "nbformat_minor": 5
}
